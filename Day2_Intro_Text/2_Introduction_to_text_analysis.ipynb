{
 "cells": [
  {
   "cell_type": "markdown",
   "id": "5c9a503d-8fdb-4f41-abbc-c4dcdfc14085",
   "metadata": {},
   "source": [
    "<span>\n",
    "<b>Methods Workshop in Quantitative Text Analysis </b><br/>     \n",
    "<b>Author:</b> <a href=\"https://github.com/jisukimmmm\">Jisu Kim</a><br/>\n",
    "<b>Python version:</b>  >=3.6<br/>\n",
    "<b>Last update:</b> 21/03/2024\n",
    "</span>"
   ]
  },
  {
   "cell_type": "markdown",
   "id": "5ac459fd-6c68-4033-8f20-50e4cccae932",
   "metadata": {},
   "source": [
    "<a id='top'></a>\n",
    "# *Introduction to Text pre-processing in Python*\n",
    "\n",
    "\n"
   ]
  },
  {
   "cell_type": "markdown",
   "id": "64cff566-bf57-4c9f-9f56-4e4d39fc32f6",
   "metadata": {},
   "source": [
    "## Table of Contents\n",
    "\n",
    "1. [Build-in string manipulation functions](#mani)\n",
    "2. [Lowercasing](#lower)\n",
    "3. [Removing](#puct)\n",
    "4. [Handling Contractions](#contract)\n",
    "5. [Spell checking and correction](#spell)\n",
    "6. [Tokenization](#token)\n",
    "7. [Regular expressions](#re)\n",
    "8. [Normalisation](#normal)\n",
    "9. [Stemming](#stem)\n",
    "10. [Lemmatisation](#lem)\n",
    "11. [Part of Speach](#pos)\n",
    "12. [Named Entity Recognition](#NER)\n",
    "13. [Bag of Words](#bow)\n",
    "14. [TF-IDF](#TFIDF)\n",
    "15. [Word Embeddings](#embedding)\n",
    "16. [N-grams](#ngrams)\n",
    "17. [Text length and complexity](#text)\n",
    "18. [Collocation and Terminology extraction](#colloc)"
   ]
  },
  {
   "cell_type": "markdown",
   "id": "80f00388-c023-4394-b5e3-ade8e245dc79",
   "metadata": {},
   "source": [
    "<a id='mani'></a>\n",
    "## 1. Python's built-in string manipulation functionality ([to top](#mani))\n",
    ">\n",
    "Python's built-in string manipulation functionality and are very useful for a wide range of text processing tasks."
   ]
  },
  {
   "cell_type": "code",
   "execution_count": 2,
   "id": "ae55d03f-5376-4b09-a462-47fb56e981f7",
   "metadata": {},
   "outputs": [
    {
     "data": {
      "text/plain": [
       "str"
      ]
     },
     "execution_count": 2,
     "metadata": {},
     "output_type": "execute_result"
    }
   ],
   "source": [
    "text = \"Python is a powerful programming language. Python is popular for web development, data analysis, artificial intelligence, and more.\"\n",
    "type(text)"
   ]
  },
  {
   "cell_type": "markdown",
   "id": "8879dc24-b270-4328-9676-59eaa4c614f9",
   "metadata": {},
   "source": [
    "Index of first instance of string 'Python' inside text using `.find()` (-1 if not found) "
   ]
  },
  {
   "cell_type": "code",
   "execution_count": 3,
   "id": "0611a0d2-59b9-4047-bc7a-e6d00ecebca6",
   "metadata": {},
   "outputs": [
    {
     "name": "stdout",
     "output_type": "stream",
     "text": [
      "First occurrence of 'Python': 0\n"
     ]
    }
   ],
   "source": [
    "index_first = text.find(\"Python\")\n",
    "print(f\"First occurrence of 'Python': {index_first}\")  # Output: 0"
   ]
  },
  {
   "cell_type": "markdown",
   "id": "f2392fdb-68c7-4586-ad26-1683eceb2dc4",
   "metadata": {},
   "source": [
    "Index of last instance of string Python inside text using `.rfind` (-1 if not found)"
   ]
  },
  {
   "cell_type": "code",
   "execution_count": 4,
   "id": "155c52fa-dacf-42f2-beeb-86cd9b5b571a",
   "metadata": {},
   "outputs": [
    {
     "name": "stdout",
     "output_type": "stream",
     "text": [
      "Last occurrence of 'Python': 43\n"
     ]
    }
   ],
   "source": [
    "index_last = text.rfind(\"Python\")\n",
    "print(f\"Last occurrence of 'Python': {index_last}\")  # Output: 46"
   ]
  },
  {
   "cell_type": "markdown",
   "id": "0c65d2b7-79ee-446d-8d35-90a775bc5bc7",
   "metadata": {},
   "source": [
    "Like `text.find(\"Python\")`, you can use `.index()` except it raises `ValueError` if not found"
   ]
  },
  {
   "cell_type": "code",
   "execution_count": 23,
   "id": "deff4406-8676-4986-81a1-9e0c810efa9d",
   "metadata": {},
   "outputs": [
    {
     "name": "stdout",
     "output_type": "stream",
     "text": [
      "First occurrence of 'Python' using index: 0\n"
     ]
    }
   ],
   "source": [
    "index_first_index = text.index(\"Python\")\n",
    "print(f\"First occurrence of 'Python' using index: {index_first_index}\")  # Output: 0"
   ]
  },
  {
   "cell_type": "markdown",
   "id": "87189f92-ef6d-48ff-a512-08376c1f51d1",
   "metadata": {},
   "source": [
    "Like `text.rfind(\"Python\")`, you can use `.rindex()` except it raises ValueError if not found"
   ]
  },
  {
   "cell_type": "code",
   "execution_count": 24,
   "id": "1f8bd413-072b-4d66-a3fa-f2b92a029909",
   "metadata": {},
   "outputs": [
    {
     "name": "stdout",
     "output_type": "stream",
     "text": [
      "Last occurrence of 'Python' using rindex: 43\n"
     ]
    }
   ],
   "source": [
    "index_last_index = text.rindex(\"Python\")\n",
    "print(f\"Last occurrence of 'Python' using rindex: {index_last_index}\")  # Output: 46"
   ]
  },
  {
   "cell_type": "markdown",
   "id": "8d3dfb48-fca3-4294-a586-c3ad27c99069",
   "metadata": {},
   "source": [
    "You can combine the words of the text using `.join()` into a string using `|` as the glue"
   ]
  },
  {
   "cell_type": "code",
   "execution_count": 25,
   "id": "19f415f9-4730-4991-ab6c-e161a22e984c",
   "metadata": {},
   "outputs": [
    {
     "name": "stdout",
     "output_type": "stream",
     "text": [
      "Joined text: Python | is | fun\n"
     ]
    }
   ],
   "source": [
    "separator = \" | \"\n",
    "words = [\"Python\", \"is\", \"fun\"]\n",
    "joined_text = separator.join(words)\n",
    "print(f\"Joined text: {joined_text}\")  # Output: Python | is | fun"
   ]
  },
  {
   "cell_type": "markdown",
   "id": "84df8aa8-5c4b-4f86-96fc-64cd7ad1a13a",
   "metadata": {},
   "source": [
    "Split text into a list using `.split()` wherever a Python is found (whitespace by default)"
   ]
  },
  {
   "cell_type": "code",
   "execution_count": 26,
   "id": "5cae914e-449f-4312-84bd-d13f77cc371c",
   "metadata": {},
   "outputs": [
    {
     "name": "stdout",
     "output_type": "stream",
     "text": [
      "Split text by space: ['Python', 'is', 'a', 'powerful', 'programming', 'language.', 'Python', 'is', 'popular', 'for', 'web', 'development,', 'data', 'analysis,', 'artificial', 'intelligence,', 'and', 'more.']\n"
     ]
    }
   ],
   "source": [
    "split_text = text.split(\" \")\n",
    "print(f\"Split text by space: {split_text}\")"
   ]
  },
  {
   "cell_type": "markdown",
   "id": "c17294a1-ba00-43fd-afff-4f6bc33c6498",
   "metadata": {},
   "source": [
    "Split \"Python\" into a list of strings, one per line using `.splitlines()`"
   ]
  },
  {
   "cell_type": "code",
   "execution_count": 27,
   "id": "edecb885-003a-49c0-a867-6f31359e5ee0",
   "metadata": {},
   "outputs": [
    {
     "name": "stdout",
     "output_type": "stream",
     "text": [
      "Split lines: ['Python is powerful.', 'Python is popular.']\n"
     ]
    }
   ],
   "source": [
    "multi_line_text = \"Python is powerful.\\nPython is popular.\"\n",
    "split_lines = multi_line_text.splitlines()\n",
    "print(f\"Split lines: {split_lines}\")  # Output: ['Python is powerful.', 'Python is popular.']"
   ]
  },
  {
   "cell_type": "markdown",
   "id": "ac43a0c5-8618-44e3-864a-91614fd31506",
   "metadata": {},
   "source": [
    "A titlecased version of the string using `.title()`"
   ]
  },
  {
   "cell_type": "code",
   "execution_count": 28,
   "id": "816ebb37-215d-456a-998a-17f4cebbf6ef",
   "metadata": {},
   "outputs": [
    {
     "name": "stdout",
     "output_type": "stream",
     "text": [
      "Title cased text: Python Is A Powerful Programming Language. Python Is Popular For Web Development, Data Analysis, Artificial Intelligence, And More.\n"
     ]
    }
   ],
   "source": [
    "title_text = text.title()\n",
    "print(f\"Title cased text: {title_text}\")"
   ]
  },
  {
   "cell_type": "markdown",
   "id": "529763eb-66cc-4a3c-9787-ca399a8b8021",
   "metadata": {},
   "source": [
    "A copy of text without leading or trailing whitespace using `.strip()`"
   ]
  },
  {
   "cell_type": "code",
   "execution_count": 5,
   "id": "84353969-bc17-46ff-9553-e2c5968d1f29",
   "metadata": {},
   "outputs": [
    {
     "name": "stdout",
     "output_type": "stream",
     "text": [
      "Stripped text: 'Python is great!'\n"
     ]
    }
   ],
   "source": [
    "padded_text = \"   Python is great!   \"\n",
    "stripped_text = padded_text.strip()\n",
    "print(f\"Stripped text: '{stripped_text}'\")  # Output: 'Python is great!'"
   ]
  },
  {
   "cell_type": "markdown",
   "id": "8351fdc4-9001-438e-8e42-ae929a4d4bbc",
   "metadata": {},
   "source": [
    "Replace instances of \"Python\" with \"JavaScript\" inside text using `.replace()`"
   ]
  },
  {
   "cell_type": "code",
   "execution_count": 30,
   "id": "75fc2aa1-f6bd-4fbd-b695-8557ac1088d0",
   "metadata": {},
   "outputs": [
    {
     "name": "stdout",
     "output_type": "stream",
     "text": [
      "Text with replacements: JavaScript is a powerful programming language. JavaScript is popular for web development, data analysis, artificial intelligence, and more.\n"
     ]
    }
   ],
   "source": [
    "replaced_text = text.replace(\"Python\", \"JavaScript\")\n",
    "print(f\"Text with replacements: {replaced_text}\")"
   ]
  },
  {
   "cell_type": "markdown",
   "id": "7d81c764-92fe-43f5-a121-a77859a70280",
   "metadata": {},
   "source": [
    "<a id='lower'></a>\n",
    "## 2. Lower and Upper case ([to top](#lower))\n",
    ">\n",
    "\n",
    "In text analysis, changing text to lower case is a common preprocessing step that helps standardize the data. Here are few reasons why we do this:\n",
    "1.  <u>Normalization</u>: Text data often contains the same word in different cases (e.g., \"Apple\" vs. \"apple\"). Converting everything to lower case treats these variations as the same word, reducing redundancy and simplifying the analysis.\n",
    "2. <u>Improved Matching</u>: Many text analysis tasks, such as searching, tokenization, and keyword extraction, rely on matching words accurately. Lowercasing ensures that \"The\", \"the\", and \"THE\" are recognized as the same word, improving consistency.\n",
    "3. <u>Reducing Dimensionality</u>: Text data in natural language processing (NLP) can be very high-dimensional. Lowercasing helps reduce the number of unique tokens (words) in the corpus, which can improve the performance of machine learning models and make computations more efficient.\n",
    "4. <u>Simplifying Models</u>: Many machine learning models, especially those involving bag-of-words or term frequency-inverse document frequency (TF-IDF) representations, perform better and are easier to interpret when case variations are eliminated.Avoiding Case Sensitivity Issues: Case sensitivity can introduce noise and inconsistencies in the data. For example, \"usa\", \"USA\", and \"Usa\" should generally be treated as the same entity in most text analysis contexts. Lowercasing helps to avoid these issues.\n",
    "\n",
    "Overall, converting text to lower case is a straightforward and effective way to enhance the quality and consistency of text data, making subsequent analysis more robust and reliable."
   ]
  },
  {
   "cell_type": "code",
   "execution_count": 5,
   "id": "5e3affe1-b414-44c3-a34d-a138e5138228",
   "metadata": {},
   "outputs": [
    {
     "name": "stdout",
     "output_type": "stream",
     "text": [
      "this is an example text with capitalized and lowercase words.\n"
     ]
    }
   ],
   "source": [
    "# Sample text\n",
    "text = \"This is an Example Text with CAPITALIZED and lowercase words.\"\n",
    "\n",
    "# Convert text to lowercase\n",
    "lowercase_text = text.lower()\n",
    "\n",
    "# Display lowercase text\n",
    "print(lowercase_text)\n"
   ]
  },
  {
   "cell_type": "code",
   "execution_count": 7,
   "id": "69292499-3e9f-444b-a4e3-0d3e685034f0",
   "metadata": {},
   "outputs": [
    {
     "name": "stdout",
     "output_type": "stream",
     "text": [
      "THIS IS AN EXAMPLE TEXT WITH CAPITALIZED AND LOWERCASE WORDS.\n"
     ]
    }
   ],
   "source": [
    "# Convert text to uppercase\n",
    "uppercase_text= text.upper()\n",
    "\n",
    "# Display uppercase text\n",
    "print(uppercase_text)"
   ]
  },
  {
   "cell_type": "markdown",
   "id": "bad0f485-ce87-47a0-a7b4-eff758167c48",
   "metadata": {},
   "source": [
    "<a id='puct'></a>\n",
    "## 3. Removing ([to top](#puct))\n",
    ">\n",
    "\n",
    "**Punctuation** such as commas, periods, exclamation marks, etc., can be removed from text using the `string.punctuation` module in Python. This step helps to focus on the essential content of the text.\n"
   ]
  },
  {
   "cell_type": "code",
   "execution_count": 6,
   "id": "96e1de9d-f4bd-4b07-b5cd-7ef7eba9353d",
   "metadata": {},
   "outputs": [
    {
     "name": "stdout",
     "output_type": "stream",
     "text": [
      "This text contains punctuation Can we remove it\n"
     ]
    }
   ],
   "source": [
    "import string\n",
    "\n",
    "# Sample text with punctuation\n",
    "text = \"This text, contains punctuation! Can we remove it?\"\n",
    "\n",
    "# Remove punctuation\n",
    "text_without_punctuation = text.translate(str.maketrans('', '', string.punctuation))\n",
    "\n",
    "# Display text without punctuation\n",
    "print(text_without_punctuation)"
   ]
  },
  {
   "cell_type": "markdown",
   "id": "de142b17-bb50-44d5-bef5-77309b02eb97",
   "metadata": {},
   "source": [
    "**Stopwords** are common words (e.g., \"the\", \"is\", \"and\") that often do not carry significant meaning in text analysis. Removing stopwords helps to focus on the meaningful content of the text."
   ]
  },
  {
   "cell_type": "code",
   "execution_count": 7,
   "id": "c58be02a-d9cb-43da-956b-18f0ac3e826b",
   "metadata": {},
   "outputs": [
    {
     "name": "stdout",
     "output_type": "stream",
     "text": [
      "sample sentence stopwords need removed .\n"
     ]
    },
    {
     "name": "stderr",
     "output_type": "stream",
     "text": [
      "[nltk_data] Error loading punkt: <urlopen error [Errno 11001]\n",
      "[nltk_data]     getaddrinfo failed>\n"
     ]
    }
   ],
   "source": [
    "import nltk\n",
    "from nltk.corpus import stopwords\n",
    "from nltk.tokenize import word_tokenize\n",
    "nltk.download('punkt')\n",
    "\n",
    "# Sample text\n",
    "text = \"This is a sample sentence with some stopwords that need to be removed.\"\n",
    "\n",
    "# Tokenize text\n",
    "words = word_tokenize(text)\n",
    "\n",
    "# Remove stopwords\n",
    "filtered_words = [word for word in words if word.lower() not in stopwords.words('english')]\n",
    "\n",
    "# Join filtered words back into a sentence\n",
    "filtered_text = ' '.join(filtered_words)\n",
    "\n",
    "# Display filtered text\n",
    "print(filtered_text)"
   ]
  },
  {
   "cell_type": "markdown",
   "id": "d9d2b8b1-fe49-4f52-b1d2-ba836bc24f26",
   "metadata": {},
   "source": [
    "**Numbers and Special Characters** are any characters that are not letters or spaces from the text. This helps to eliminate noise and non-textual elements from the data."
   ]
  },
  {
   "cell_type": "code",
   "execution_count": 8,
   "id": "46ed2a1d-b9ad-4a91-8792-b164316c30f6",
   "metadata": {},
   "outputs": [
    {
     "name": "stdout",
     "output_type": "stream",
     "text": [
      "This text contains  numbers and  special characters \n"
     ]
    }
   ],
   "source": [
    "import string\n",
    "\n",
    "# Sample text with numbers and special characters\n",
    "text = \"This text contains 1234 numbers and @! special characters %^&*.\"\n",
    "\n",
    "# Create translation table to remove digits and special characters\n",
    "translation_table = str.maketrans('', '', string.digits + string.punctuation)\n",
    "\n",
    "# Remove numbers and special characters\n",
    "cleaned_text = text.translate(translation_table)\n",
    "\n",
    "# Display cleaned text\n",
    "print(cleaned_text)"
   ]
  },
  {
   "cell_type": "markdown",
   "id": "48e06e87-24e4-4cb7-b9d2-891ab7cb1540",
   "metadata": {},
   "source": [
    "**whitespaces** : Strip extra whitespace characters (e.g., tabs, newlines) from the text."
   ]
  },
  {
   "cell_type": "code",
   "execution_count": 36,
   "id": "24eb0640-0938-4c66-b9e2-44aec4c20207",
   "metadata": {},
   "outputs": [
    {
     "name": "stdout",
     "output_type": "stream",
     "text": [
      "This is a sample text with extra whitespace.\n"
     ]
    }
   ],
   "source": [
    "# Sample text with extra whitespace\n",
    "text = \"    This   is    a   sample   text    with   extra   whitespace.     \"\n",
    "\n",
    "# Remove extra whitespace\n",
    "cleaned_text = ' '.join(text.split())\n",
    "\n",
    "# Display cleaned text\n",
    "print(cleaned_text)\n"
   ]
  },
  {
   "cell_type": "markdown",
   "id": "558ae767-b60a-434e-93bf-24dc4def1c2a",
   "metadata": {},
   "source": [
    "<a id='contract'></a>\n",
    "## 4. Handling contractions ([to top](#contract))\n",
    ">\n",
    "**Contractions** like \"can't\" and \"it's\" are expanded to their full forms (\"cannot\" and \"it is\") to ensure uniformity and consistency in the text data."
   ]
  },
  {
   "cell_type": "code",
   "execution_count": 32,
   "id": "2401b36c-3be6-413b-86c1-7902537b0fcb",
   "metadata": {},
   "outputs": [
    {
     "name": "stdout",
     "output_type": "stream",
     "text": [
      "I cannot wait to see you tomorrow. It is going to be fun!\n"
     ]
    }
   ],
   "source": [
    "import contractions\n",
    "\n",
    "# Sample text with contractions\n",
    "text = \"I can't wait to see you tomorrow. It's going to be fun!\"\n",
    "\n",
    "print(contractions.fix(text))"
   ]
  },
  {
   "cell_type": "markdown",
   "id": "48ff2a4d-eb5e-4e96-baa9-f94d1fe3a624",
   "metadata": {},
   "source": [
    "<a id='spell'></a>\n",
    "## 5. Spell checking and correction ([to top](#spell))\n",
    ">\n",
    "Identify and rectify misspelled words.\n",
    "In this example, we use the `pyspellchecker` library to correct misspelled words. Each word is corrected using the `SpellChecker` object. Finally, the corrected words are joined back into a sentence. There are several other packages and libraries in Python that offer spell checking. Here are some alternatives to the pyspellchecker library for spell checking:\n",
    ">\n",
    ">* `PyEnchant`\n",
    ">* `Autocorrect`\n",
    ">* `Hunspell`\n"
   ]
  },
  {
   "cell_type": "code",
   "execution_count": 39,
   "id": "2fb2a38b-b5f4-48b4-959e-fad04b966455",
   "metadata": {},
   "outputs": [],
   "source": [
    "# !pip install pyspellchecker"
   ]
  },
  {
   "cell_type": "code",
   "execution_count": 40,
   "id": "edb5563b-eae2-4496-a896-babb8b714906",
   "metadata": {},
   "outputs": [
    {
     "name": "stdout",
     "output_type": "stream",
     "text": [
      "Ths is a simple text with misspelled words\n"
     ]
    }
   ],
   "source": [
    "from spellchecker import SpellChecker\n",
    "\n",
    "# Create a SpellChecker object\n",
    "spell = SpellChecker()\n",
    "\n",
    "# Sample text with misspelled words\n",
    "text = \"Ths is a smple text with misspeled wrds.\"\n",
    "\n",
    "# Split the text into words\n",
    "words = text.split()\n",
    "\n",
    "# Find misspelled words\n",
    "misspelled = spell.unknown(words)\n",
    "\n",
    "# Correct misspelled words\n",
    "for word in misspelled:\n",
    "    # Get the corrected spelling\n",
    "    corrected_word = spell.correction(word)\n",
    "    # Replace misspelled word with corrected spelling\n",
    "    text = text.replace(word, corrected_word)\n",
    "\n",
    "# Display the corrected text\n",
    "print(text)\n"
   ]
  },
  {
   "cell_type": "markdown",
   "id": "56f9d4b4-0a21-4528-a06e-0bb1b5d31c89",
   "metadata": {},
   "source": [
    "<a id='token'></a>\n",
    "## 6. Tokenization ([to top](#token))\n",
    ">\n",
    "Breaking text into words, phrases, symbols, or other meaningful elements.\n"
   ]
  },
  {
   "cell_type": "code",
   "execution_count": 43,
   "id": "25d9079c-0b72-4311-94d6-aeb8bde7fe24",
   "metadata": {},
   "outputs": [
    {
     "name": "stdout",
     "output_type": "stream",
     "text": [
      "['Tokenization', 'is', 'the', 'process', 'of', 'splitting', 'text', 'into', 'words', 'and', 'punctuation', 'marks', '.']\n"
     ]
    }
   ],
   "source": [
    "import nltk\n",
    "\n",
    "# Sample text\n",
    "text = \"Tokenization is the process of splitting text into words and punctuation marks.\"\n",
    "\n",
    "# Tokenize the text into words\n",
    "tokens = nltk.word_tokenize(text)\n",
    "\n",
    "# Display the tokens\n",
    "print(tokens)\n"
   ]
  },
  {
   "cell_type": "code",
   "execution_count": null,
   "id": "109ba647-1517-470d-a32e-f158a41b01cb",
   "metadata": {},
   "outputs": [],
   "source": []
  },
  {
   "cell_type": "markdown",
   "id": "a0d3fc97-7779-4a05-913d-fc51d9ca6620",
   "metadata": {},
   "source": [
    "<a id='re'></a>\n",
    "## 7. Regular expressions ([to top](#re))\n",
    ">\n",
    "The `re package in Python is a powerful library for working with regular expressions, which are sequences of characters that define search patterns, primarily used for string matching and manipulation. Here’s a comprehensive overview of the re package and its functionality:\n"
   ]
  },
  {
   "cell_type": "markdown",
   "id": "577d4c1f-4318-48b8-84da-f7ba31a7724b",
   "metadata": {},
   "source": [
    "`findall` Finds all occurrences of a pattern in the string and returns them as a list."
   ]
  },
  {
   "cell_type": "code",
   "execution_count": 21,
   "id": "0cc53b9e-41e3-4421-80f9-f43eda749354",
   "metadata": {},
   "outputs": [
    {
     "data": {
      "text/plain": [
       "16"
      ]
     },
     "execution_count": 21,
     "metadata": {},
     "output_type": "execute_result"
    }
   ],
   "source": [
    "import re\n",
    "word = 'supercalifragilisticexpialidocious'\n",
    "re.findall(r'[aeiou]', word)\n",
    "#['u', 'e', 'a', 'i', 'a', 'i', 'i', 'i', 'e', 'i', 'a', 'i', 'o', 'i', 'o', 'u']\n",
    "len(re.findall(r'[aeiou]', word))\n"
   ]
  },
  {
   "cell_type": "markdown",
   "id": "e710127c-539e-4cbc-ac13-36f66c31771d",
   "metadata": {},
   "source": [
    "`re.match()` Checks for a match only at the beginning of the string."
   ]
  },
  {
   "cell_type": "code",
   "execution_count": 10,
   "id": "467c6867-0f59-4d6e-815a-60a5cf594aa1",
   "metadata": {},
   "outputs": [
    {
     "name": "stdout",
     "output_type": "stream",
     "text": [
      "123\n"
     ]
    }
   ],
   "source": [
    "result = re.match(r'\\d+', '123abc')\n",
    "print(result.group())  \n"
   ]
  },
  {
   "cell_type": "markdown",
   "id": "3a28ee0f-40fe-4c57-b7ed-4eb7603579a8",
   "metadata": {},
   "source": [
    "`re.search()` Searches the string for the first location where the regular expression pattern produces a match."
   ]
  },
  {
   "cell_type": "code",
   "execution_count": 12,
   "id": "2809684d-a7d3-41fd-a386-85a4133d39f8",
   "metadata": {},
   "outputs": [
    {
     "name": "stdout",
     "output_type": "stream",
     "text": [
      "123\n"
     ]
    }
   ],
   "source": [
    "result = re.search(r'\\d+', 'abc123def')\n",
    "print(result.group())  # Output: 123\n"
   ]
  },
  {
   "cell_type": "markdown",
   "id": "37f7a96d-d62e-43ca-9c29-84109d7227a3",
   "metadata": {},
   "source": [
    "`re.finditer()` Returns an iterator yielding match objects for all non-overlapping matches of the pattern in the string."
   ]
  },
  {
   "cell_type": "code",
   "execution_count": 24,
   "id": "bebc565e-d13b-4f2c-927f-a41b941cac56",
   "metadata": {},
   "outputs": [
    {
     "name": "stdout",
     "output_type": "stream",
     "text": [
      "123\n",
      "456\n"
     ]
    }
   ],
   "source": [
    "result = re.finditer(r'\\d+', 'abc123def456')\n",
    "for match in result:\n",
    "    print(match.group())  # Output: 123 then 456\n"
   ]
  },
  {
   "cell_type": "markdown",
   "id": "870e4af1-fa91-49e0-b0e1-32a39c0bd494",
   "metadata": {},
   "source": [
    "`re.sub()` Replaces occurrences of the pattern in the string with a replacement string."
   ]
  },
  {
   "cell_type": "code",
   "execution_count": 25,
   "id": "a29275e8-52f2-4403-90bf-82d3db3d190d",
   "metadata": {},
   "outputs": [
    {
     "name": "stdout",
     "output_type": "stream",
     "text": [
      "abc#def#\n"
     ]
    }
   ],
   "source": [
    "result = re.sub(r'\\d+', '#', 'abc123def456')\n",
    "print(result)  # Output: abc#def#\n"
   ]
  },
  {
   "cell_type": "markdown",
   "id": "7e586d02-25d4-4f7e-a9bf-ef2f6bca81a0",
   "metadata": {},
   "source": [
    "`re.split()` Splits the string by occurrences of the pattern."
   ]
  },
  {
   "cell_type": "code",
   "execution_count": 27,
   "id": "deeaaf71-e61e-4fb5-8b37-b09013d39be8",
   "metadata": {},
   "outputs": [
    {
     "name": "stdout",
     "output_type": "stream",
     "text": [
      "['abc', 'def', '']\n"
     ]
    }
   ],
   "source": [
    "result = re.split(r'\\d+', 'abc123def456')\n",
    "print(result)  # Output: ['abc', 'def', '']\n"
   ]
  },
  {
   "cell_type": "markdown",
   "id": "f67234b3-fc8f-47f4-a3b5-a5cd374b6e5b",
   "metadata": {},
   "source": [
    "**Regular Expression SyntaxSpecial Characters**:\n",
    "\n",
    "*`.`: Matches any character except a newline.\n",
    "\n",
    "`^`: Matches the start of the string.\n",
    "\n",
    "`$`: Matches the end of the string.\n",
    "\n",
    "`*`: Matches 0 or more repetitions of the preceding pattern.\n",
    "\n",
    "`+`: Matches 1 or more repetitions of the preceding pattern.\n",
    "\n",
    "`?`: Matches 0 or 1 repetition of the preceding pattern.\n",
    "\n",
    "`{m,n}`: Matches from m to n repetitions of the preceding pattern.\n",
    "\n",
    "`[]`: Used to specify a character class.\n",
    "\n",
    "`|`: Alternation (OR).\n",
    "\n",
    "`()`: Grouping.\n",
    "\n",
    "**Character Classes**:\n",
    "\n",
    "`\\d`: Matches any decimal digit; equivalent to the class `[0-9]`.\n",
    "\n",
    "`\\D`: Matches any non-digit character.\n",
    "\n",
    "`\\s`: Matches any whitespace character.\n",
    "\n",
    "`\\S`: Matches any non-whitespace character.\n",
    "\n",
    "`\\w`: Matches any alphanumeric character; equivalent to the class `[a-zA-Z0-9_]`.\n",
    "\n",
    "`\\W`: Matches any non-alphanumeric character.\n",
    "\n",
    "**Escape Sequences**:\n",
    "\n",
    "`\\`: Escape special characters, e.g., `\\\\` for backslash, `\\`. for period."
   ]
  },
  {
   "cell_type": "markdown",
   "id": "4eda4df6-3411-4e30-98d9-d0e9f3524c9c",
   "metadata": {},
   "source": [
    "<a id='normal'></a>\n",
    "## 8. Normalisation([to top](#normal))\n",
    ">\n",
    "The process of converting text into a standard or normalized form. This typically involves converting text to lowercase, removing accents or diacritics, and handling special characters or symbols in a consistent manner. \n"
   ]
  },
  {
   "cell_type": "code",
   "execution_count": 44,
   "id": "43fc8db1-3a6b-43e4-a1d6-e865b9653e84",
   "metadata": {},
   "outputs": [
    {
     "name": "stdout",
     "output_type": "stream",
     "text": [
      "this is a sample text with mixed case.\n"
     ]
    }
   ],
   "source": [
    "# Sample text with mixed case\n",
    "text = \"This is a Sample Text with MIXED Case.\"\n",
    "\n",
    "# Convert text to lowercase\n",
    "normalized_text = text.lower()\n",
    "\n",
    "# Display normalized text\n",
    "print(normalized_text)\n"
   ]
  },
  {
   "cell_type": "markdown",
   "id": "200b9af6-a59e-430c-824c-94fa6b8e8f74",
   "metadata": {},
   "source": [
    "<a id='stem'></a>\n",
    "## 9. Stemming([to top](#stem))\n",
    ">\n",
    "A rule-based technique that removes suffixes from words to extract their root form, known as the stem.\n",
    "There are several alternatives available in Python. Here are a few options:\n",
    ">1. `TextBlob`: TextBlob is a simple library for processing textual data. It provides a TextBlob object that can perform various text processing tasks including stemming.\n",
    ">2. `Snowball Stemmer`: The Snowball Stemmer (also known as the Porter2 or Porter2 Stemmer) is a stemming algorithm implemented in multiple languages, including Python. It's often used as an alternative to the Porter Stemmer."
   ]
  },
  {
   "cell_type": "code",
   "execution_count": 45,
   "id": "18a47331-d9f7-44b9-bf77-2393ec154e87",
   "metadata": {},
   "outputs": [
    {
     "name": "stdout",
     "output_type": "stream",
     "text": [
      "['run', 'run', 'ran', 'runner', 'easili']\n"
     ]
    }
   ],
   "source": [
    "from nltk.stem import PorterStemmer\n",
    "\n",
    "# Create a PorterStemmer object\n",
    "porter = PorterStemmer()\n",
    "\n",
    "# Sample words\n",
    "words = [\"running\", \"runs\", \"ran\", \"runner\", \"easily\"]\n",
    "\n",
    "# Stem the words\n",
    "stemmed_words = [porter.stem(word) for word in words]\n",
    "\n",
    "# Display stemmed words\n",
    "print(stemmed_words)\n"
   ]
  },
  {
   "cell_type": "markdown",
   "id": "c743f11a-5b74-4350-849b-46a4388487f6",
   "metadata": {},
   "source": [
    "<a id='lem'></a>\n",
    "## 10. Lemmatization([to top](#lem))\n",
    ">\n",
    "It aims to reduce words to their base or dictionary form, known as the lemma. We can use `WordNetLemmatizer` to do this."
   ]
  },
  {
   "cell_type": "code",
   "execution_count": 47,
   "id": "57347bea-d046-4210-af19-2c4e0033df68",
   "metadata": {},
   "outputs": [
    {
     "name": "stderr",
     "output_type": "stream",
     "text": [
      "[nltk_data] Downloading package wordnet to\n",
      "[nltk_data]     C:\\Users\\Kim\\AppData\\Roaming\\nltk_data...\n"
     ]
    },
    {
     "data": {
      "text/plain": [
       "True"
      ]
     },
     "execution_count": 47,
     "metadata": {},
     "output_type": "execute_result"
    }
   ],
   "source": [
    "nltk.download('wordnet')"
   ]
  },
  {
   "cell_type": "code",
   "execution_count": 48,
   "id": "530ad8a6-969b-4313-9c45-87c29720b88d",
   "metadata": {},
   "outputs": [
    {
     "name": "stdout",
     "output_type": "stream",
     "text": [
      "['running', 'run', 'ran', 'runner', 'easily']\n"
     ]
    }
   ],
   "source": [
    "from nltk.stem import WordNetLemmatizer\n",
    "\n",
    "# Create a WordNetLemmatizer object\n",
    "lemmatizer = WordNetLemmatizer()\n",
    "\n",
    "# Sample words\n",
    "words = [\"running\", \"runs\", \"ran\", \"runner\", \"easily\"]\n",
    "\n",
    "# Lemmatize the words\n",
    "lemmatized_words = [lemmatizer.lemmatize(word) for word in words]\n",
    "\n",
    "# Display lemmatized words\n",
    "print(lemmatized_words)\n"
   ]
  },
  {
   "cell_type": "markdown",
   "id": "c973c3bb-db98-46fb-a524-460134e2c09b",
   "metadata": {},
   "source": [
    "<a id='pos'></a>\n",
    "## 11. Part-of-Speech ([to top](#pos))\n",
    ">\n",
    "It involves assigning a specific part-of-speech tag to each word in a given text corpus, based on its syntactic role and context \n",
    "within the sentence\n",
    ">E.g., `NNP`: Proper noun, singular\n",
    ">`VBD`: Verb, past tense\n",
    ">`VBG`: Verb, gerund or present participle\n",
    ">`TO`: to\n",
    ">`VB`: Verb, base form\n",
    ">`RB`: Adverb\n",
    ">`JJ`: Adjective\n",
    ">`IN`: Preposition or subordinating conjunction\n",
    ">`PRP$`: Possessive pronoun\n",
    ">`NN`: Noun, singular or mass\n",
    ">`DT`: Determiner\n",
    ">`CC`: Conjunction, coordinating\n",
    ">`PRP`: Personal pronoun\n",
    ">`VBN`: Verb, past participle\n",
    ">`WP`: Wh-pronoun, personal\n",
    ">`VBZ`: Verb, 3rd person singular present "
   ]
  },
  {
   "cell_type": "code",
   "execution_count": 50,
   "id": "797fb716-dccc-4b52-9d1f-b91c201ab6c3",
   "metadata": {},
   "outputs": [
    {
     "name": "stderr",
     "output_type": "stream",
     "text": [
      "[nltk_data] Downloading package averaged_perceptron_tagger to\n",
      "[nltk_data]     C:\\Users\\Kim\\AppData\\Roaming\\nltk_data...\n",
      "[nltk_data]   Unzipping taggers\\averaged_perceptron_tagger.zip.\n"
     ]
    },
    {
     "data": {
      "text/plain": [
       "True"
      ]
     },
     "execution_count": 50,
     "metadata": {},
     "output_type": "execute_result"
    }
   ],
   "source": [
    "nltk.download('averaged_perceptron_tagger')"
   ]
  },
  {
   "cell_type": "code",
   "execution_count": 54,
   "id": "ef032ae6-a595-41b7-927c-0e6d10632c28",
   "metadata": {},
   "outputs": [
    {
     "name": "stdout",
     "output_type": "stream",
     "text": [
      "[('NLTK', 'NNP'), ('is', 'VBZ'), ('a', 'DT'), ('leading', 'VBG'), ('platform', 'NN'), ('for', 'IN'), ('building', 'VBG'), ('Python', 'NNP'), ('programs', 'NNS'), ('to', 'TO'), ('work', 'VB'), ('with', 'IN'), ('human', 'JJ'), ('language', 'NN'), ('data', 'NNS'), ('.', '.')]\n"
     ]
    }
   ],
   "source": [
    "import nltk\n",
    "# Sample text\n",
    "text = \"NLTK is a leading platform for building Python programs to work with human language data.\"\n",
    "\n",
    "# Tokenize the text into words\n",
    "words = nltk.word_tokenize(text)\n",
    "\n",
    "# Perform POS tagging\n",
    "pos_tags = nltk.pos_tag(words)\n",
    "\n",
    "# Display the POS tags\n",
    "print(pos_tags)\n"
   ]
  },
  {
   "cell_type": "markdown",
   "id": "a8563e2e-38a1-43fd-95dd-c31d8f0c4f7f",
   "metadata": {},
   "source": [
    "<a id='ner'></a>\n",
    "## 12. Named Entity Recognition ([to top](#ner))\n",
    ">\n",
    "a technique used to identify and classify named entities within unstructured text into predefined categories such as names of persons, organizations, locations, dates, numerical expressions, and more. GPE stands for \"Geopolitical Entity\". GPE is a label used to identify geopolitical entities such as countries, cities, states, and territories."
   ]
  },
  {
   "cell_type": "code",
   "execution_count": null,
   "id": "566dc902-04a8-4897-8e9b-0f0cd2a11248",
   "metadata": {},
   "outputs": [],
   "source": [
    "nltk.download('maxent_ne_chunker')\n",
    "nltk.download('words')"
   ]
  },
  {
   "cell_type": "code",
   "execution_count": 65,
   "id": "13672c5b-a857-455a-9a3b-d45db9d2f8ba",
   "metadata": {},
   "outputs": [
    {
     "name": "stdout",
     "output_type": "stream",
     "text": [
      "[('GPE', 'Apple'), ('GPE', 'Cupertino'), ('GPE', 'California'), ('PERSON', 'Steve Jobs'), ('PERSON', 'Steve Wozniak'), ('PERSON', 'Ronald Wayne')]\n"
     ]
    }
   ],
   "source": [
    "import nltk\n",
    "\n",
    "# Sample text with named entities\n",
    "text = \"Apple is headquartered in Cupertino, California, and was founded by Steve Jobs, Steve Wozniak, and Ronald Wayne on April 1, 1976,\"\n",
    "\n",
    "# Tokenize the text into words\n",
    "words = nltk.word_tokenize(text)\n",
    "\n",
    "# Perform POS tagging\n",
    "pos_tags = nltk.pos_tag(words)\n",
    "\n",
    "# Perform NER\n",
    "chunks = nltk.ne_chunk(pos_tags)\n",
    "\n",
    "# Extract named entities\n",
    "named_entities = []\n",
    "for chunk in chunks:\n",
    "    if hasattr(chunk, 'label'):\n",
    "        named_entities.append((chunk.label(), ' '.join(c[0] for c in chunk)))\n",
    "\n",
    "# Display named entities\n",
    "print(named_entities)\n"
   ]
  },
  {
   "cell_type": "markdown",
   "id": "ea36b6d9-1191-4597-b3e3-56fefce80a04",
   "metadata": {},
   "source": [
    "<a id='bow'></a>\n",
    "## 13. Bag of Words ([to top](#bow))\n",
    ">\n",
    "BoW represents text data as a matrix where each row corresponds to a document and each column corresponds to a unique word in the corpus. The values in the matrix indicate the frequency of each word in the document. This approach disregards word order and grammar but captures the occurrence of words in documents."
   ]
  },
  {
   "cell_type": "code",
   "execution_count": 73,
   "id": "43e50a3e-c0a6-42e4-9390-559964090de8",
   "metadata": {
    "scrolled": true
   },
   "outputs": [],
   "source": [
    "# !pip install scikit-learn"
   ]
  },
  {
   "cell_type": "code",
   "execution_count": 9,
   "id": "0c6c98dd-2a1a-4a42-97b7-bbe7350db676",
   "metadata": {},
   "outputs": [
    {
     "name": "stdout",
     "output_type": "stream",
     "text": [
      "[[0 1 1 1 0 0 1 0 1]\n",
      " [0 2 0 1 0 1 1 0 1]\n",
      " [1 0 0 1 1 0 1 1 1]\n",
      " [0 1 1 1 0 0 1 0 1]]\n",
      "Feature Names: ['and' 'document' 'first' 'is' 'one' 'second' 'the' 'third' 'this']\n"
     ]
    }
   ],
   "source": [
    "from sklearn.feature_extraction.text import CountVectorizer\n",
    "\n",
    "# Sample documents\n",
    "documents = [\n",
    "    \"This is the first document.\",\n",
    "    \"This document is the second document.\",\n",
    "    \"And this is the third one.\",\n",
    "    \"Is this the first document?\",\n",
    "]\n",
    "\n",
    "# Create a CountVectorizer object\n",
    "vectorizer = CountVectorizer()\n",
    "\n",
    "# Fit and transform the documents into a BoW representation\n",
    "bow_matrix = vectorizer.fit_transform(documents)\n",
    "\n",
    "# Get the feature names (words)\n",
    "feature_names = vectorizer.get_feature_names_out()\n",
    "\n",
    "# Display the BoW representation\n",
    "print(bow_matrix.toarray())\n",
    "print(\"Feature Names:\", feature_names)\n"
   ]
  },
  {
   "cell_type": "markdown",
   "id": "4a633a71-2227-4ea7-b453-3ac1e78b973d",
   "metadata": {},
   "source": [
    "<a id='TFIDF'></a>\n",
    "## 14. Term Frequency-Inverse Document Frequency ([to top](#TFIDF))\n",
    ">\n",
    "TF-IDF calculates the importance of a word in a document relative to a corpus of documents. It assigns higher weights to words that are frequent in a document but rare in other documents. TF-IDF is useful for identifying keywords and reducing the importance of common words like \"the\" and \"is\"."
   ]
  },
  {
   "cell_type": "code",
   "execution_count": 74,
   "id": "185be130-cafe-495d-80a6-9e1e12270b9b",
   "metadata": {},
   "outputs": [
    {
     "name": "stdout",
     "output_type": "stream",
     "text": [
      "[[0.         0.46979139 0.58028582 0.38408524 0.         0.\n",
      "  0.38408524 0.         0.38408524]\n",
      " [0.         0.6876236  0.         0.28108867 0.         0.53864762\n",
      "  0.28108867 0.         0.28108867]\n",
      " [0.51184851 0.         0.         0.26710379 0.51184851 0.\n",
      "  0.26710379 0.51184851 0.26710379]\n",
      " [0.         0.46979139 0.58028582 0.38408524 0.         0.\n",
      "  0.38408524 0.         0.38408524]]\n",
      "Feature Names: ['and' 'document' 'first' 'is' 'one' 'second' 'the' 'third' 'this']\n"
     ]
    }
   ],
   "source": [
    "from sklearn.feature_extraction.text import TfidfVectorizer\n",
    "\n",
    "# Create a TfidfVectorizer object\n",
    "tfidf_vectorizer = TfidfVectorizer()\n",
    "\n",
    "# Fit and transform the documents into a TF-IDF representation\n",
    "tfidf_matrix = tfidf_vectorizer.fit_transform(documents)\n",
    "\n",
    "# Display the TF-IDF representation\n",
    "print(tfidf_matrix.toarray())\n",
    "print(\"Feature Names:\", tfidf_vectorizer.get_feature_names_out())\n"
   ]
  },
  {
   "cell_type": "markdown",
   "id": "12644ba6-f8e3-4b44-b157-a96443e41aa6",
   "metadata": {},
   "source": [
    "<a id='embedding'></a>\n",
    "## 15. Word embeddings  ([to top](#embedding))\n",
    ">\n",
    "Word embeddings represent words as dense vector representations in a continuous vector space. It learns distributed representations of words based on their context in a large corpus of text. Word embeddings capture semantic relationships between words and are useful for tasks like semantic similarity and text classification.\n",
    ">\n",
    ">The following script demonstrates the use of Word2Vec models to calculate the cosine similarity between words in a given text corpus. Word2Vec is a popular technique in natural language processing (NLP) used to represent words as dense vectors in a continuous vector space. By training Word2Vec models on a corpus of text data, we can capture semantic relationships between words and measure their similarity.\n",
    ">\n",
    ">In this script, we utilize Skip Gram architecture. We tokenize a mock text corpus using the nltk library and then train the Word2Vec models on the tokenized data. In Word2Vec, setting sg=1 indicates that the Skip-gram model should be used for training. If sg were set to 0 (sg=0), it would indicate that the Continuous Bag of Words (CBOW) model should be used instead."
   ]
  },
  {
   "cell_type": "code",
   "execution_count": 6,
   "id": "85de8e1e-9a8b-4b3e-ba15-567f2dabf6a7",
   "metadata": {},
   "outputs": [],
   "source": [
    "# !pip install scipy==1.12  #Make sure to restart the notebook"
   ]
  },
  {
   "cell_type": "code",
   "execution_count": 10,
   "id": "6b50ec84-2c44-472e-ab1b-20a0d5263935",
   "metadata": {},
   "outputs": [
    {
     "data": {
      "image/png": "[encoded data removed]",
      "text/plain": [
       "<Figure size 600x400 with 1 Axes>"
      ]
     },
     "metadata": {},
     "output_type": "display_data"
    }
   ],
   "source": [
    "import matplotlib.pyplot as plt\n",
    "from sklearn.decomposition import PCA\n",
    "from gensim.models import Word2Vec\n",
    "\n",
    "# Example corpus of cities and countries\n",
    "corpus = [\n",
    "    ['paris', 'france', 'london', 'uk'],\n",
    "    ['london', 'uk', 'berlin', 'germany'],\n",
    "    ['berlin', 'germany', 'madrid', 'spain']\n",
    "]\n",
    "\n",
    "# Train Word2Vec model\n",
    "model = Word2Vec(corpus, vector_size=100, window=5, min_count=1, sg=1)\n",
    "\n",
    "# Get word vectors\n",
    "word_vectors = model.wv\n",
    "\n",
    "# Perform PCA to reduce dimensionality to 2D\n",
    "pca = PCA(n_components=2)\n",
    "word_vectors_2d = pca.fit_transform(word_vectors.vectors)\n",
    "\n",
    "# Visualize word embeddings\n",
    "plt.figure(figsize=(6, 4))\n",
    "plt.scatter(word_vectors_2d[:, 0], word_vectors_2d[:, 1], marker='o', c='b')\n",
    "\n",
    "# Annotate points with words\n",
    "for i, word in enumerate(word_vectors.index_to_key):\n",
    "    plt.annotate(word, xy=(word_vectors_2d[i, 0], word_vectors_2d[i, 1]), fontsize=12)\n",
    "\n",
    "plt.xlabel('Principal Component 1')\n",
    "plt.ylabel('Principal Component 2')\n",
    "plt.title('Word Embeddings Visualization')\n",
    "plt.grid(True)\n",
    "plt.show()\n"
   ]
  },
  {
   "cell_type": "markdown",
   "id": "3baa9619-7893-45c1-abad-b7c9f1e8992b",
   "metadata": {},
   "source": [
    "The relative positions of words in the visualization are based on the learned semantic relationships between them. While \"Germany\" and \"Paris\" are not directly related geographically, they may have occurred in similar contexts within the corpus. The fact that \"Germany\" and \"Paris\" appear close in the visualization, it suggests that the model has learned some semantic association or similarity between them based on their co-occurrences with other words in the corpus."
   ]
  },
  {
   "cell_type": "markdown",
   "id": "eac8a141-9131-4d4a-aad2-1a8b9aa39db9",
   "metadata": {},
   "source": [
    "<a id='ngrams'></a>\n",
    "## 16. N-grams ([to top](#ngrams))\n",
    ">\n",
    "N-grams are sequences of N consecutive words in a document. Unigrams (N=1) represent single words, bigrams (N=2) represent pairs of adjacent words, and trigrams (N=3) represent triplets of adjacent words. N-grams capture local word patterns and can provide additional context for text analysis tasks."
   ]
  },
  {
   "cell_type": "code",
   "execution_count": 81,
   "id": "7d3beee5-874a-4527-9bc5-e9b9cd0a075e",
   "metadata": {},
   "outputs": [
    {
     "name": "stdout",
     "output_type": "stream",
     "text": [
      "Bi-grams: [('This', 'is'), ('is', 'a'), ('a', 'sample'), ('sample', 'text'), ('text', 'for'), ('for', 'generating'), ('generating', 'n-grams.')]\n",
      "Tri-grams: [('This', 'is', 'a'), ('is', 'a', 'sample'), ('a', 'sample', 'text'), ('sample', 'text', 'for'), ('text', 'for', 'generating'), ('for', 'generating', 'n-grams.')]\n"
     ]
    }
   ],
   "source": [
    "from nltk.util import ngrams\n",
    "\n",
    "# Sample text\n",
    "text = \"This is a sample text for generating n-grams.\"\n",
    "\n",
    "# Tokenize the text into words\n",
    "words = text.split()\n",
    "\n",
    "# Generate bi-grams\n",
    "bi_grams = list(ngrams(words, 2))\n",
    "\n",
    "# Generate tri-grams\n",
    "tri_grams = list(ngrams(words, 3))\n",
    "\n",
    "# Display bi-grams and tri-grams\n",
    "print(\"Bi-grams:\", bi_grams)\n",
    "print(\"Tri-grams:\", tri_grams)\n"
   ]
  },
  {
   "cell_type": "markdown",
   "id": "6b9c0057-92f4-4f20-b0b5-47e4f047bc4e",
   "metadata": {},
   "source": [
    "<a id='text'></a>\n",
    "## 17. Text Length and Complexity ([to top](#text))\n",
    ">\n",
    "Features such as the length of the text, average word length, and vocabulary richness (number of unique words) can provide insights into the complexity and style of the text. These features can be useful for tasks like readability assessment and authorship attribution."
   ]
  },
  {
   "cell_type": "code",
   "execution_count": 82,
   "id": "f20814ba-2d60-4b6f-a685-95344d8a0641",
   "metadata": {},
   "outputs": [
    {
     "name": "stdout",
     "output_type": "stream",
     "text": [
      "Text Length: 63\n",
      "Average Word Length: 4.818181818181818\n"
     ]
    }
   ],
   "source": [
    "# Sample text\n",
    "text = \"This is a sample text for measuring text length and complexity.\"\n",
    "\n",
    "# Measure text length\n",
    "text_length = len(text)\n",
    "\n",
    "# Measure average word length\n",
    "words = text.split()\n",
    "average_word_length = sum(len(word) for word in words) / len(words)\n",
    "\n",
    "# Display text length and average word length\n",
    "print(\"Text Length:\", text_length)\n",
    "print(\"Average Word Length:\", average_word_length)\n"
   ]
  },
  {
   "cell_type": "markdown",
   "id": "1c05afef-f3a6-44c0-a320-60299b9bb558",
   "metadata": {},
   "source": [
    "<a id='colloc'></a>\n",
    "## 18. Collocation and Terminology Extraction ([to top](#colloc))\n",
    ">\n",
    "Collocations are pairs or groups of words that often co-occur together in a text. They carry a specific meaning and are commonly used in language."
   ]
  },
  {
   "cell_type": "code",
   "execution_count": 83,
   "id": "d403febb-a415-404b-ba49-fb7356c81c6b",
   "metadata": {},
   "outputs": [
    {
     "name": "stdout",
     "output_type": "stream",
     "text": [
      "Top Collocations: [(('This', 'is'), 3.0), (('a', 'sample'), 3.0), (('collocation', 'extraction.'), 3.0), (('for', 'collocation'), 3.0), (('is', 'a'), 3.0), (('sample', 'text'), 3.0), (('text', 'for'), 3.0)]\n"
     ]
    }
   ],
   "source": [
    "from nltk.collocations import BigramCollocationFinder\n",
    "from nltk.metrics import BigramAssocMeasures\n",
    "\n",
    "# Sample text\n",
    "text = \"This is a sample text for collocation extraction.\"\n",
    "\n",
    "# Tokenize the text into words\n",
    "words = text.split()\n",
    "\n",
    "# Create a BigramCollocationFinder object\n",
    "finder = BigramCollocationFinder.from_words(words)\n",
    "\n",
    "# Score collocations using Pointwise Mutual Information (PMI)\n",
    "scored_collocations = finder.score_ngrams(BigramAssocMeasures.pmi)\n",
    "\n",
    "# Display top collocations\n",
    "print(\"Top Collocations:\", scored_collocations)\n"
   ]
  },
  {
   "cell_type": "code",
   "execution_count": null,
   "id": "bd9f4f2c-f15d-480b-a0cd-d6e8afbc8c18",
   "metadata": {},
   "outputs": [],
   "source": []
  },
  {
   "cell_type": "code",
   "execution_count": null,
   "id": "fec5ab57-8031-4610-a798-549b60eb8356",
   "metadata": {},
   "outputs": [],
   "source": []
  },
  {
   "cell_type": "code",
   "execution_count": null,
   "id": "ec8503dd-e934-4d4e-9118-db4424c52ba6",
   "metadata": {},
   "outputs": [],
   "source": []
  },
  {
   "cell_type": "code",
   "execution_count": null,
   "id": "b7663369-4062-4272-9c5e-3335a4ed6d34",
   "metadata": {},
   "outputs": [],
   "source": []
  }
 ],
 "metadata": {
  "kernelspec": {
   "display_name": "Python 3 (ipykernel)",
   "language": "python",
   "name": "python3"
  },
  "language_info": {
   "codemirror_mode": {
    "name": "ipython",
    "version": 3
   },
   "file_extension": ".py",
   "mimetype": "text/x-python",
   "name": "python",
   "nbconvert_exporter": "python",
   "pygments_lexer": "ipython3",
   "version": "3.9.18"
  }
 },
 "nbformat": 4,
 "nbformat_minor": 5
}
