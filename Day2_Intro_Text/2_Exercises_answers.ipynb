{
 "cells": [
  {
   "cell_type": "markdown",
   "id": "c63e7c27-0112-4c74-abaa-b16738dd8462",
   "metadata": {},
   "source": [
    "<span>\n",
    "<b>Methods Workshop in Quantitative Text Analysis </b><br/>     \n",
    "<b>Author:</b> <a href=\"https://github.com/jisukimmmm\">Jisu Kim</a><br/>\n",
    "<b>Python version:</b>  >=3.6<br/>\n",
    "<b>Last update:</b> 21/04/2024\n",
    "</span>"
   ]
  },
  {
   "cell_type": "markdown",
   "id": "c71ca3ab-15a3-47ff-afa3-eb0e2bed7c32",
   "metadata": {},
   "source": [
    "<a id='top'></a>\n",
    "# *Introduction to text analysis - Exercises*\n",
    "\n",
    "Here, we'll be diving into various text processing techniques, using the beloved classic \"Alice's Adventures in Wonderland\" by Lewis Carroll as our playground.This exercise set will guide you through a series of hands-on tasks aimed at developing your skills in string manipulation, text normalization, tokenization, and more advanced topics like Named Entity Recognition (NER) and Word Embeddings. Each exercise is crafted to help you understand the underlying principles of text analysis while engaging with the whimsical and imaginative text of \"Alice's Adventures in Wonderland\".\n",
    "\n",
    "Source of the text: https://www.geeksforgeeks.org/"
   ]
  },
  {
   "cell_type": "markdown",
   "id": "f3db1dc7-2ec3-48b9-9aaa-4ad69d0e7b4d",
   "metadata": {},
   "source": [
    "### Build-in string manipulation functions\n",
    "1. Find and print the first and last occurrence of the word \"Alice\" in the book.\n",
    "2. Split the chapter 1.\n",
    "3. Replace name \"Alice\" to your own name\n",
    "### Lowercasing\n",
    "1. Convert the entire text of the first chapter to lowercase.\n",
    "2. Compare two sentences from different parts of the book case-insensitively to check if they are the same.\n",
    "### Removing Punctuations, Numbers, and Special Characters\n",
    "1. Remove all punctuations from the first paragraph of the book.\n",
    "2. Write a function to remove any numbers and special characters found in the text of the first chapter.\n",
    "### Handling Contractions\n",
    "1. Expand all contractions in the famous quote \"We're all mad here.\" from the book using a dictionary of contractions.\n",
    "### Spell Checking and Correction\n",
    "1. Identify and correct any intentionally misspelled words in a given excerpt from the book.\n",
    "### Tokenization\n",
    "1. Tokenize the first paragraph into sentences and words.\n",
    "2. Write a function that tokenizes a sentence into words without using any library functions.\n",
    "### Regular Expressions\n",
    "1. Extract all email addresses (if any) from the text using regular expressions. (You can add fake email addresses for fun.)\n",
    "2. Find all uppercase words in the first chapter using regular expressions.\n",
    "### Normalisation\n",
    "1. Normalize a given excerpt by converting it to lowercase and removing punctuations.\n",
    "2. Write a function that normalizes white space in the text (e.g., convert multiple spaces to a single space).\n",
    "### Stemming\n",
    "1. Apply stemming to a list of words from a random page in the book using the Porter Stemmer.\n",
    "2. Compare the results of different stemming algorithms on the same text excerpt.\n",
    "### Lemmatization\n",
    "1. Lemmatize a list of words from the book using NLTK's WordNet lemmatizer.\n",
    "2. Compare the output of lemmatization and stemming on the same set of words.\n",
    "### Part of Speech (POS) Tagging\n",
    "1. Return the POS tags of all words in a selected paragraph.\n",
    "2. Count the number of nouns, verbs, and adjectives in the selected paragraph. \n",
    "### Named Entity Recognition (NER)\n",
    "1. Extract all the names of characters mentioned in the book using NER.\n",
    "### Bag of Words (BoW)\n",
    "1. Create a Bag of Words representation for the first chapter.\n",
    "### TF-IDF\n",
    "1. Compute the TF-IDF scores for a collection of chapters.\n",
    "2. Write a function that returns the top 5 words with the highest TF-IDF scores in a specific chapter.\n",
    "### Word Embeddings\n",
    "1. Find the most similar words to \"Rabbit\".\n",
    "2. Write a function that computes the cosine similarity between two words, such as \"Alice\" and \"Wonderland\".\n",
    "### N-grams\n",
    "1. Generate and print all bigrams and trigrams from the Mad Hatter's tea party scene.\n",
    "2. Write a function that counts the frequency of each n-gram in the first chapter.\n",
    "### Text Length and Complexity\n",
    "1. Calculate the average word length and sentence length in the first chapter.\n",
    "2. Write a function that computes the Flesch Reading Ease score of the book's first chapter.\n",
    "### Collocation and Terminology Extraction\n",
    "1. Identify and print the most common collocations in the conversation between Alice and the Cheshire Cat.\n",
    "2. Write a function that extracts key terms from a selected chapter based on their frequency and context.\n",
    "3. Plot the frequency distribution of these key terms using matplotlib.\n",
    "4. Remove punctuations and stopwords and redo the plot"
   ]
  },
  {
   "cell_type": "markdown",
   "id": "a4af9cdb-c2d5-4b85-8950-32bff54b4338",
   "metadata": {},
   "source": [
    "# Answers"
   ]
  },
  {
   "cell_type": "markdown",
   "id": "833e8c5b-8fa1-480c-91db-e4e97425a295",
   "metadata": {},
   "source": [
    "### Built-in string manipulation functions\n",
    "1. Find and print the first and last occurrence of the word \"Alice\" in the book."
   ]
  },
  {
   "cell_type": "code",
   "execution_count": 1,
   "id": "dc755e4d-9eda-4727-ba1f-50e6e066cb2c",
   "metadata": {},
   "outputs": [],
   "source": [
    "# Load data first\n",
    "text = open('./alice.txt', 'r', encoding='utf-8').read()"
   ]
  },
  {
   "cell_type": "code",
   "execution_count": 2,
   "id": "b8351678-6cfe-4306-b86b-723068e09271",
   "metadata": {},
   "outputs": [
    {
     "name": "stdout",
     "output_type": "stream",
     "text": [
      "First occurrence of 'Alice': 231\n",
      "Last occurrence of 'Alice': 146239\n"
     ]
    }
   ],
   "source": [
    "# Find and print the first and last occurrence of the word \"Alice\"\n",
    "first_occurrence = text.find(\"Alice\")\n",
    "last_occurrence = text.rfind(\"Alice\")\n",
    "print(f\"First occurrence of 'Alice': {first_occurrence}\")\n",
    "print(f\"Last occurrence of 'Alice': {last_occurrence}\")"
   ]
  },
  {
   "cell_type": "markdown",
   "id": "049d973c-7b5c-4afb-b97b-b8d2ddc815b2",
   "metadata": {},
   "source": [
    "2. Split the chapter 1"
   ]
  },
  {
   "cell_type": "code",
   "execution_count": 3,
   "id": "f250e9f5-5245-4a0b-845e-6d83725c88c8",
   "metadata": {
    "scrolled": true
   },
   "outputs": [
    {
     "name": "stdout",
     "output_type": "stream",
     "text": [
      " I\n",
      "\n",
      "                      Down the Rabbit-Hole\n",
      "\n",
      "\n",
      "  Alice was beginning to get very tired of sitting by her sister\n",
      "on the bank, and of having nothing to do:  once or twice she had\n",
      "peeped into the book her sister was reading, but it had no\n",
      "pictures or conversations in it, `and what is the use of a book,'\n",
      "thought Alice `without pictures or conversation?'\n",
      "\n",
      "  So she was considering in her own mind (as well as she could,\n",
      "for the hot day made her feel very sleepy and stupid), whether\n",
      "the pleasure of making a daisy-chain would be worth the trouble\n",
      "of getting up and picking the daisies, when suddenly a White\n",
      "Rabbit with pink eyes ran close by her.\n",
      "\n",
      "  There was nothing so VERY remarkable in that; nor did Alice\n",
      "think it so VERY much out of the way to hear the Rabbit say to\n",
      "itself, `Oh dear!  Oh dear!  I shall be late!'  (when she thought\n",
      "it over afterwards, it occurred to her that she ought to have\n",
      "wondered at this, but at the time it all seemed quite natural);\n",
      "but when the Rabbit actually TOOK A WATCH OUT OF ITS WAISTCOAT-\n",
      "POCKET, and looked at it, and then hurried on, Alice started to\n",
      "her feet, for it flashed across her mind that she had never\n",
      "before seen a rabbit with either a waistcoat-pocket, or a watch to\n",
      "take out of it, and burning with curiosity, she ran across the\n",
      "field after it, and fortunately was just in time to see it pop\n",
      "down a large rabbit-hole under the hedge.\n",
      "\n",
      "  In another moment down went Alice after it, never once\n",
      "considering how in the world she was to get out again.\n",
      "\n",
      "  The rabbit-hole went straight on like a tunnel for some way,\n",
      "and then dipped suddenly down, so suddenly that Alice had not a\n",
      "moment to think about stopping herself before she found herself\n",
      "falling down a very deep well.\n",
      "\n",
      "  Either the well was very deep, or she fell very slowly, for she\n",
      "had plenty of time as she went down to look about her and to\n",
      "wonder what was going to happen next.  First, she tried to look\n",
      "down and make out what she was coming to, but it was too dark to\n",
      "see anything; then she looked at the sides of the well, and\n",
      "noticed that they were filled with cupboards and book-shelves;\n",
      "here and there she saw maps and pictures hung upon pegs.  She\n",
      "took down a jar from one of the shelves as she passed; it was\n",
      "labelled `ORANGE MARMALADE', but to her great disappointment it\n",
      "was empty:  she did not like to drop the jar for fear of killing\n",
      "somebody, so managed to put it into one of the cupboards as she\n",
      "fell past it.\n",
      "\n",
      "  `Well!' thought Alice to herself, `after such a fall as this, I\n",
      "shall think nothing of tumbling down stairs!  How brave they'll\n",
      "all think me at home!  Why, I wouldn't say anything about it,\n",
      "even if I fell off the top of the house!' (Which was very likely\n",
      "true.)\n",
      "\n",
      "  Down, down, down.  Would the fall NEVER come to an end!  `I\n",
      "wonder how many miles I've fallen by this time?' she said aloud.\n",
      "`I must be getting somewhere near the centre of the earth.  Let\n",
      "me see:  that would be four thousand miles down, I think--' (for,\n",
      "you see, Alice had learnt several things of this sort in her\n",
      "lessons in the schoolroom, and though this was not a VERY good\n",
      "opportunity for showing off her knowledge, as there was no one to\n",
      "listen to her, still it was good practice to say it over) `--yes,\n",
      "that's about the right distance--but then I wonder what Latitude\n",
      "or Longitude I've got to?'  (Alice had no idea what Latitude was,\n",
      "or Longitude either, but thought they were nice grand words to\n",
      "say.)\n",
      "\n",
      "  Presently she began again.  `I wonder if I shall fall right\n",
      "THROUGH the earth!  How funny it'll seem to come out among the\n",
      "people that walk with their heads downward!  The Antipathies, I\n",
      "think--' (she was rather glad there WAS no one listening, this\n",
      "time, as it didn't sound at all the right word) `--but I shall\n",
      "have to ask them what the name of the country is, you know.\n",
      "Please, Ma'am, is this New Zealand or Australia?' (and she tried\n",
      "to curtsey as she spoke--fancy CURTSEYING as you're falling\n",
      "through the air!  Do you think you could manage it?)  `And what\n",
      "an ignorant little girl she'll think me for asking!  No, it'll\n",
      "never do to ask:  perhaps I shall see it written up somewhere.'\n",
      "\n",
      "  Down, down, down.  There was nothing else to do, so Alice soon\n",
      "began talking again.  `Dinah'll miss me very much to-night, I\n",
      "should think!'  (Dinah was the cat.)  `I hope they'll remember\n",
      "her saucer of milk at tea-time.  Dinah my dear!  I wish you were\n",
      "down here with me!  There are no mice in the air, I'm afraid, but\n",
      "you might catch a bat, and that's very like a mouse, you know.\n",
      "But do cats eat bats, I wonder?'  And here Alice began to get\n",
      "rather sleepy, and went on saying to herself, in a dreamy sort of\n",
      "way, `Do cats eat bats?  Do cats eat bats?' and sometimes, `Do\n",
      "bats eat cats?' for, you see, as she couldn't answer either\n",
      "question, it didn't much matter which way she put it.  She felt\n",
      "that she was dozing off, and had just begun to dream that she\n",
      "was walking hand in hand with Dinah, and saying to her very\n",
      "earnestly, `Now, Dinah, tell me the truth:  did you ever eat a\n",
      "bat?' when suddenly, thump! thump! down she came upon a heap of\n",
      "sticks and dry leaves, and the fall was over.\n",
      "\n",
      "  Alice was not a bit hurt, and she jumped up on to her feet in a\n",
      "moment:  she looked up, but it was all dark overhead; before her\n",
      "was another long passage, and the White Rabbit was still in\n",
      "sight, hurrying down it.  There was not a moment to be lost:\n",
      "away went Alice like the wind, and was just in time to hear it\n",
      "say, as it turned a corner, `Oh my ears and whiskers, how late\n",
      "it's getting!'  She was close behind it when she turned the\n",
      "corner, but the Rabbit was no longer to be seen:  she found\n",
      "herself in a long, low hall, which was lit up by a row of lamps\n",
      "hanging from the roof.\n",
      "\n",
      "  There wre doors\tall round the hall, but they were all lcked;\n",
      "and when Alice hab been all the way down one side and up the\n",
      "other, tring every door,\tshe walked sdly down the middle,\n",
      "wondering how she was ever to get out again.\n",
      "\n",
      "  Suddenly she came upon a little three-legged table, all made of\n",
      "solid glass; there was nothing on it except a tiny golden key,\n",
      "and Alice's first thought was that it might belong to one of the\n",
      "doors of the hall; but, alas! either the locks were too large, or\n",
      "the key was too small, but at any rate it would not open any of\n",
      "them.  However, on the second time round, she came upon a low\n",
      "curtain she had not noticed before, and behind it was a little\n",
      "door about fifteen inches high:  she tried the little golden key\n",
      "in the lock, and to her great delight it fitted!\n",
      "\n",
      "  Alice opened the door and found that it led into a small\n",
      "passage, not much larger than a rat-hole:  she knelt down and\n",
      "looked along the passage into the loveliest garden you ever saw.\n",
      "How she longed to get out of that dark hall, and wander about\n",
      "among those beds of bright flowers and those cool fountains, but\n",
      "she could not even get her head though the doorway; `and even if\n",
      "my head would go through,' thought poor Alice, `it would be of\n",
      "very little use without my shoulders.  Oh, how I wish\n",
      "I could shut up like a telescope!  I think I could, if I only\n",
      "know how to begin.'  For, you see, so many out-of-the-way things\n",
      "had happened lately, that Alice had begun to think that very few\n",
      "things indeed were really impossible.\n",
      "\n",
      "  There seemed to be no use in waiting by the little door, so she\n",
      "went back to the table, half hoping she might find another key on\n",
      "it, or at any rate a book of rules for shutting people up like\n",
      "telescopes:  this time she found a little bottle on it, (`which\n",
      "certainly was not here before,' said Alice,) and round the neck\n",
      "of the bottle was a paper label, with the words `DRINK ME'\n",
      "beautifully printed on it in large letters.\n",
      "\n",
      "  It was all very well to say `Drink me,' but the wise little\n",
      "Alice was not going to do THAT in a hurry.  `No, I'll look\n",
      "first,' she said, `and see whether it's marked \"poison\" or not';\n",
      "for she had read several nice little histories about children who\n",
      "had got burnt, and eaten up by wild beasts and other unpleasant\n",
      "things, all because they WOULD not remember the simple rules\n",
      "their friends had taught them:  such as, that a red-hot poker\n",
      "will burn you if you hold it too long; and that if you cut your\n",
      "finger VERY deeply with a knife, it usually bleeds; and she had\n",
      "never forgotten that, if you drink much from a bottle marked\n",
      "`poison,' it is almost certain to disagree with you, sooner or\n",
      "later.\n",
      "\n",
      "  However, this bottle was NOT marked `poison,' so Alice ventured\n",
      "to taste it, and finding it very nice, (it had, in fact, a sort\n",
      "of mixed flavour of cherry-tart, custard, pine-apple, roast\n",
      "turkey, toffee, and hot buttered toast,) she very soon finished\n",
      "it off.\n",
      "\n",
      "     *       *       *       *       *       *       *\n",
      "\n",
      "         *       *       *       *       *       *\n",
      "\n",
      "     *       *       *       *       *       *       *\n",
      "\n",
      "  `What a curious feeling!' said Alice; `I must be shutting up\n",
      "like a telescope.'\n",
      "\n",
      "  And so it was indeed:  she was now only ten inches high, and\n",
      "her face brightened up at the thought that she was now the right\n",
      "size for going through the little door into that lovely garden.\n",
      "First, however, she waited for a few minutes to see if she was\n",
      "going to shrink any further:  she felt a little nervous about\n",
      "this; `for it might end, you know,' said Alice to herself, `in my\n",
      "going out altogether, like a candle.  I wonder what I should be\n",
      "like then?'  And she tried to fancy what the flame of a candle is\n",
      "like after the candle is blown out, for she could not remember\n",
      "ever having seen such a thing.\n",
      "\n",
      "  After a while, finding that nothing more happened, she decided\n",
      "on going into the garden at once; but, alas for poor Alice!\n",
      "when she got to the door, she found she had forgotten the\n",
      "little golden key, and when she went back to the table for it,\n",
      "she found she could not possibly reach it:  she could see it\n",
      "quite plainly through the glass, and she tried her best to climb\n",
      "up one of the legs of the table, but it was too slippery;\n",
      "and when she had tired herself out with trying,\n",
      "the poor little thing sat down and cried.\n",
      "\n",
      "  `Come, there's no use in crying like that!' said Alice to\n",
      "herself, rather sharply; `I advise you to leave off this minute!'\n",
      "She generally gave herself very good advice, (though she very\n",
      "seldom followed it), and sometimes she scolded herself so\n",
      "severely as to bring tears into her eyes; and once she remembered\n",
      "trying to box her own ears for having cheated herself in a game\n",
      "of croquet she was playing against herself, for this curious\n",
      "child was very fond of pretending to be two people.  `But it's no\n",
      "use now,' thought poor Alice, `to pretend to be two people!  Why,\n",
      "there's hardly enough of me left to make ONE respectable\n",
      "person!'\n",
      "\n",
      "  Soon her eye fell on a little glass box that was lying under\n",
      "the table:  she opened it, and found in it a very small cake, on\n",
      "which the words `EAT ME' were beautifully marked in currants.\n",
      "`Well, I'll eat it,' said Alice, `and if it makes me grow larger,\n",
      "I can reach the key; and if it makes me grow smaller, I can creep\n",
      "under the door; so either way I'll get into the garden, and I\n",
      "don't care which happens!'\n",
      "\n",
      "  She ate a little bit, and said anxiously to herself, `Which\n",
      "way?  Which way?', holding her hand on the top of her head to\n",
      "feel which way it was growing, and she was quite surprised to\n",
      "find that she remained the same size:  to be sure, this generally\n",
      "happens when one eats cake, but Alice had got so much into the\n",
      "way of expecting nothing but out-of-the-way things to happen,\n",
      "that it seemed quite dull and stupid for life to go on in the\n",
      "common way.\n",
      "\n",
      "  So she set to work, and very soon finished off the cake.\n",
      "\n",
      "     *       *       *       *       *       *       *\n",
      "\n",
      "         *       *       *       *       *       *\n",
      "\n",
      "     *       *       *       *       *       *       *\n",
      "\n",
      "\n",
      "\n",
      "\n",
      "                           \n"
     ]
    }
   ],
   "source": [
    "first_chapter = text.split(\"CHAPTER\")[1]\n",
    "print(first_chapter)"
   ]
  },
  {
   "cell_type": "markdown",
   "id": "d40a234d-d33a-4745-b920-06c84fa61718",
   "metadata": {},
   "source": [
    "3. Replace name \"Alice\" to your own name"
   ]
  },
  {
   "cell_type": "code",
   "execution_count": 4,
   "id": "5bd34a3a-8c68-4991-bcfd-ae3a67d450cb",
   "metadata": {
    "scrolled": true
   },
   "outputs": [
    {
     "name": "stdout",
     "output_type": "stream",
     "text": [
      " I\n",
      "\n",
      "                      Down the Rabbit-Hole\n",
      "\n",
      "\n",
      "  Jisu was beginning to get very tired of sitting by her sister\n",
      "on the bank, and of having nothing to do:  once or twice she had\n",
      "peeped into the book her sister was reading, but it had no\n",
      "pictures or conversations in it, `and what is the use of a book,'\n",
      "thought Jisu `without pictures or conversation?'\n",
      "\n",
      "  So she was considering in her own mind (as well as she could,\n",
      "for the hot day made her feel very sleepy and stupid), whether\n",
      "the pleasure of making a daisy-chain would be worth the trouble\n",
      "of getting up and picking the daisies, when suddenly a White\n",
      "Rabbit with pink eyes ran close by her.\n",
      "\n",
      "  There was nothing so VERY remarkable in that; nor did Jisu\n",
      "think it so VERY much out of the way to hear the Rabbit say to\n",
      "itself, `Oh dear!  Oh dear!  I shall be late!'  (when she thought\n",
      "it over afterwards, it occurred to her that she ought to have\n",
      "wondered at this, but at the time it all seemed quite natural);\n",
      "but when the Rabbit actually TOOK A WATCH OUT OF ITS WAISTCOAT-\n",
      "POCKET, and looked at it, and then hurried on, Jisu started to\n",
      "her feet, for it flashed across her mind that she had never\n",
      "before seen a rabbit with either a waistcoat-pocket, or a watch to\n",
      "take out of it, and burning with curiosity, she ran across the\n",
      "field after it, and fortunately was just in time to see it pop\n",
      "down a large rabbit-hole under the hedge.\n",
      "\n",
      "  In another moment down went Jisu after it, never once\n",
      "considering how in the world she was to get out again.\n",
      "\n",
      "  The rabbit-hole went straight on like a tunnel for some way,\n",
      "and then dipped suddenly down, so suddenly that Jisu had not a\n",
      "moment to think about stopping herself before she found herself\n",
      "falling down a very deep well.\n",
      "\n",
      "  Either the well was very deep, or she fell very slowly, for she\n",
      "had plenty of time as she went down to look about her and to\n",
      "wonder what was going to happen next.  First, she tried to look\n",
      "down and make out what she was coming to, but it was too dark to\n",
      "see anything; then she looked at the sides of the well, and\n",
      "noticed that they were filled with cupboards and book-shelves;\n",
      "here and there she saw maps and pictures hung upon pegs.  She\n",
      "took down a jar from one of the shelves as she passed; it was\n",
      "labelled `ORANGE MARMALADE', but to her great disappointment it\n",
      "was empty:  she did not like to drop the jar for fear of killing\n",
      "somebody, so managed to put it into one of the cupboards as she\n",
      "fell past it.\n",
      "\n",
      "  `Well!' thought Jisu to herself, `after such a fall as this, I\n",
      "shall think nothing of tumbling down stairs!  How brave they'll\n",
      "all think me at home!  Why, I wouldn't say anything about it,\n",
      "even if I fell off the top of the house!' (Which was very likely\n",
      "true.)\n",
      "\n",
      "  Down, down, down.  Would the fall NEVER come to an end!  `I\n",
      "wonder how many miles I've fallen by this time?' she said aloud.\n",
      "`I must be getting somewhere near the centre of the earth.  Let\n",
      "me see:  that would be four thousand miles down, I think--' (for,\n",
      "you see, Jisu had learnt several things of this sort in her\n",
      "lessons in the schoolroom, and though this was not a VERY good\n",
      "opportunity for showing off her knowledge, as there was no one to\n",
      "listen to her, still it was good practice to say it over) `--yes,\n",
      "that's about the right distance--but then I wonder what Latitude\n",
      "or Longitude I've got to?'  (Jisu had no idea what Latitude was,\n",
      "or Longitude either, but thought they were nice grand words to\n",
      "say.)\n",
      "\n",
      "  Presently she began again.  `I wonder if I shall fall right\n",
      "THROUGH the earth!  How funny it'll seem to come out among the\n",
      "people that walk with their heads downward!  The Antipathies, I\n",
      "think--' (she was rather glad there WAS no one listening, this\n",
      "time, as it didn't sound at all the right word) `--but I shall\n",
      "have to ask them what the name of the country is, you know.\n",
      "Please, Ma'am, is this New Zealand or Australia?' (and she tried\n",
      "to curtsey as she spoke--fancy CURTSEYING as you're falling\n",
      "through the air!  Do you think you could manage it?)  `And what\n",
      "an ignorant little girl she'll think me for asking!  No, it'll\n",
      "never do to ask:  perhaps I shall see it written up somewhere.'\n",
      "\n",
      "  Down, down, down.  There was nothing else to do, so Jisu soon\n",
      "began talking again.  `Dinah'll miss me very much to-night, I\n",
      "should think!'  (Dinah was the cat.)  `I hope they'll remember\n",
      "her saucer of milk at tea-time.  Dinah my dear!  I wish you were\n",
      "down here with me!  There are no mice in the air, I'm afraid, but\n",
      "you might catch a bat, and that's very like a mouse, you know.\n",
      "But do cats eat bats, I wonder?'  And here Jisu began to get\n",
      "rather sleepy, and went on saying to herself, in a dreamy sort of\n",
      "way, `Do cats eat bats?  Do cats eat bats?' and sometimes, `Do\n",
      "bats eat cats?' for, you see, as she couldn't answer either\n",
      "question, it didn't much matter which way she put it.  She felt\n",
      "that she was dozing off, and had just begun to dream that she\n",
      "was walking hand in hand with Dinah, and saying to her very\n",
      "earnestly, `Now, Dinah, tell me the truth:  did you ever eat a\n",
      "bat?' when suddenly, thump! thump! down she came upon a heap of\n",
      "sticks and dry leaves, and the fall was over.\n",
      "\n",
      "  Jisu was not a bit hurt, and she jumped up on to her feet in a\n",
      "moment:  she looked up, but it was all dark overhead; before her\n",
      "was another long passage, and the White Rabbit was still in\n",
      "sight, hurrying down it.  There was not a moment to be lost:\n",
      "away went Jisu like the wind, and was just in time to hear it\n",
      "say, as it turned a corner, `Oh my ears and whiskers, how late\n",
      "it's getting!'  She was close behind it when she turned the\n",
      "corner, but the Rabbit was no longer to be seen:  she found\n",
      "herself in a long, low hall, which was lit up by a row of lamps\n",
      "hanging from the roof.\n",
      "\n",
      "  There wre doors\tall round the hall, but they were all lcked;\n",
      "and when Jisu hab been all the way down one side and up the\n",
      "other, tring every door,\tshe walked sdly down the middle,\n",
      "wondering how she was ever to get out again.\n",
      "\n",
      "  Suddenly she came upon a little three-legged table, all made of\n",
      "solid glass; there was nothing on it except a tiny golden key,\n",
      "and Jisu's first thought was that it might belong to one of the\n",
      "doors of the hall; but, alas! either the locks were too large, or\n",
      "the key was too small, but at any rate it would not open any of\n",
      "them.  However, on the second time round, she came upon a low\n",
      "curtain she had not noticed before, and behind it was a little\n",
      "door about fifteen inches high:  she tried the little golden key\n",
      "in the lock, and to her great delight it fitted!\n",
      "\n",
      "  Jisu opened the door and found that it led into a small\n",
      "passage, not much larger than a rat-hole:  she knelt down and\n",
      "looked along the passage into the loveliest garden you ever saw.\n",
      "How she longed to get out of that dark hall, and wander about\n",
      "among those beds of bright flowers and those cool fountains, but\n",
      "she could not even get her head though the doorway; `and even if\n",
      "my head would go through,' thought poor Jisu, `it would be of\n",
      "very little use without my shoulders.  Oh, how I wish\n",
      "I could shut up like a telescope!  I think I could, if I only\n",
      "know how to begin.'  For, you see, so many out-of-the-way things\n",
      "had happened lately, that Jisu had begun to think that very few\n",
      "things indeed were really impossible.\n",
      "\n",
      "  There seemed to be no use in waiting by the little door, so she\n",
      "went back to the table, half hoping she might find another key on\n",
      "it, or at any rate a book of rules for shutting people up like\n",
      "telescopes:  this time she found a little bottle on it, (`which\n",
      "certainly was not here before,' said Jisu,) and round the neck\n",
      "of the bottle was a paper label, with the words `DRINK ME'\n",
      "beautifully printed on it in large letters.\n",
      "\n",
      "  It was all very well to say `Drink me,' but the wise little\n",
      "Jisu was not going to do THAT in a hurry.  `No, I'll look\n",
      "first,' she said, `and see whether it's marked \"poison\" or not';\n",
      "for she had read several nice little histories about children who\n",
      "had got burnt, and eaten up by wild beasts and other unpleasant\n",
      "things, all because they WOULD not remember the simple rules\n",
      "their friends had taught them:  such as, that a red-hot poker\n",
      "will burn you if you hold it too long; and that if you cut your\n",
      "finger VERY deeply with a knife, it usually bleeds; and she had\n",
      "never forgotten that, if you drink much from a bottle marked\n",
      "`poison,' it is almost certain to disagree with you, sooner or\n",
      "later.\n",
      "\n",
      "  However, this bottle was NOT marked `poison,' so Jisu ventured\n",
      "to taste it, and finding it very nice, (it had, in fact, a sort\n",
      "of mixed flavour of cherry-tart, custard, pine-apple, roast\n",
      "turkey, toffee, and hot buttered toast,) she very soon finished\n",
      "it off.\n",
      "\n",
      "     *       *       *       *       *       *       *\n",
      "\n",
      "         *       *       *       *       *       *\n",
      "\n",
      "     *       *       *       *       *       *       *\n",
      "\n",
      "  `What a curious feeling!' said Jisu; `I must be shutting up\n",
      "like a telescope.'\n",
      "\n",
      "  And so it was indeed:  she was now only ten inches high, and\n",
      "her face brightened up at the thought that she was now the right\n",
      "size for going through the little door into that lovely garden.\n",
      "First, however, she waited for a few minutes to see if she was\n",
      "going to shrink any further:  she felt a little nervous about\n",
      "this; `for it might end, you know,' said Jisu to herself, `in my\n",
      "going out altogether, like a candle.  I wonder what I should be\n",
      "like then?'  And she tried to fancy what the flame of a candle is\n",
      "like after the candle is blown out, for she could not remember\n",
      "ever having seen such a thing.\n",
      "\n",
      "  After a while, finding that nothing more happened, she decided\n",
      "on going into the garden at once; but, alas for poor Jisu!\n",
      "when she got to the door, she found she had forgotten the\n",
      "little golden key, and when she went back to the table for it,\n",
      "she found she could not possibly reach it:  she could see it\n",
      "quite plainly through the glass, and she tried her best to climb\n",
      "up one of the legs of the table, but it was too slippery;\n",
      "and when she had tired herself out with trying,\n",
      "the poor little thing sat down and cried.\n",
      "\n",
      "  `Come, there's no use in crying like that!' said Jisu to\n",
      "herself, rather sharply; `I advise you to leave off this minute!'\n",
      "She generally gave herself very good advice, (though she very\n",
      "seldom followed it), and sometimes she scolded herself so\n",
      "severely as to bring tears into her eyes; and once she remembered\n",
      "trying to box her own ears for having cheated herself in a game\n",
      "of croquet she was playing against herself, for this curious\n",
      "child was very fond of pretending to be two people.  `But it's no\n",
      "use now,' thought poor Jisu, `to pretend to be two people!  Why,\n",
      "there's hardly enough of me left to make ONE respectable\n",
      "person!'\n",
      "\n",
      "  Soon her eye fell on a little glass box that was lying under\n",
      "the table:  she opened it, and found in it a very small cake, on\n",
      "which the words `EAT ME' were beautifully marked in currants.\n",
      "`Well, I'll eat it,' said Jisu, `and if it makes me grow larger,\n",
      "I can reach the key; and if it makes me grow smaller, I can creep\n",
      "under the door; so either way I'll get into the garden, and I\n",
      "don't care which happens!'\n",
      "\n",
      "  She ate a little bit, and said anxiously to herself, `Which\n",
      "way?  Which way?', holding her hand on the top of her head to\n",
      "feel which way it was growing, and she was quite surprised to\n",
      "find that she remained the same size:  to be sure, this generally\n",
      "happens when one eats cake, but Jisu had got so much into the\n",
      "way of expecting nothing but out-of-the-way things to happen,\n",
      "that it seemed quite dull and stupid for life to go on in the\n",
      "common way.\n",
      "\n",
      "  So she set to work, and very soon finished off the cake.\n",
      "\n",
      "     *       *       *       *       *       *       *\n",
      "\n",
      "         *       *       *       *       *       *\n",
      "\n",
      "     *       *       *       *       *       *       *\n",
      "\n",
      "\n",
      "\n",
      "\n",
      "                           \n"
     ]
    }
   ],
   "source": [
    "replaced_text = first_chapter.replace(\"Alice\", \"Jisu\")\n",
    "print(replaced_text)"
   ]
  },
  {
   "cell_type": "markdown",
   "id": "b095f7b7-142c-42fb-ba4c-2a2786e5eba1",
   "metadata": {},
   "source": [
    "### Lowercasing\n",
    "1. Convert the entire text of the first chapter to lowercase."
   ]
  },
  {
   "cell_type": "code",
   "execution_count": 5,
   "id": "66a3f91a-eb11-4f6b-bd2a-1b74064e212b",
   "metadata": {
    "scrolled": true
   },
   "outputs": [
    {
     "name": "stdout",
     "output_type": "stream",
     "text": [
      " i\n",
      "\n",
      "                      down the rabbit-hole\n",
      "\n",
      "\n",
      "  alice was beginning to get very tired of sitting by her sister\n",
      "on the bank, and of having nothing to do:  once or twice she had\n",
      "peeped into the book her sister was reading, but it had no\n",
      "pictures or conversations in it, `and what is the use of a book,'\n",
      "thought alice `without pictures or conversation?'\n",
      "\n",
      "  so she was considering in her own mind (as well as she could,\n",
      "for the hot day made her feel very sleepy and stupid), whether\n",
      "the pleasure of making a daisy-chain would be worth the trouble\n",
      "of getting up and picking the daisies, when suddenly a white\n",
      "rabbit with pink eyes ran close by her.\n",
      "\n",
      "  there was nothing so very remarkable in that; nor did alice\n",
      "think it so very much out of the way to hear the rabbit say to\n",
      "itself, `oh dear!  oh dear!  i shall be late!'  (when she thought\n",
      "it over afterwards, it occurred to her that she ought to have\n",
      "wondered at this, but at the time it all seemed quite natural);\n",
      "but when the rabbit actually took a watch out of its waistcoat-\n",
      "pocket, and looked at it, and then hurried on, alice started to\n",
      "her feet, for it flashed across her mind that she had never\n",
      "before seen a rabbit with either a waistcoat-pocket, or a watch to\n",
      "take out of it, and burning with curiosity, she ran across the\n",
      "field after it, and fortunately was just in time to see it pop\n",
      "down a large rabbit-hole under the hedge.\n",
      "\n",
      "  in another moment down went alice after it, never once\n",
      "considering how in the world she was to get out again.\n",
      "\n",
      "  the rabbit-hole went straight on like a tunnel for some way,\n",
      "and then dipped suddenly down, so suddenly that alice had not a\n",
      "moment to think about stopping herself before she found herself\n",
      "falling down a very deep well.\n",
      "\n",
      "  either the well was very deep, or she fell very slowly, for she\n",
      "had plenty of time as she went down to look about her and to\n",
      "wonder what was going to happen next.  first, she tried to look\n",
      "down and make out what she was coming to, but it was too dark to\n",
      "see anything; then she looked at the sides of the well, and\n",
      "noticed that they were filled with cupboards and book-shelves;\n",
      "here and there she saw maps and pictures hung upon pegs.  she\n",
      "took down a jar from one of the shelves as she passed; it was\n",
      "labelled `orange marmalade', but to her great disappointment it\n",
      "was empty:  she did not like to drop the jar for fear of killing\n",
      "somebody, so managed to put it into one of the cupboards as she\n",
      "fell past it.\n",
      "\n",
      "  `well!' thought alice to herself, `after such a fall as this, i\n",
      "shall think nothing of tumbling down stairs!  how brave they'll\n",
      "all think me at home!  why, i wouldn't say anything about it,\n",
      "even if i fell off the top of the house!' (which was very likely\n",
      "true.)\n",
      "\n",
      "  down, down, down.  would the fall never come to an end!  `i\n",
      "wonder how many miles i've fallen by this time?' she said aloud.\n",
      "`i must be getting somewhere near the centre of the earth.  let\n",
      "me see:  that would be four thousand miles down, i think--' (for,\n",
      "you see, alice had learnt several things of this sort in her\n",
      "lessons in the schoolroom, and though this was not a very good\n",
      "opportunity for showing off her knowledge, as there was no one to\n",
      "listen to her, still it was good practice to say it over) `--yes,\n",
      "that's about the right distance--but then i wonder what latitude\n",
      "or longitude i've got to?'  (alice had no idea what latitude was,\n",
      "or longitude either, but thought they were nice grand words to\n",
      "say.)\n",
      "\n",
      "  presently she began again.  `i wonder if i shall fall right\n",
      "through the earth!  how funny it'll seem to come out among the\n",
      "people that walk with their heads downward!  the antipathies, i\n",
      "think--' (she was rather glad there was no one listening, this\n",
      "time, as it didn't sound at all the right word) `--but i shall\n",
      "have to ask them what the name of the country is, you know.\n",
      "please, ma'am, is this new zealand or australia?' (and she tried\n",
      "to curtsey as she spoke--fancy curtseying as you're falling\n",
      "through the air!  do you think you could manage it?)  `and what\n",
      "an ignorant little girl she'll think me for asking!  no, it'll\n",
      "never do to ask:  perhaps i shall see it written up somewhere.'\n",
      "\n",
      "  down, down, down.  there was nothing else to do, so alice soon\n",
      "began talking again.  `dinah'll miss me very much to-night, i\n",
      "should think!'  (dinah was the cat.)  `i hope they'll remember\n",
      "her saucer of milk at tea-time.  dinah my dear!  i wish you were\n",
      "down here with me!  there are no mice in the air, i'm afraid, but\n",
      "you might catch a bat, and that's very like a mouse, you know.\n",
      "but do cats eat bats, i wonder?'  and here alice began to get\n",
      "rather sleepy, and went on saying to herself, in a dreamy sort of\n",
      "way, `do cats eat bats?  do cats eat bats?' and sometimes, `do\n",
      "bats eat cats?' for, you see, as she couldn't answer either\n",
      "question, it didn't much matter which way she put it.  she felt\n",
      "that she was dozing off, and had just begun to dream that she\n",
      "was walking hand in hand with dinah, and saying to her very\n",
      "earnestly, `now, dinah, tell me the truth:  did you ever eat a\n",
      "bat?' when suddenly, thump! thump! down she came upon a heap of\n",
      "sticks and dry leaves, and the fall was over.\n",
      "\n",
      "  alice was not a bit hurt, and she jumped up on to her feet in a\n",
      "moment:  she looked up, but it was all dark overhead; before her\n",
      "was another long passage, and the white rabbit was still in\n",
      "sight, hurrying down it.  there was not a moment to be lost:\n",
      "away went alice like the wind, and was just in time to hear it\n",
      "say, as it turned a corner, `oh my ears and whiskers, how late\n",
      "it's getting!'  she was close behind it when she turned the\n",
      "corner, but the rabbit was no longer to be seen:  she found\n",
      "herself in a long, low hall, which was lit up by a row of lamps\n",
      "hanging from the roof.\n",
      "\n",
      "  there wre doors\tall round the hall, but they were all lcked;\n",
      "and when alice hab been all the way down one side and up the\n",
      "other, tring every door,\tshe walked sdly down the middle,\n",
      "wondering how she was ever to get out again.\n",
      "\n",
      "  suddenly she came upon a little three-legged table, all made of\n",
      "solid glass; there was nothing on it except a tiny golden key,\n",
      "and alice's first thought was that it might belong to one of the\n",
      "doors of the hall; but, alas! either the locks were too large, or\n",
      "the key was too small, but at any rate it would not open any of\n",
      "them.  however, on the second time round, she came upon a low\n",
      "curtain she had not noticed before, and behind it was a little\n",
      "door about fifteen inches high:  she tried the little golden key\n",
      "in the lock, and to her great delight it fitted!\n",
      "\n",
      "  alice opened the door and found that it led into a small\n",
      "passage, not much larger than a rat-hole:  she knelt down and\n",
      "looked along the passage into the loveliest garden you ever saw.\n",
      "how she longed to get out of that dark hall, and wander about\n",
      "among those beds of bright flowers and those cool fountains, but\n",
      "she could not even get her head though the doorway; `and even if\n",
      "my head would go through,' thought poor alice, `it would be of\n",
      "very little use without my shoulders.  oh, how i wish\n",
      "i could shut up like a telescope!  i think i could, if i only\n",
      "know how to begin.'  for, you see, so many out-of-the-way things\n",
      "had happened lately, that alice had begun to think that very few\n",
      "things indeed were really impossible.\n",
      "\n",
      "  there seemed to be no use in waiting by the little door, so she\n",
      "went back to the table, half hoping she might find another key on\n",
      "it, or at any rate a book of rules for shutting people up like\n",
      "telescopes:  this time she found a little bottle on it, (`which\n",
      "certainly was not here before,' said alice,) and round the neck\n",
      "of the bottle was a paper label, with the words `drink me'\n",
      "beautifully printed on it in large letters.\n",
      "\n",
      "  it was all very well to say `drink me,' but the wise little\n",
      "alice was not going to do that in a hurry.  `no, i'll look\n",
      "first,' she said, `and see whether it's marked \"poison\" or not';\n",
      "for she had read several nice little histories about children who\n",
      "had got burnt, and eaten up by wild beasts and other unpleasant\n",
      "things, all because they would not remember the simple rules\n",
      "their friends had taught them:  such as, that a red-hot poker\n",
      "will burn you if you hold it too long; and that if you cut your\n",
      "finger very deeply with a knife, it usually bleeds; and she had\n",
      "never forgotten that, if you drink much from a bottle marked\n",
      "`poison,' it is almost certain to disagree with you, sooner or\n",
      "later.\n",
      "\n",
      "  however, this bottle was not marked `poison,' so alice ventured\n",
      "to taste it, and finding it very nice, (it had, in fact, a sort\n",
      "of mixed flavour of cherry-tart, custard, pine-apple, roast\n",
      "turkey, toffee, and hot buttered toast,) she very soon finished\n",
      "it off.\n",
      "\n",
      "     *       *       *       *       *       *       *\n",
      "\n",
      "         *       *       *       *       *       *\n",
      "\n",
      "     *       *       *       *       *       *       *\n",
      "\n",
      "  `what a curious feeling!' said alice; `i must be shutting up\n",
      "like a telescope.'\n",
      "\n",
      "  and so it was indeed:  she was now only ten inches high, and\n",
      "her face brightened up at the thought that she was now the right\n",
      "size for going through the little door into that lovely garden.\n",
      "first, however, she waited for a few minutes to see if she was\n",
      "going to shrink any further:  she felt a little nervous about\n",
      "this; `for it might end, you know,' said alice to herself, `in my\n",
      "going out altogether, like a candle.  i wonder what i should be\n",
      "like then?'  and she tried to fancy what the flame of a candle is\n",
      "like after the candle is blown out, for she could not remember\n",
      "ever having seen such a thing.\n",
      "\n",
      "  after a while, finding that nothing more happened, she decided\n",
      "on going into the garden at once; but, alas for poor alice!\n",
      "when she got to the door, she found she had forgotten the\n",
      "little golden key, and when she went back to the table for it,\n",
      "she found she could not possibly reach it:  she could see it\n",
      "quite plainly through the glass, and she tried her best to climb\n",
      "up one of the legs of the table, but it was too slippery;\n",
      "and when she had tired herself out with trying,\n",
      "the poor little thing sat down and cried.\n",
      "\n",
      "  `come, there's no use in crying like that!' said alice to\n",
      "herself, rather sharply; `i advise you to leave off this minute!'\n",
      "she generally gave herself very good advice, (though she very\n",
      "seldom followed it), and sometimes she scolded herself so\n",
      "severely as to bring tears into her eyes; and once she remembered\n",
      "trying to box her own ears for having cheated herself in a game\n",
      "of croquet she was playing against herself, for this curious\n",
      "child was very fond of pretending to be two people.  `but it's no\n",
      "use now,' thought poor alice, `to pretend to be two people!  why,\n",
      "there's hardly enough of me left to make one respectable\n",
      "person!'\n",
      "\n",
      "  soon her eye fell on a little glass box that was lying under\n",
      "the table:  she opened it, and found in it a very small cake, on\n",
      "which the words `eat me' were beautifully marked in currants.\n",
      "`well, i'll eat it,' said alice, `and if it makes me grow larger,\n",
      "i can reach the key; and if it makes me grow smaller, i can creep\n",
      "under the door; so either way i'll get into the garden, and i\n",
      "don't care which happens!'\n",
      "\n",
      "  she ate a little bit, and said anxiously to herself, `which\n",
      "way?  which way?', holding her hand on the top of her head to\n",
      "feel which way it was growing, and she was quite surprised to\n",
      "find that she remained the same size:  to be sure, this generally\n",
      "happens when one eats cake, but alice had got so much into the\n",
      "way of expecting nothing but out-of-the-way things to happen,\n",
      "that it seemed quite dull and stupid for life to go on in the\n",
      "common way.\n",
      "\n",
      "  so she set to work, and very soon finished off the cake.\n",
      "\n",
      "     *       *       *       *       *       *       *\n",
      "\n",
      "         *       *       *       *       *       *\n",
      "\n",
      "     *       *       *       *       *       *       *\n",
      "\n",
      "\n",
      "\n",
      "\n",
      "                           \n"
     ]
    }
   ],
   "source": [
    "# Convert the entire text of the first chapter to lowercase\n",
    "first_chapter_lower = first_chapter.lower()\n",
    "print(first_chapter_lower)"
   ]
  },
  {
   "cell_type": "markdown",
   "id": "0222d1b3-c33a-4f64-b20b-66417f515af4",
   "metadata": {},
   "source": [
    "2. Compare two sentences from different parts of the book case-insensitively to check if they are the same."
   ]
  },
  {
   "cell_type": "code",
   "execution_count": 6,
   "id": "11e06154-c8d4-4860-b852-0ef76c004e83",
   "metadata": {},
   "outputs": [
    {
     "name": "stdout",
     "output_type": "stream",
     "text": [
      "Are the sentences equal? True\n"
     ]
    }
   ],
   "source": [
    "# Compare two sentences case-insensitively\n",
    "sentence1 = \"Alice was beginning to get very tired.\"\n",
    "sentence2 = \"alice was beginning to get very tired.\"\n",
    "are_equal = sentence1.lower() == sentence2.lower()\n",
    "print(f\"Are the sentences equal? {are_equal}\")\n"
   ]
  },
  {
   "cell_type": "markdown",
   "id": "5c663917-f4b4-4f41-8f4d-d390cb627f75",
   "metadata": {},
   "source": [
    "### Removing Punctuations, Numbers, and Special Characters\n",
    "1. Remove all punctuations from the first paragraph of the book."
   ]
  },
  {
   "cell_type": "code",
   "execution_count": 7,
   "id": "74eadf40-99ee-4591-85e6-548badc1b804",
   "metadata": {},
   "outputs": [
    {
     "name": "stdout",
     "output_type": "stream",
     "text": [
      "Original text: \n",
      "  Alice was beginning to get very tired of sitting by her sister\n",
      "on the bank, and of having nothing to do:  once or twice she had\n",
      "peeped into the book her sister was reading, but it had no\n",
      "pictures or conversations in it, `and what is the use of a book,'\n",
      "thought Alice `without pictures or conversation?'\n",
      "After removing all punctuations: \n",
      "  Alice was beginning to get very tired of sitting by her sister\n",
      "on the bank and of having nothing to do  once or twice she had\n",
      "peeped into the book her sister was reading but it had no\n",
      "pictures or conversations in it and what is the use of a book\n",
      "thought Alice without pictures or conversation\n"
     ]
    }
   ],
   "source": [
    "import string\n",
    "\n",
    "# Assuming first_chapter contains the content of the first chapter\n",
    "\n",
    "# Split the first chapter into paragraphs\n",
    "paragraphs = first_chapter.split('\\n\\n')\n",
    "\n",
    "first_paragraph = paragraphs[2]\n",
    "print(f\"Original text: {first_paragraph}\")\n",
    "\n",
    "# Remove punctuation\n",
    "text_without_punctuation = first_paragraph.translate(str.maketrans('', '', string.punctuation))\n",
    "\n",
    "# Display text without punctuation\n",
    "print(f\"After removing all punctuations: {text_without_punctuation}\")"
   ]
  },
  {
   "cell_type": "markdown",
   "id": "a3c2f2a8-27b3-4a49-8443-1e7fa9541f1f",
   "metadata": {},
   "source": [
    "2. Write a function to remove any numbers and special characters found in the text of the first chapter."
   ]
  },
  {
   "cell_type": "code",
   "execution_count": 8,
   "id": "c5db83f5-cb2c-44ba-87de-88284aafce5f",
   "metadata": {},
   "outputs": [
    {
     "name": "stdout",
     "output_type": "stream",
     "text": [
      "\n",
      "  Alice was beginning to get very tired of sitting by her sister\n",
      "on the bank and of having nothing to do  once or twice she had\n",
      "peeped into the book her sister was reading but it had no\n",
      "pictures or conversations in it and what is the use of a book\n",
      "thought Alice without pictures or conversation\n"
     ]
    }
   ],
   "source": [
    "import string\n",
    "\n",
    "# Create translation table to remove digits and special characters\n",
    "translation_table = str.maketrans('', '', string.digits + string.punctuation)\n",
    "\n",
    "# Remove numbers and special characters\n",
    "cleaned_text = first_paragraph.translate(translation_table)\n",
    "\n",
    "# Display cleaned text\n",
    "print(cleaned_text)"
   ]
  },
  {
   "cell_type": "markdown",
   "id": "477fd487-9135-40d3-880b-87d9e5ecd035",
   "metadata": {},
   "source": [
    "### Handling Contractions\n",
    "1. Expand all contractions in the famous quote \"We're all mad here.\" from the book using the `contractions` library."
   ]
  },
  {
   "cell_type": "code",
   "execution_count": 9,
   "id": "f1819790-dde4-4c99-bb9b-e5ce4b500701",
   "metadata": {},
   "outputs": [
    {
     "name": "stdout",
     "output_type": "stream",
     "text": [
      "I am late! We are all mad here. That is the problem.\n"
     ]
    }
   ],
   "source": [
    "import contractions\n",
    "\n",
    "sample_passage = \"I'm late! We're all mad here. That's the problem.\"\n",
    "\n",
    "print(contractions.fix(sample_passage))"
   ]
  },
  {
   "cell_type": "markdown",
   "id": "d9eedfa5-d7c0-49d5-84fc-e59f237df34b",
   "metadata": {},
   "source": [
    "### Spell Checking and Correction\n",
    "1. Identify and correct any intentionally misspelled words in a given excerpt from the book.\n",
    "The 13th paragraph has been purposely misspelled."
   ]
  },
  {
   "cell_type": "code",
   "execution_count": 10,
   "id": "42ae315e-f8b6-4d2d-a78d-e69c7d7a9b28",
   "metadata": {},
   "outputs": [
    {
     "name": "stdout",
     "output_type": "stream",
     "text": [
      "  There wre doors\tall round the hall, but they were all lcked;\n",
      "and when Alice hab been all the way down one side and up the\n",
      "other, tring every door,\tshe walked sdly down the middle,\n",
      "wondering how she was ever to get out again.\n"
     ]
    }
   ],
   "source": [
    "misspelled_text = paragraphs[13]\n",
    "print(misspelled_text)"
   ]
  },
  {
   "cell_type": "code",
   "execution_count": 11,
   "id": "460cf02f-05c7-43c0-9525-56ee921353f7",
   "metadata": {},
   "outputs": [
    {
     "name": "stdout",
     "output_type": "stream",
     "text": [
      "Corrected text:   There we doors\tall round the hall but they were all liked\n",
      "and when Alice had been all the way down one side and up the\n",
      "other thing every door\tshe walked sadly down the middle\n",
      "wondering how she was ever to get out again\n"
     ]
    }
   ],
   "source": [
    "from spellchecker import SpellChecker\n",
    "\n",
    "# Spell checker instance\n",
    "spell = SpellChecker()\n",
    "\n",
    "# Correcting the misspelled words\n",
    "words = misspelled_text.split()\n",
    "misspelled = spell.unknown(words)\n",
    "\n",
    "for word in misspelled:\n",
    "    corrected_word = spell.correction(word)\n",
    "    misspelled_text = misspelled_text.replace(word, corrected_word)\n",
    "\n",
    "print(f\"Corrected text: {misspelled_text}\")\n"
   ]
  },
  {
   "cell_type": "markdown",
   "id": "c15441d9-3aa0-42f7-a03f-cd9a7b98a1b8",
   "metadata": {},
   "source": [
    "### Tokenization\n",
    "1. Tokenize the first paragraph into sentences and words."
   ]
  },
  {
   "cell_type": "code",
   "execution_count": 12,
   "id": "5e36c0aa-e0c6-4908-8c44-b353b7e5cffd",
   "metadata": {},
   "outputs": [
    {
     "name": "stdout",
     "output_type": "stream",
     "text": [
      "[\"\\n  Alice was beginning to get very tired of sitting by her sister\\non the bank, and of having nothing to do:  once or twice she had\\npeeped into the book her sister was reading, but it had no\\npictures or conversations in it, `and what is the use of a book,'\\nthought Alice `without pictures or conversation?'\"]\n",
      "['Alice', 'was', 'beginning', 'to', 'get', 'very', 'tired', 'of', 'sitting', 'by', 'her', 'sister', 'on', 'the', 'bank', ',', 'and', 'of', 'having', 'nothing']\n"
     ]
    }
   ],
   "source": [
    "from nltk.tokenize import sent_tokenize, word_tokenize\n",
    "\n",
    "# Tokenize the first chapter into sentences and words\n",
    "sentences = sent_tokenize(first_paragraph)\n",
    "words = word_tokenize(first_paragraph)\n",
    "\n",
    "print(sentences[:5])  # Print the first 5 sentences\n",
    "print(words[:20])  # Print the first 20 words"
   ]
  },
  {
   "cell_type": "markdown",
   "id": "554209aa-0a6d-44e6-a8c2-bc827af6333c",
   "metadata": {},
   "source": [
    "2. Write a function that tokenizes a sentence into words without using any library functions."
   ]
  },
  {
   "cell_type": "code",
   "execution_count": 13,
   "id": "a2c15fc1-ffa5-4017-914d-f0c36117ab66",
   "metadata": {},
   "outputs": [
    {
     "name": "stdout",
     "output_type": "stream",
     "text": [
      "['Alice', 'was', 'beginning', 'to', 'get', 'very', 'tired', 'of', 'sitting', 'by', 'her', 'sister', 'on', 'the', 'bank,', 'and', 'of', 'having', 'nothing', 'to', 'do:', 'once', 'or', 'twice', 'she', 'had', 'peeped', 'into', 'the', 'book', 'her', 'sister', 'was', 'reading,', 'but', 'it', 'had', 'no', 'pictures', 'or', 'conversations', 'in', 'it,', '`and', 'what', 'is', 'the', 'use', 'of', 'a', \"book,'\", 'thought', 'Alice', '`without', 'pictures', 'or', \"conversation?'\"]\n"
     ]
    }
   ],
   "source": [
    "# Tokenize a sentence without using library functions\n",
    "def simple_tokenize(sentence):\n",
    "    return sentence.split()\n",
    "\n",
    "tokenized_simple = simple_tokenize(first_paragraph)\n",
    "print(tokenized_simple)\n"
   ]
  },
  {
   "cell_type": "markdown",
   "id": "11b2abb4-57a7-4840-856f-2260cd75d710",
   "metadata": {},
   "source": [
    "### Regular Expressions\n",
    "1. Extract all email addresses (if any) from the text using regular expressions. (You can add fake email addresses for fun.)"
   ]
  },
  {
   "cell_type": "code",
   "execution_count": 14,
   "id": "aa53f342-823a-4147-bb88-bdcdc47be052",
   "metadata": {},
   "outputs": [
    {
     "name": "stdout",
     "output_type": "stream",
     "text": [
      "['alice@wonderland.com', 'rabbit@wonderland.com']\n"
     ]
    }
   ],
   "source": [
    "import re\n",
    "\n",
    "# Add fake email addresses for demonstration\n",
    "text_with_emails = text + \" Contact us at alice@wonderland.com or rabbit@wonderland.com.\"\n",
    "\n",
    "# Extract email addresses\n",
    "emails = re.findall(r'\\b[A-Za-z0-9._%+-]+@[A-Za-z0-9.-]+\\.[A-Z|a-z]{2,}\\b', text_with_emails)\n",
    "print(emails)\n"
   ]
  },
  {
   "cell_type": "markdown",
   "id": "1254958b-1edd-43f2-9115-74cc53e68f04",
   "metadata": {},
   "source": [
    "2. Find all uppercase words in the first chapter using regular expressions."
   ]
  },
  {
   "cell_type": "code",
   "execution_count": 15,
   "id": "7bc69c4d-3a2e-4e19-8d95-a1f079452763",
   "metadata": {},
   "outputs": [
    {
     "name": "stdout",
     "output_type": "stream",
     "text": [
      "['I', 'VERY', 'VERY', 'I', 'TOOK', 'A', 'WATCH', 'OUT', 'OF', 'ITS', 'WAISTCOAT', 'POCKET', 'ORANGE', 'MARMALADE', 'I', 'I', 'I', 'NEVER', 'I', 'I']\n"
     ]
    }
   ],
   "source": [
    "# Find all words starting with a capital letter\n",
    "uppercase_words = re.findall(r'\\b[A-Z]+\\b', first_chapter)\n",
    "print(uppercase_words[:20])  # Print the first 20 uppercase words"
   ]
  },
  {
   "cell_type": "markdown",
   "id": "4cb61671-c96c-424f-802a-67835c5acc76",
   "metadata": {},
   "source": [
    "### Normalization\n",
    "1. Normalize a given excerpt by converting it to lowercase and removing punctuations."
   ]
  },
  {
   "cell_type": "code",
   "execution_count": 16,
   "id": "4e83a0a8-293a-4f52-99f1-a1c08c94c452",
   "metadata": {},
   "outputs": [
    {
     "name": "stdout",
     "output_type": "stream",
     "text": [
      "\n",
      "  alice was beginning to get very tired of sitting by her sister\n",
      "on the bank, and of having nothing to do:  once or twice she had\n",
      "peeped into the book her sister was reading, but it had no\n",
      "pictures or conversations in it, `and what is the use of a book,'\n",
      "thought alice `without pictures or conversation?'\n"
     ]
    }
   ],
   "source": [
    "# Normalize by converting to lowercase and removing punctuations\n",
    "def normalize_text(text):\n",
    "    text = text.lower()\n",
    "    return text\n",
    "\n",
    "normalized_excerpt = normalize_text(first_paragraph)\n",
    "print(normalized_excerpt)"
   ]
  },
  {
   "cell_type": "markdown",
   "id": "424ce167-c145-4bb7-a332-c6c56e58741f",
   "metadata": {},
   "source": [
    "2. Write a function that normalizes white space in the text (e.g., convert multiple spaces to a single space). Use the same misspelled_text from above."
   ]
  },
  {
   "cell_type": "code",
   "execution_count": 17,
   "id": "1c1c511d-2a3a-4184-9d34-fc69ac77d71f",
   "metadata": {},
   "outputs": [
    {
     "name": "stdout",
     "output_type": "stream",
     "text": [
      "  There wre doors\tall round the hall, but they were all lcked;\n",
      "and when Alice hab been all the way down one side and up the\n",
      "other, tring every door,\tshe walked sdly down the middle,\n",
      "wondering how she was ever to get out again.\n"
     ]
    }
   ],
   "source": [
    "misspelled_text = paragraphs[13]\n",
    "print(misspelled_text)"
   ]
  },
  {
   "cell_type": "code",
   "execution_count": 18,
   "id": "27423db9-13ed-41f8-afa1-802d5ad2ef35",
   "metadata": {},
   "outputs": [
    {
     "data": {
      "text/plain": [
       "'There wre doors all round the hall, but they were all lcked; and when Alice hab been all the way down one side and up the other, tring every door, she walked sdly down the middle, wondering how she was ever to get out again.'"
      ]
     },
     "execution_count": 18,
     "metadata": {},
     "output_type": "execute_result"
    }
   ],
   "source": [
    "' '.join(misspelled_text.split())"
   ]
  },
  {
   "cell_type": "markdown",
   "id": "3b066b1b-658d-4414-8835-4000d3749ca0",
   "metadata": {},
   "source": [
    "### Stemming\n",
    "1. Apply stemming to a list of words from a random page in the book using the Porter Stemmer."
   ]
  },
  {
   "cell_type": "code",
   "execution_count": 19,
   "id": "c01d8f30-7d45-413e-8e20-cba4414b20fe",
   "metadata": {},
   "outputs": [
    {
     "name": "stdout",
     "output_type": "stream",
     "text": [
      "Original text:\n",
      "\n",
      "  Alice was beginning to get very tired of sitting by her sister\n",
      "on the bank, and of having nothing to do:  once or twice she had\n",
      "peeped into the book her sister was reading, but it had no\n",
      "pictures or conversations in it, `and what is the use of a book,'\n",
      "thought Alice `without pictures or conversation?'\n",
      "\n",
      "Stemmed text:\n",
      "alic wa begin to get veri tire of sit by her sister on the bank , and of have noth to do : onc or twice she had peep into the book her sister wa read , but it had no pictur or convers in it , ` and what is the use of a book , ' thought alic ` without pictur or convers ? '\n"
     ]
    }
   ],
   "source": [
    "from nltk.stem import PorterStemmer, SnowballStemmer\n",
    "# Create a PorterStemmer object\n",
    "porter = PorterStemmer()\n",
    "# Tokenize the text into words\n",
    "words = word_tokenize(first_paragraph)\n",
    "\n",
    "# Apply stemming to each word\n",
    "stemmed_words = [porter.stem(word) for word in words]\n",
    "\n",
    "# Join the stemmed words back into a string\n",
    "stemmed_text = ' '.join(stemmed_words)\n",
    "\n",
    "print(\"Original text:\")\n",
    "print(first_paragraph)\n",
    "print(\"\\nStemmed text:\")\n",
    "print(stemmed_text)"
   ]
  },
  {
   "cell_type": "markdown",
   "id": "13eafd95-4e4d-489a-b594-bf33d4b60923",
   "metadata": {},
   "source": [
    "2. Compare the results of different stemming algorithms on the same text excerpt."
   ]
  },
  {
   "cell_type": "code",
   "execution_count": 20,
   "id": "c68666f4-d0ed-40e8-b512-3abde5827117",
   "metadata": {},
   "outputs": [
    {
     "name": "stdout",
     "output_type": "stream",
     "text": [
      "Snowball Stemmer: ['alic', 'was', 'begin', 'to', 'get', 'veri', 'tire', 'of', 'sit', 'by', 'her', 'sister', 'on', 'the', 'bank', ',', 'and', 'of', 'have', 'noth', 'to', 'do', ':', 'onc', 'or', 'twice', 'she', 'had', 'peep', 'into', 'the', 'book', 'her', 'sister', 'was', 'read', ',', 'but', 'it', 'had', 'no', 'pictur', 'or', 'convers', 'in', 'it', ',', '`', 'and', 'what', 'is', 'the', 'use', 'of', 'a', 'book', ',', \"'\", 'thought', 'alic', '`', 'without', 'pictur', 'or', 'convers', '?', \"'\"]\n"
     ]
    }
   ],
   "source": [
    "# Apply Snowball Stemmer\n",
    "snowball = SnowballStemmer('english')\n",
    "stemmed_snowball = [snowball.stem(word) for word in words]\n",
    "print(f\"Snowball Stemmer: {stemmed_snowball}\")\n"
   ]
  },
  {
   "cell_type": "code",
   "execution_count": 21,
   "id": "fcd3b04e-edd4-4ff6-aa49-6c2f3ba5b25e",
   "metadata": {},
   "outputs": [],
   "source": [
    "# !pip install TextBlob"
   ]
  },
  {
   "cell_type": "code",
   "execution_count": 22,
   "id": "9e217b34-151a-4656-9771-d301a27fb4fc",
   "metadata": {},
   "outputs": [
    {
     "name": "stdout",
     "output_type": "stream",
     "text": [
      "Stemmed text using TextBlob:\n",
      "alic wa begin to get veri tire of sit by her sister on the bank and of have noth to do onc or twice she had peep into the book her sister wa read but it had no pictur or convers in it and what is the use of a book thought alic without pictur or convers\n"
     ]
    }
   ],
   "source": [
    "from textblob import TextBlob\n",
    "\n",
    "# Create a TextBlob object\n",
    "blob = TextBlob(first_paragraph)\n",
    "\n",
    "# Perform stemming\n",
    "stemmed_text = ' '.join([word.stem() for word in blob.words])\n",
    "\n",
    "print(\"Stemmed text using TextBlob:\")\n",
    "print(stemmed_text)\n"
   ]
  },
  {
   "cell_type": "markdown",
   "id": "56991f61-26ca-4efd-92de-3cd38f2fc580",
   "metadata": {},
   "source": [
    "### Part of Speech (POS) Tagging\n",
    "1. Return the POS tags of all words in a selected paragraph."
   ]
  },
  {
   "cell_type": "code",
   "execution_count": 23,
   "id": "399ebaa9-dfc1-4d02-9708-f2b7f077b4fe",
   "metadata": {},
   "outputs": [
    {
     "name": "stdout",
     "output_type": "stream",
     "text": [
      "[('Alice', 'NNP'), ('was', 'VBD'), ('beginning', 'VBG'), ('to', 'TO'), ('get', 'VB'), ('very', 'RB'), ('tired', 'JJ'), ('of', 'IN'), ('sitting', 'VBG'), ('by', 'IN'), ('her', 'PRP$'), ('sister', 'NN'), ('on', 'IN'), ('the', 'DT'), ('bank', 'NN'), (',', ','), ('and', 'CC'), ('of', 'IN'), ('having', 'VBG'), ('nothing', 'NN'), ('to', 'TO'), ('do', 'VB'), (':', ':'), ('once', 'RB'), ('or', 'CC'), ('twice', 'VB'), ('she', 'PRP'), ('had', 'VBD'), ('peeped', 'VBN'), ('into', 'IN'), ('the', 'DT'), ('book', 'NN'), ('her', 'PRP$'), ('sister', 'NN'), ('was', 'VBD'), ('reading', 'VBG'), (',', ','), ('but', 'CC'), ('it', 'PRP'), ('had', 'VBD'), ('no', 'DT'), ('pictures', 'NNS'), ('or', 'CC'), ('conversations', 'NNS'), ('in', 'IN'), ('it', 'PRP'), (',', ','), ('`', '``'), ('and', 'CC'), ('what', 'WP'), ('is', 'VBZ'), ('the', 'DT'), ('use', 'NN'), ('of', 'IN'), ('a', 'DT'), ('book', 'NN'), (',', ','), (\"'\", \"''\"), ('thought', 'JJ'), ('Alice', 'NNP'), ('`', '``'), ('without', 'IN'), ('pictures', 'NNS'), ('or', 'CC'), ('conversation', 'NN'), ('?', '.'), (\"'\", \"''\")]\n"
     ]
    }
   ],
   "source": [
    "import nltk\n",
    "\n",
    "# POS tagging a sentence\n",
    "tokens = nltk.word_tokenize(first_paragraph)\n",
    "pos_tags = nltk.pos_tag(tokens)\n",
    "print(pos_tags)\n"
   ]
  },
  {
   "cell_type": "markdown",
   "id": "c78fb01b-fda3-40f0-9c76-49dc5234c706",
   "metadata": {},
   "source": [
    "2. Count the number of nouns, verbs, and adjectives in the selected paragraph. "
   ]
  },
  {
   "cell_type": "code",
   "execution_count": 24,
   "id": "0f663650-306a-4927-9fe6-2a74d6bc85d4",
   "metadata": {},
   "outputs": [
    {
     "name": "stdout",
     "output_type": "stream",
     "text": [
      "Nouns: There are 13 ['Alice', 'sister', 'bank', 'nothing', 'book', 'sister', 'pictures', 'conversations', 'use', 'book', 'Alice', 'pictures', 'conversation']\n",
      "Verbs: There are 13 ['was', 'beginning', 'get', 'sitting', 'having', 'do', 'twice', 'had', 'peeped', 'was', 'reading', 'had', 'is']\n",
      "Adjectives: There are 2 ['tired', 'thought']\n"
     ]
    }
   ],
   "source": [
    "# Counting nouns, verbs, and adjectives\n",
    "nouns = [word for word, pos in pos_tags if pos.startswith('NN')]\n",
    "verbs = [word for word, pos in pos_tags if pos.startswith('VB')]\n",
    "adjectives = [word for word, pos in pos_tags if pos.startswith('JJ')]\n",
    "\n",
    "print(f\"Nouns: There are {len(nouns)} {nouns}\")\n",
    "print(f\"Verbs: There are {len(verbs)} {verbs}\")\n",
    "print(f\"Adjectives: There are {len(adjectives)} {adjectives}\")\n"
   ]
  },
  {
   "cell_type": "markdown",
   "id": "b237ac58-e594-4774-ac69-65f290dc4919",
   "metadata": {},
   "source": [
    "### Named Entity Recognition (NER)\n",
    "1. Identify and classify named entities in the first chapter using NLTK."
   ]
  },
  {
   "cell_type": "code",
   "execution_count": 25,
   "id": "24f3614d-fc07-4ea6-907b-eddcfeaef2f5",
   "metadata": {},
   "outputs": [
    {
     "name": "stdout",
     "output_type": "stream",
     "text": [
      "[Tree('PERSON', [('Alice', 'NNP')]), Tree('PERSON', [('Alice', 'NNP')]), Tree('PERSON', [('Which', 'NNP')]), Tree('PERSON', [('Alice', 'NNP')]), Tree('PERSON', [('Latitude', 'NNP')]), Tree('PERSON', [('Latitude', 'NNP')]), Tree('PERSON', [('Please', 'NNP')]), Tree('PERSON', [('Down', 'NNP')]), Tree('PERSON', [('Dinah', 'NNP')]), Tree('PERSON', [('Dinah', 'NNP')]), Tree('PERSON', [('Dinah', 'NNP')]), Tree('PERSON', [('Alice', 'NNP')]), Tree('PERSON', [('Rabbit', 'NNP')]), Tree('PERSON', [('Alice', 'NNP')]), Tree('PERSON', [('Alice', 'NNP')]), Tree('PERSON', [('Alice', 'NNP')]), Tree('PERSON', [('Alice', 'NNP')]), Tree('PERSON', [('Alice', 'NNP')]), Tree('PERSON', [('Alice', 'NNP')]), Tree('PERSON', [('Alice', 'NNP')]), Tree('PERSON', [('Alice', 'NNP')]), Tree('PERSON', [('Alice', 'NNP')])]\n"
     ]
    }
   ],
   "source": [
    "# Extracting names of characters\n",
    "def extract_entities(text):\n",
    "    tokens = nltk.word_tokenize(text)\n",
    "    pos_tags = nltk.pos_tag(tokens)\n",
    "    named_entities = nltk.ne_chunk(pos_tags)\n",
    "    return [chunk for chunk in named_entities if hasattr(chunk, 'label') and chunk.label() == 'PERSON']\n",
    "\n",
    "character_names = extract_entities(first_chapter)\n",
    "print(character_names)"
   ]
  },
  {
   "cell_type": "markdown",
   "id": "944162c2-8196-4c1d-ad63-bf5ce63dfd86",
   "metadata": {},
   "source": [
    "### Bag of Words (BoW)\n",
    "1. Create a Bag of Words representation for the first chapter."
   ]
  },
  {
   "cell_type": "code",
   "execution_count": 26,
   "id": "9d0f5b15-ea56-4876-bf4d-d986e798166d",
   "metadata": {},
   "outputs": [
    {
     "name": "stdout",
     "output_type": "stream",
     "text": [
      "   about  across  actually  advice  advise  afraid  after  afterwards  again  \\\n",
      "0      8       2         1       1       1       1      5           1      4   \n",
      "\n",
      "   against  ...  world  worth  would  wouldn  wre  written  yes  you  your  \\\n",
      "0        1  ...      1      1      7       1    1        1    1   19     1   \n",
      "\n",
      "   zealand  \n",
      "0        1  \n",
      "\n",
      "[1 rows x 603 columns]\n"
     ]
    }
   ],
   "source": [
    "from sklearn.feature_extraction.text import CountVectorizer\n",
    "\n",
    "# Create Bag of Words\n",
    "vectorizer = CountVectorizer()\n",
    "X = vectorizer.fit_transform([first_chapter])\n",
    "\n",
    "# Convert to a DataFrame for better readability\n",
    "import pandas as pd\n",
    "\n",
    "df = pd.DataFrame(X.toarray(), columns=vectorizer.get_feature_names_out())\n",
    "print(df)"
   ]
  },
  {
   "cell_type": "markdown",
   "id": "1f260aa9-6a3e-4ea6-ac04-5cbed99feb9f",
   "metadata": {},
   "source": [
    "### TF-IDF (Term Frequency-Inverse Document Frequency)\n",
    "1. Compute the TF-IDF scores for a collection of chapters."
   ]
  },
  {
   "cell_type": "code",
   "execution_count": 27,
   "id": "f8ec080f-9439-47e2-8104-b7e698e91b7d",
   "metadata": {},
   "outputs": [
    {
     "data": {
      "text/html": [
       "<div>\n",
       "<style scoped>\n",
       "    .dataframe tbody tr th:only-of-type {\n",
       "        vertical-align: middle;\n",
       "    }\n",
       "\n",
       "    .dataframe tbody tr th {\n",
       "        vertical-align: top;\n",
       "    }\n",
       "\n",
       "    .dataframe thead th {\n",
       "        text-align: right;\n",
       "    }\n",
       "</style>\n",
       "<table border=\"1\" class=\"dataframe\">\n",
       "  <thead>\n",
       "    <tr style=\"text-align: right;\">\n",
       "      <th></th>\n",
       "      <th>_i_</th>\n",
       "      <th>abide</th>\n",
       "      <th>able</th>\n",
       "      <th>about</th>\n",
       "      <th>above</th>\n",
       "      <th>absence</th>\n",
       "      <th>absurd</th>\n",
       "      <th>acceptance</th>\n",
       "      <th>accident</th>\n",
       "      <th>accidentally</th>\n",
       "      <th>...</th>\n",
       "      <th>yesterday</th>\n",
       "      <th>yet</th>\n",
       "      <th>you</th>\n",
       "      <th>young</th>\n",
       "      <th>your</th>\n",
       "      <th>yours</th>\n",
       "      <th>yourself</th>\n",
       "      <th>youth</th>\n",
       "      <th>zealand</th>\n",
       "      <th>zigzag</th>\n",
       "    </tr>\n",
       "  </thead>\n",
       "  <tbody>\n",
       "    <tr>\n",
       "      <th>0</th>\n",
       "      <td>0.000000</td>\n",
       "      <td>0.000000</td>\n",
       "      <td>0.000000</td>\n",
       "      <td>0.035350</td>\n",
       "      <td>0.000000</td>\n",
       "      <td>0.000000</td>\n",
       "      <td>0.000000</td>\n",
       "      <td>0.000000</td>\n",
       "      <td>0.000000</td>\n",
       "      <td>0.000000</td>\n",
       "      <td>...</td>\n",
       "      <td>0.000000</td>\n",
       "      <td>0.000000</td>\n",
       "      <td>0.083955</td>\n",
       "      <td>0.000000</td>\n",
       "      <td>0.004419</td>\n",
       "      <td>0.000000</td>\n",
       "      <td>0.000000</td>\n",
       "      <td>0.000000</td>\n",
       "      <td>0.01269</td>\n",
       "      <td>0.000000</td>\n",
       "    </tr>\n",
       "    <tr>\n",
       "      <th>1</th>\n",
       "      <td>0.011478</td>\n",
       "      <td>0.000000</td>\n",
       "      <td>0.013365</td>\n",
       "      <td>0.051191</td>\n",
       "      <td>0.000000</td>\n",
       "      <td>0.000000</td>\n",
       "      <td>0.000000</td>\n",
       "      <td>0.000000</td>\n",
       "      <td>0.000000</td>\n",
       "      <td>0.000000</td>\n",
       "      <td>...</td>\n",
       "      <td>0.010139</td>\n",
       "      <td>0.005875</td>\n",
       "      <td>0.125652</td>\n",
       "      <td>0.000000</td>\n",
       "      <td>0.013961</td>\n",
       "      <td>0.000000</td>\n",
       "      <td>0.006913</td>\n",
       "      <td>0.000000</td>\n",
       "      <td>0.00000</td>\n",
       "      <td>0.000000</td>\n",
       "    </tr>\n",
       "    <tr>\n",
       "      <th>2</th>\n",
       "      <td>0.000000</td>\n",
       "      <td>0.000000</td>\n",
       "      <td>0.000000</td>\n",
       "      <td>0.021300</td>\n",
       "      <td>0.000000</td>\n",
       "      <td>0.000000</td>\n",
       "      <td>0.013133</td>\n",
       "      <td>0.015292</td>\n",
       "      <td>0.000000</td>\n",
       "      <td>0.000000</td>\n",
       "      <td>...</td>\n",
       "      <td>0.000000</td>\n",
       "      <td>0.000000</td>\n",
       "      <td>0.175726</td>\n",
       "      <td>0.010413</td>\n",
       "      <td>0.042600</td>\n",
       "      <td>0.000000</td>\n",
       "      <td>0.007910</td>\n",
       "      <td>0.000000</td>\n",
       "      <td>0.00000</td>\n",
       "      <td>0.000000</td>\n",
       "    </tr>\n",
       "    <tr>\n",
       "      <th>3</th>\n",
       "      <td>0.000000</td>\n",
       "      <td>0.000000</td>\n",
       "      <td>0.000000</td>\n",
       "      <td>0.051165</td>\n",
       "      <td>0.007962</td>\n",
       "      <td>0.000000</td>\n",
       "      <td>0.000000</td>\n",
       "      <td>0.000000</td>\n",
       "      <td>0.000000</td>\n",
       "      <td>0.000000</td>\n",
       "      <td>...</td>\n",
       "      <td>0.000000</td>\n",
       "      <td>0.018454</td>\n",
       "      <td>0.069438</td>\n",
       "      <td>0.000000</td>\n",
       "      <td>0.003655</td>\n",
       "      <td>0.000000</td>\n",
       "      <td>0.000000</td>\n",
       "      <td>0.000000</td>\n",
       "      <td>0.00000</td>\n",
       "      <td>0.000000</td>\n",
       "    </tr>\n",
       "    <tr>\n",
       "      <th>4</th>\n",
       "      <td>0.000000</td>\n",
       "      <td>0.000000</td>\n",
       "      <td>0.000000</td>\n",
       "      <td>0.017804</td>\n",
       "      <td>0.000000</td>\n",
       "      <td>0.000000</td>\n",
       "      <td>0.000000</td>\n",
       "      <td>0.000000</td>\n",
       "      <td>0.000000</td>\n",
       "      <td>0.000000</td>\n",
       "      <td>...</td>\n",
       "      <td>0.000000</td>\n",
       "      <td>0.028095</td>\n",
       "      <td>0.222556</td>\n",
       "      <td>0.008704</td>\n",
       "      <td>0.035609</td>\n",
       "      <td>0.010978</td>\n",
       "      <td>0.013224</td>\n",
       "      <td>0.076696</td>\n",
       "      <td>0.00000</td>\n",
       "      <td>0.012783</td>\n",
       "    </tr>\n",
       "    <tr>\n",
       "      <th>5</th>\n",
       "      <td>0.000000</td>\n",
       "      <td>0.010209</td>\n",
       "      <td>0.000000</td>\n",
       "      <td>0.014219</td>\n",
       "      <td>0.000000</td>\n",
       "      <td>0.000000</td>\n",
       "      <td>0.008767</td>\n",
       "      <td>0.000000</td>\n",
       "      <td>0.000000</td>\n",
       "      <td>0.000000</td>\n",
       "      <td>...</td>\n",
       "      <td>0.000000</td>\n",
       "      <td>0.004487</td>\n",
       "      <td>0.135082</td>\n",
       "      <td>0.000000</td>\n",
       "      <td>0.010664</td>\n",
       "      <td>0.000000</td>\n",
       "      <td>0.005281</td>\n",
       "      <td>0.000000</td>\n",
       "      <td>0.00000</td>\n",
       "      <td>0.000000</td>\n",
       "    </tr>\n",
       "    <tr>\n",
       "      <th>6</th>\n",
       "      <td>0.000000</td>\n",
       "      <td>0.000000</td>\n",
       "      <td>0.000000</td>\n",
       "      <td>0.018218</td>\n",
       "      <td>0.007938</td>\n",
       "      <td>0.000000</td>\n",
       "      <td>0.000000</td>\n",
       "      <td>0.000000</td>\n",
       "      <td>0.000000</td>\n",
       "      <td>0.000000</td>\n",
       "      <td>...</td>\n",
       "      <td>0.000000</td>\n",
       "      <td>0.013799</td>\n",
       "      <td>0.196752</td>\n",
       "      <td>0.007125</td>\n",
       "      <td>0.014574</td>\n",
       "      <td>0.000000</td>\n",
       "      <td>0.005413</td>\n",
       "      <td>0.000000</td>\n",
       "      <td>0.00000</td>\n",
       "      <td>0.000000</td>\n",
       "    </tr>\n",
       "    <tr>\n",
       "      <th>7</th>\n",
       "      <td>0.000000</td>\n",
       "      <td>0.000000</td>\n",
       "      <td>0.000000</td>\n",
       "      <td>0.028078</td>\n",
       "      <td>0.000000</td>\n",
       "      <td>0.000000</td>\n",
       "      <td>0.000000</td>\n",
       "      <td>0.000000</td>\n",
       "      <td>0.000000</td>\n",
       "      <td>0.000000</td>\n",
       "      <td>...</td>\n",
       "      <td>0.007647</td>\n",
       "      <td>0.004431</td>\n",
       "      <td>0.080725</td>\n",
       "      <td>0.000000</td>\n",
       "      <td>0.021059</td>\n",
       "      <td>0.000000</td>\n",
       "      <td>0.000000</td>\n",
       "      <td>0.000000</td>\n",
       "      <td>0.00000</td>\n",
       "      <td>0.000000</td>\n",
       "    </tr>\n",
       "    <tr>\n",
       "      <th>8</th>\n",
       "      <td>0.000000</td>\n",
       "      <td>0.000000</td>\n",
       "      <td>0.000000</td>\n",
       "      <td>0.041918</td>\n",
       "      <td>0.000000</td>\n",
       "      <td>0.010944</td>\n",
       "      <td>0.000000</td>\n",
       "      <td>0.000000</td>\n",
       "      <td>0.000000</td>\n",
       "      <td>0.000000</td>\n",
       "      <td>...</td>\n",
       "      <td>0.000000</td>\n",
       "      <td>0.009621</td>\n",
       "      <td>0.156240</td>\n",
       "      <td>0.014904</td>\n",
       "      <td>0.030486</td>\n",
       "      <td>0.018797</td>\n",
       "      <td>0.016983</td>\n",
       "      <td>0.000000</td>\n",
       "      <td>0.00000</td>\n",
       "      <td>0.000000</td>\n",
       "    </tr>\n",
       "    <tr>\n",
       "      <th>9</th>\n",
       "      <td>0.000000</td>\n",
       "      <td>0.000000</td>\n",
       "      <td>0.000000</td>\n",
       "      <td>0.045364</td>\n",
       "      <td>0.000000</td>\n",
       "      <td>0.000000</td>\n",
       "      <td>0.000000</td>\n",
       "      <td>0.000000</td>\n",
       "      <td>0.000000</td>\n",
       "      <td>0.000000</td>\n",
       "      <td>...</td>\n",
       "      <td>0.008236</td>\n",
       "      <td>0.000000</td>\n",
       "      <td>0.223037</td>\n",
       "      <td>0.000000</td>\n",
       "      <td>0.007561</td>\n",
       "      <td>0.000000</td>\n",
       "      <td>0.000000</td>\n",
       "      <td>0.000000</td>\n",
       "      <td>0.00000</td>\n",
       "      <td>0.000000</td>\n",
       "    </tr>\n",
       "    <tr>\n",
       "      <th>10</th>\n",
       "      <td>0.000000</td>\n",
       "      <td>0.000000</td>\n",
       "      <td>0.000000</td>\n",
       "      <td>0.019429</td>\n",
       "      <td>0.008466</td>\n",
       "      <td>0.000000</td>\n",
       "      <td>0.000000</td>\n",
       "      <td>0.000000</td>\n",
       "      <td>0.000000</td>\n",
       "      <td>0.000000</td>\n",
       "      <td>...</td>\n",
       "      <td>0.000000</td>\n",
       "      <td>0.019621</td>\n",
       "      <td>0.085488</td>\n",
       "      <td>0.000000</td>\n",
       "      <td>0.034972</td>\n",
       "      <td>0.000000</td>\n",
       "      <td>0.000000</td>\n",
       "      <td>0.000000</td>\n",
       "      <td>0.00000</td>\n",
       "      <td>0.000000</td>\n",
       "    </tr>\n",
       "    <tr>\n",
       "      <th>11</th>\n",
       "      <td>0.009707</td>\n",
       "      <td>0.000000</td>\n",
       "      <td>0.000000</td>\n",
       "      <td>0.031487</td>\n",
       "      <td>0.000000</td>\n",
       "      <td>0.000000</td>\n",
       "      <td>0.000000</td>\n",
       "      <td>0.000000</td>\n",
       "      <td>0.022606</td>\n",
       "      <td>0.011303</td>\n",
       "      <td>...</td>\n",
       "      <td>0.000000</td>\n",
       "      <td>0.019874</td>\n",
       "      <td>0.102333</td>\n",
       "      <td>0.000000</td>\n",
       "      <td>0.035423</td>\n",
       "      <td>0.000000</td>\n",
       "      <td>0.005847</td>\n",
       "      <td>0.000000</td>\n",
       "      <td>0.00000</td>\n",
       "      <td>0.000000</td>\n",
       "    </tr>\n",
       "  </tbody>\n",
       "</table>\n",
       "<p>12 rows × 2559 columns</p>\n",
       "</div>"
      ],
      "text/plain": [
       "         _i_     abide      able     about     above   absence    absurd  \\\n",
       "0   0.000000  0.000000  0.000000  0.035350  0.000000  0.000000  0.000000   \n",
       "1   0.011478  0.000000  0.013365  0.051191  0.000000  0.000000  0.000000   \n",
       "2   0.000000  0.000000  0.000000  0.021300  0.000000  0.000000  0.013133   \n",
       "3   0.000000  0.000000  0.000000  0.051165  0.007962  0.000000  0.000000   \n",
       "4   0.000000  0.000000  0.000000  0.017804  0.000000  0.000000  0.000000   \n",
       "5   0.000000  0.010209  0.000000  0.014219  0.000000  0.000000  0.008767   \n",
       "6   0.000000  0.000000  0.000000  0.018218  0.007938  0.000000  0.000000   \n",
       "7   0.000000  0.000000  0.000000  0.028078  0.000000  0.000000  0.000000   \n",
       "8   0.000000  0.000000  0.000000  0.041918  0.000000  0.010944  0.000000   \n",
       "9   0.000000  0.000000  0.000000  0.045364  0.000000  0.000000  0.000000   \n",
       "10  0.000000  0.000000  0.000000  0.019429  0.008466  0.000000  0.000000   \n",
       "11  0.009707  0.000000  0.000000  0.031487  0.000000  0.000000  0.000000   \n",
       "\n",
       "    acceptance  accident  accidentally  ...  yesterday       yet       you  \\\n",
       "0     0.000000  0.000000      0.000000  ...   0.000000  0.000000  0.083955   \n",
       "1     0.000000  0.000000      0.000000  ...   0.010139  0.005875  0.125652   \n",
       "2     0.015292  0.000000      0.000000  ...   0.000000  0.000000  0.175726   \n",
       "3     0.000000  0.000000      0.000000  ...   0.000000  0.018454  0.069438   \n",
       "4     0.000000  0.000000      0.000000  ...   0.000000  0.028095  0.222556   \n",
       "5     0.000000  0.000000      0.000000  ...   0.000000  0.004487  0.135082   \n",
       "6     0.000000  0.000000      0.000000  ...   0.000000  0.013799  0.196752   \n",
       "7     0.000000  0.000000      0.000000  ...   0.007647  0.004431  0.080725   \n",
       "8     0.000000  0.000000      0.000000  ...   0.000000  0.009621  0.156240   \n",
       "9     0.000000  0.000000      0.000000  ...   0.008236  0.000000  0.223037   \n",
       "10    0.000000  0.000000      0.000000  ...   0.000000  0.019621  0.085488   \n",
       "11    0.000000  0.022606      0.011303  ...   0.000000  0.019874  0.102333   \n",
       "\n",
       "       young      your     yours  yourself     youth  zealand    zigzag  \n",
       "0   0.000000  0.004419  0.000000  0.000000  0.000000  0.01269  0.000000  \n",
       "1   0.000000  0.013961  0.000000  0.006913  0.000000  0.00000  0.000000  \n",
       "2   0.010413  0.042600  0.000000  0.007910  0.000000  0.00000  0.000000  \n",
       "3   0.000000  0.003655  0.000000  0.000000  0.000000  0.00000  0.000000  \n",
       "4   0.008704  0.035609  0.010978  0.013224  0.076696  0.00000  0.012783  \n",
       "5   0.000000  0.010664  0.000000  0.005281  0.000000  0.00000  0.000000  \n",
       "6   0.007125  0.014574  0.000000  0.005413  0.000000  0.00000  0.000000  \n",
       "7   0.000000  0.021059  0.000000  0.000000  0.000000  0.00000  0.000000  \n",
       "8   0.014904  0.030486  0.018797  0.016983  0.000000  0.00000  0.000000  \n",
       "9   0.000000  0.007561  0.000000  0.000000  0.000000  0.00000  0.000000  \n",
       "10  0.000000  0.034972  0.000000  0.000000  0.000000  0.00000  0.000000  \n",
       "11  0.000000  0.035423  0.000000  0.005847  0.000000  0.00000  0.000000  \n",
       "\n",
       "[12 rows x 2559 columns]"
      ]
     },
     "execution_count": 27,
     "metadata": {},
     "output_type": "execute_result"
    }
   ],
   "source": [
    "from sklearn.feature_extraction.text import TfidfVectorizer\n",
    "\n",
    "# Assuming chapters are stored in a list\n",
    "chapters = text.split(\"CHAPTER\")[1:]\n",
    "\n",
    "# Compute TF-IDF\n",
    "tfidf_vectorizer = TfidfVectorizer()\n",
    "tfidf_matrix = tfidf_vectorizer.fit_transform(chapters)\n",
    "\n",
    "# Convert to DataFrame\n",
    "tfidf_df = pd.DataFrame(tfidf_matrix.toarray(), columns=tfidf_vectorizer.get_feature_names_out())\n",
    "tfidf_df\n"
   ]
  },
  {
   "cell_type": "markdown",
   "id": "a0fe1d30-c029-4ff8-9b65-5a35d7b81d87",
   "metadata": {},
   "source": [
    "2. Write a function that returns the top 5 words with the highest TF-IDF scores in a specific chapter."
   ]
  },
  {
   "cell_type": "code",
   "execution_count": 28,
   "id": "775de64a-212a-4c7b-bcd3-c273ec38c5e7",
   "metadata": {},
   "outputs": [
    {
     "name": "stdout",
     "output_type": "stream",
     "text": [
      "[('the', 0.425665985563078), ('she', 0.3701443352722417), ('to', 0.3470103143177266), ('it', 0.30999588079050244), ('and', 0.3007422724086964)]\n"
     ]
    }
   ],
   "source": [
    "# Function to get top 5 words with highest TF-IDF scores\n",
    "def top_tfidf_words(chapter, n=5):\n",
    "    tfidf_vectorizer = TfidfVectorizer()\n",
    "    tfidf_matrix = tfidf_vectorizer.fit_transform([chapter])\n",
    "    scores = tfidf_matrix.toarray().flatten()\n",
    "    indices = scores.argsort()[-n:][::-1]\n",
    "    features = tfidf_vectorizer.get_feature_names_out()\n",
    "    return [(features[i], scores[i]) for i in indices]\n",
    "\n",
    "top_words = top_tfidf_words(first_chapter)\n",
    "print(top_words)"
   ]
  },
  {
   "cell_type": "markdown",
   "id": "a878c035-0e79-4a42-8b23-98bf9ce1641c",
   "metadata": {},
   "source": [
    "### Word Embeddings\n",
    "1. Find the most similar words to \"Rabbit\"."
   ]
  },
  {
   "cell_type": "code",
   "execution_count": 29,
   "id": "19ae2893-77da-471e-9268-0288acd7cdfe",
   "metadata": {},
   "outputs": [
    {
     "name": "stdout",
     "output_type": "stream",
     "text": [
      "Most similar words to 'Rabbit':\n",
      "Pig: 0.5799785256385803\n",
      "Cat: 0.5635061264038086\n",
      "Dog: 0.5587672591209412\n",
      "Cow: 0.5543496608734131\n",
      "Elephant: 0.5485509634017944\n",
      "Bunny: 0.5445452332496643\n",
      "Squirrel: 0.544014573097229\n",
      "Rat: 0.5370129346847534\n",
      "Monkey: 0.5358502864837646\n",
      "Rooster: 0.5354437828063965\n"
     ]
    }
   ],
   "source": [
    "import gensim.downloader as api\n",
    "import warnings\n",
    "\n",
    "warnings.filterwarnings(action='ignore')\n",
    "\n",
    "# Load pre-trained word embeddings (Word2Vec model)\n",
    "word_vectors = api.load(\"word2vec-google-news-300\")\n",
    "\n",
    "# Find most similar words to \"Alice\"\n",
    "similar_words = word_vectors.most_similar(\"Rabbit\")\n",
    "\n",
    "# Print the most similar words\n",
    "print(\"Most similar words to 'Rabbit':\")\n",
    "for word, similarity in similar_words:\n",
    "    print(f\"{word}: {similarity}\")"
   ]
  },
  {
   "cell_type": "markdown",
   "id": "a9471538-b7bc-458e-beac-1f4068ff364e",
   "metadata": {},
   "source": [
    "2. Write a function that computes the cosine similarity between two words, such as \"Alice\" and \"Wonderland\"."
   ]
  },
  {
   "cell_type": "code",
   "execution_count": 6,
   "id": "7f220150-6ce1-40ca-b557-4846a31c5101",
   "metadata": {},
   "outputs": [
    {
     "name": "stdout",
     "output_type": "stream",
     "text": [
      "Cosine similarity between 'alice' and 'wonderland' - Skip Gram :  0.8588646\n"
     ]
    }
   ],
   "source": [
    "import matplotlib.pyplot as plt\n",
    "from sklearn.decomposition import PCA\n",
    "from gensim.models import Word2Vec\n",
    "\n",
    "\n",
    "# Reads ‘alice.txt’ file\n",
    "sample = open(\"./alice.txt\", encoding='utf-8')\n",
    "s = sample.read()\n",
    "\n",
    "# Replaces escape character with space\n",
    "f = s.replace(\"\\n\", \" \")\n",
    "\n",
    "data = []\n",
    "\n",
    "# iterate through each sentence in the file\n",
    "for i in sent_tokenize(f):\n",
    "\ttemp = []\n",
    "\n",
    "\t# tokenize the sentence into words\n",
    "\tfor j in word_tokenize(i):\n",
    "\t\ttemp.append(j.lower())\n",
    "\n",
    "\tdata.append(temp)\n",
    "\n",
    "# Train Word2Vec model\n",
    "model = Word2Vec(data, vector_size=100, window=5, min_count=1, sg=1)\n",
    "\n",
    "# Get word vectors\n",
    "word_vectors = model.wv\n",
    "\n",
    "# Print results\n",
    "print(\"Cosine similarity between 'alice' \" +\n",
    "\t\"and 'wonderland' - Skip Gram : \",\n",
    "\tmodel2.wv.similarity('alice', 'wonderland'))\n"
   ]
  },
  {
   "cell_type": "markdown",
   "id": "f7342c3d-822a-43e7-833b-9ac8cf21331f",
   "metadata": {},
   "source": [
    "### N-grams\n",
    "1. Generate and print all bigrams and trigrams from the Mad Hatter's tea party scene."
   ]
  },
  {
   "cell_type": "code",
   "execution_count": 31,
   "id": "d2d7ebc1-15d7-4930-8af8-7ad433adf278",
   "metadata": {},
   "outputs": [
    {
     "name": "stdout",
     "output_type": "stream",
     "text": [
      "Bigrams: [('It', \"'s\"), (\"'s\", 'always'), ('always', 'tea-time'), ('tea-time', ','), (',', 'and'), ('and', 'we'), ('we', \"'ve\"), (\"'ve\", 'no'), ('no', 'time'), ('time', 'to'), ('to', 'wash'), ('wash', 'the'), ('the', 'things'), ('things', 'between'), ('between', 'whiles'), ('whiles', '.')]\n",
      "Trigrams: [('It', \"'s\", 'always'), (\"'s\", 'always', 'tea-time'), ('always', 'tea-time', ','), ('tea-time', ',', 'and'), (',', 'and', 'we'), ('and', 'we', \"'ve\"), ('we', \"'ve\", 'no'), (\"'ve\", 'no', 'time'), ('no', 'time', 'to'), ('time', 'to', 'wash'), ('to', 'wash', 'the'), ('wash', 'the', 'things'), ('the', 'things', 'between'), ('things', 'between', 'whiles'), ('between', 'whiles', '.')]\n"
     ]
    }
   ],
   "source": [
    "from nltk.util import ngrams\n",
    "\n",
    "# Example text from Mad Hatter's tea party scene\n",
    "mad_hatter_scene = \"It's always tea-time, and we've no time to wash the things between whiles.\"\n",
    "\n",
    "# Generate bigrams and trigrams\n",
    "bigrams = list(ngrams(word_tokenize(mad_hatter_scene), 2))\n",
    "trigrams = list(ngrams(word_tokenize(mad_hatter_scene), 3))\n",
    "\n",
    "print(f\"Bigrams: {bigrams}\")\n",
    "print(f\"Trigrams: {trigrams}\")\n"
   ]
  },
  {
   "cell_type": "markdown",
   "id": "212eea46-3ec1-4034-9290-7b82aaffc048",
   "metadata": {},
   "source": [
    "2. Write a function that counts the frequency of each n-gram in the first chapter."
   ]
  },
  {
   "cell_type": "code",
   "execution_count": 32,
   "id": "3046f31d-6d47-49dd-acba-27e67e015f9b",
   "metadata": {},
   "outputs": [
    {
     "name": "stdout",
     "output_type": "stream",
     "text": [
      "First chapter bigrams: [(('*', '*'), 38), ((',', 'and'), 32), ((',', 'but'), 13), ((',', '`'), 13), (('it', ','), 12), (('she', 'was'), 12), (('of', 'the'), 12), ((',', 'I'), 11), ((',', \"'\"), 10), (('?', \"'\"), 10)]\n",
      "First chapter trigrams: [(('*', '*', '*'), 36), (('it', ',', 'and'), 5), (('to', 'herself', ','), 5), ((\"'\", 'said', 'Alice'), 5), ((',', 'but', 'it'), 4), (('one', 'of', 'the'), 4), ((',', '`', 'and'), 3), ((',', \"'\", 'thought'), 3), (('.', 'There', 'was'), 3), (('!', \"'\", '('), 3)]\n"
     ]
    }
   ],
   "source": [
    "# Function to count n-gram frequency\n",
    "def ngram_frequency(text, n):\n",
    "    ngrams_list = list(ngrams(word_tokenize(text), n))\n",
    "    ngram_freq = nltk.FreqDist(ngrams_list)\n",
    "    return ngram_freq\n",
    "\n",
    "first_chapter_bigrams = ngram_frequency(first_chapter, 2)\n",
    "first_chapter_trigrams = ngram_frequency(first_chapter, 3)\n",
    "\n",
    "print(f\"First chapter bigrams: {first_chapter_bigrams.most_common(10)}\")\n",
    "print(f\"First chapter trigrams: {first_chapter_trigrams.most_common(10)}\")"
   ]
  },
  {
   "cell_type": "markdown",
   "id": "a2b21b00-126e-4556-b271-4113c62318fc",
   "metadata": {},
   "source": [
    "### Text Length and Complexity\n",
    "1. Calculate the average word length and sentence length in the first chapter."
   ]
  },
  {
   "cell_type": "code",
   "execution_count": 33,
   "id": "98878b1d-d439-4298-ac42-4d00bf32a978",
   "metadata": {},
   "outputs": [
    {
     "name": "stdout",
     "output_type": "stream",
     "text": [
      "Average word length: 3.4801375095492744\n",
      "Average sentence length: 30.8\n"
     ]
    }
   ],
   "source": [
    "from nltk.tokenize import sent_tokenize, word_tokenize\n",
    "\n",
    "# Calculate average word length and sentence length\n",
    "def average_word_length(text):\n",
    "    words = word_tokenize(text)\n",
    "    return sum(len(word) for word in words) / len(words)\n",
    "\n",
    "def average_sentence_length(text):\n",
    "    sentences = sent_tokenize(text)\n",
    "    return sum(len(word_tokenize(sentence)) for sentence in sentences) / len(sentences)\n",
    "\n",
    "avg_word_length = average_word_length(first_chapter)\n",
    "avg_sentence_length = average_sentence_length(first_chapter)\n",
    "\n",
    "print(f\"Average word length: {avg_word_length}\")\n",
    "print(f\"Average sentence length: {avg_sentence_length}\")\n",
    "\n",
    "\n"
   ]
  },
  {
   "cell_type": "markdown",
   "id": "3a0c25e3-d5bb-4ba6-826c-43daa3efe2d3",
   "metadata": {},
   "source": [
    "2. Write a function that computes the Flesch Reading Ease score of the book's first chapter.\n",
    "   \n",
    "Note: Flesch–Kincaid readability tests are readability tests designed to indicate how difficult a passage in English is to understand. It gives a text a score between 1 and 100, with 100 being the highest readability score. The formula to calculate the Flesch Reading Ease Score is:\n",
    "\n",
    "flesch reading ease score=206.835−(1.015×ASL)−(84.6×ASW) \n",
    "\n",
    "Where:\n",
    "\n",
    "ASL = (Total number of words) / (Total number of sentences)\n",
    "\n",
    "ASW = (Total number of syllables) / (Total number of words)\n",
    "\n",
    "206.835: This is a base score from which deductions are made. It represents the starting point for the readability score before adjusting for sentence length and word complexity.\n",
    "\n",
    "1.015: This constant is multiplied by the average sentence length (ASL). It represents the weight or impact that sentence length has on readability. Longer sentences typically make the text harder to read, so higher ASL values reduce the overall score.\n",
    "\n",
    "84.6: This constant is multiplied by the average number of syllables per word (ASW). It signifies the weight of word complexity on readability. Words with more syllables are generally harder to read and understand, so a higher ASW decreases the readability score significantly."
   ]
  },
  {
   "cell_type": "code",
   "execution_count": 34,
   "id": "207054fb-bf13-4844-b767-2b74444bf351",
   "metadata": {},
   "outputs": [
    {
     "name": "stdout",
     "output_type": "stream",
     "text": [
      "Flesch Reading Ease score: 78.24099083269672\n"
     ]
    }
   ],
   "source": [
    "# Compute Flesch Reading Ease score\n",
    "def flesch_reading_ease(text):\n",
    "    words = word_tokenize(text)\n",
    "    sentences = sent_tokenize(text)\n",
    "    syllables = sum(len(re.findall(r'[aeiouy]+', word.lower())) for word in words)\n",
    "    ASL = len(words) / len(sentences)\n",
    "    ASW = syllables / len(words)\n",
    "    return 206.835 - 1.015 * ASL - 84.6 * ASW\n",
    "\n",
    "flesch_score = flesch_reading_ease(first_chapter)\n",
    "print(f\"Flesch Reading Ease score: {flesch_score}\")"
   ]
  },
  {
   "cell_type": "markdown",
   "id": "8152fbe3-16ba-4bd8-9ff9-328e3e756721",
   "metadata": {},
   "source": [
    "### Collocation and Terminology Extraction\n",
    "1. Identify and print the most common collocations in the Chapter VII: A Mad Tea-Party."
   ]
  },
  {
   "cell_type": "code",
   "execution_count": 35,
   "id": "b86ef975-4fea-4336-9b1a-50d71451905a",
   "metadata": {},
   "outputs": [
    {
     "name": "stdout",
     "output_type": "stream",
     "text": [
      "Collocations: [('For', 'instance'), ('Mad', 'Tea-Party'), ('Two', 'days'), ('Up', 'above'), ('Very', 'uncomfortable'), ('We', 'quarrelled'), ('Your', 'hair'), ('almost', 'anything'), ('begin', 'lessons'), ('concert', 'given')]\n"
     ]
    }
   ],
   "source": [
    "from nltk.collocations import BigramCollocationFinder, BigramAssocMeasures\n",
    "\n",
    "seventh_chapter = text.split(\"CHAPTER\")[7]\n",
    "\n",
    "# Find collocations\n",
    "words = word_tokenize(seventh_chapter)\n",
    "bigram_measures = BigramAssocMeasures()\n",
    "finder = BigramCollocationFinder.from_words(words)\n",
    "collocations = finder.nbest(bigram_measures.pmi, 10)\n",
    "\n",
    "print(f\"Collocations: {collocations}\")\n",
    "\n"
   ]
  },
  {
   "cell_type": "markdown",
   "id": "b0a6a4e8-c647-46ed-a629-3ae9a6d17816",
   "metadata": {},
   "source": [
    "2. Write a function that extracts key terms from a selected chapter based on their frequency and context."
   ]
  },
  {
   "cell_type": "code",
   "execution_count": 36,
   "id": "3684e0b4-4c8c-416a-a0f5-c27a3bc2dd3e",
   "metadata": {},
   "outputs": [
    {
     "name": "stdout",
     "output_type": "stream",
     "text": [
      "Key terms: [(',', 178), ('the', 88), ('she', 75), ('to', 74), ('it', 65), ('and', 61), ('was', 52), ('a', 51), ('.', 43), ('of', 40), ('*', 40), ('`', 39), (\"'\", 38), ('I', 36), ('Alice', 28), ('!', 28), ('her', 26), ('that', 26), ('in', 25), (';', 21)]\n"
     ]
    }
   ],
   "source": [
    "# Function to extract key terms\n",
    "def extract_key_terms(text, top_n=20):\n",
    "    words = word_tokenize(text)\n",
    "    fdist = nltk.FreqDist(words)\n",
    "    return fdist.most_common(top_n)\n",
    "\n",
    "key_terms = extract_key_terms(first_chapter)\n",
    "print(f\"Key terms: {key_terms}\")\n"
   ]
  },
  {
   "cell_type": "markdown",
   "id": "523229c2-984a-4142-938c-d45ee636bbe8",
   "metadata": {},
   "source": [
    "3. Plot the frequency distribution of these key terms using matplotlib."
   ]
  },
  {
   "cell_type": "code",
   "execution_count": 37,
   "id": "a6078d3d-623c-4073-9342-9314ac97efe5",
   "metadata": {},
   "outputs": [
    {
     "data": {
      "image/png": "[encoded data removed]",
      "text/plain": [
       "<Figure size 1000x500 with 1 Axes>"
      ]
     },
     "metadata": {},
     "output_type": "display_data"
    }
   ],
   "source": [
    "import matplotlib.pyplot as plt\n",
    "# Plotting the results\n",
    "def plot_key_terms(key_terms):\n",
    "    terms, frequencies = zip(*key_terms)\n",
    "    \n",
    "    plt.figure(figsize=(10, 5))\n",
    "    plt.bar(terms, frequencies, color='skyblue')\n",
    "    plt.xlabel('Terms')\n",
    "    plt.ylabel('Frequency')\n",
    "    plt.title('Top Key Terms in Text')\n",
    "    plt.xticks(rotation=45)\n",
    "    plt.show()\n",
    "\n",
    "# Plot key terms\n",
    "plot_key_terms(key_terms)"
   ]
  },
  {
   "cell_type": "markdown",
   "id": "6763bd2d-99c6-4ee4-95a3-80af7a780a47",
   "metadata": {},
   "source": [
    "4. Remove punctuations and stopwords and redo the plot"
   ]
  },
  {
   "cell_type": "code",
   "execution_count": 38,
   "id": "df7fe0d6-a1fc-4355-b720-65dea50b9165",
   "metadata": {},
   "outputs": [],
   "source": [
    "from nltk.corpus import stopwords\n",
    "# Function to extract key terms and remove punctuation\n",
    "def extract_key_terms(text, top_n=20):\n",
    "    # Remove punctuation from text\n",
    "    text = text.translate(str.maketrans('', '', string.punctuation))\n",
    "    words = word_tokenize(text)\n",
    "    \n",
    "    # Remove stopwords\n",
    "    stop_words = set(stopwords.words('english'))\n",
    "    filtered_words = [word.lower() for word in words if word.lower() not in stop_words]\n",
    "    \n",
    "    # Calculate frequency distribution\n",
    "    fdist = nltk.FreqDist(filtered_words)\n",
    "    return fdist.most_common(top_n)"
   ]
  },
  {
   "cell_type": "code",
   "execution_count": 39,
   "id": "5f5f7dc1-4837-41e6-9d9f-8bc47a3a52c0",
   "metadata": {},
   "outputs": [
    {
     "name": "stdout",
     "output_type": "stream",
     "text": [
      "Key terms: [('alice', 27), ('little', 15), ('think', 11), ('way', 11), ('like', 11), ('see', 10), ('one', 9), ('thought', 8), ('could', 8), ('time', 8), ('said', 8), ('get', 7), ('nothing', 7), ('well', 7), ('would', 7), ('went', 7), ('found', 7), ('eat', 7), ('door', 7), ('rabbit', 6)]\n"
     ]
    }
   ],
   "source": [
    "# Extract key terms\n",
    "key_terms = extract_key_terms(first_chapter, top_n=20)\n",
    "print(f\"Key terms: {key_terms}\")"
   ]
  },
  {
   "cell_type": "code",
   "execution_count": 40,
   "id": "09214610-5b71-4b19-9952-e8b558e37074",
   "metadata": {},
   "outputs": [
    {
     "data": {
      "image/png": "[encoded data removed]",
      "text/plain": [
       "<Figure size 1000x500 with 1 Axes>"
      ]
     },
     "metadata": {},
     "output_type": "display_data"
    }
   ],
   "source": [
    "# Plotting the results\n",
    "def plot_key_terms(key_terms):\n",
    "    terms, frequencies = zip(*key_terms)\n",
    "    \n",
    "    plt.figure(figsize=(10, 5))\n",
    "    plt.bar(terms, frequencies, color='skyblue')\n",
    "    plt.xlabel('Terms')\n",
    "    plt.ylabel('Frequency')\n",
    "    plt.title('Top Key Terms in Text')\n",
    "    plt.xticks(rotation=45)\n",
    "    plt.show()\n",
    "\n",
    "# Plot key terms\n",
    "plot_key_terms(key_terms)"
   ]
  }
 ],
 "metadata": {
  "kernelspec": {
   "display_name": "Python 3 (ipykernel)",
   "language": "python",
   "name": "python3"
  },
  "language_info": {
   "codemirror_mode": {
    "name": "ipython",
    "version": 3
   },
   "file_extension": ".py",
   "mimetype": "text/x-python",
   "name": "python",
   "nbconvert_exporter": "python",
   "pygments_lexer": "ipython3",
   "version": "3.9.18"
  }
 },
 "nbformat": 4,
 "nbformat_minor": 5
}
