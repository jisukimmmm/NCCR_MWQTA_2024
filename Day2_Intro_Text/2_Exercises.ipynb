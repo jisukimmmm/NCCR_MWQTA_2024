{
 "cells": [
  {
   "cell_type": "markdown",
   "id": "c63e7c27-0112-4c74-abaa-b16738dd8462",
   "metadata": {},
   "source": [
    "<span>\n",
    "<b>Methods Workshop in Quantitative Text Analysis </b><br/>     \n",
    "<b>Author:</b> <a href=\"https://github.com/jisukimmmm\">Jisu Kim</a><br/>\n",
    "<b>Python version:</b>  >=3.6<br/>\n",
    "<b>Last update:</b> 21/04/2024\n",
    "</span>"
   ]
  },
  {
   "cell_type": "markdown",
   "id": "c71ca3ab-15a3-47ff-afa3-eb0e2bed7c32",
   "metadata": {},
   "source": [
    "<a id='top'></a>\n",
    "# *Introduction to text analysis - Exercises*\n",
    "\n",
    "Here, we'll be diving into various text processing techniques, using the beloved classic \"Alice's Adventures in Wonderland\" by Lewis Carroll as our playground.This exercise set will guide you through a series of hands-on tasks aimed at developing your skills in string manipulation, text normalization, tokenization, and more advanced topics like Named Entity Recognition (NER) and Word Embeddings. Each exercise is crafted to help you understand the underlying principles of text analysis while engaging with the whimsical and imaginative text of \"Alice's Adventures in Wonderland\".\n",
    "\n",
    "Source of the text: https://www.geeksforgeeks.org/"
   ]
  },
  {
   "cell_type": "markdown",
   "id": "f3db1dc7-2ec3-48b9-9aaa-4ad69d0e7b4d",
   "metadata": {},
   "source": [
    "### Build-in string manipulation functions\n",
    "1. Find and print the first and last occurrence of the word \"Alice\" in the book.\n",
    "2. Split the chapter 1.\n",
    "3. Replace name \"Alice\" to your own name\n",
    "### Lowercasing\n",
    "1. Convert the entire text of the first chapter to lowercase.\n",
    "2. Compare two sentences from different parts of the book case-insensitively to check if they are the same.\n",
    "### Removing Punctuations, Numbers, and Special Characters\n",
    "1. Remove all punctuations from the first paragraph of the book.\n",
    "2. Write a function to remove any numbers and special characters found in the text of the first chapter.\n",
    "### Handling Contractions\n",
    "1. Expand all contractions in the famous quote \"We're all mad here.\" from the book using a dictionary of contractions.\n",
    "### Spell Checking and Correction\n",
    "1. Identify and correct any intentionally misspelled words in a given excerpt from the book.\n",
    "### Tokenization\n",
    "1. Tokenize the first paragraph into sentences and words.\n",
    "2. Write a function that tokenizes a sentence into words without using any library functions.\n",
    "### Regular Expressions\n",
    "1. Extract all email addresses (if any) from the text using regular expressions. (You can add fake email addresses for fun.)\n",
    "2. Find all uppercase words in the first chapter using regular expressions.\n",
    "### Normalisation\n",
    "1. Normalize a given excerpt by converting it to lowercase and removing punctuations.\n",
    "2. Write a function that normalizes white space in the text (e.g., convert multiple spaces to a single space).\n",
    "### Stemming\n",
    "1. Apply stemming to a list of words from a random page in the book using the Porter Stemmer.\n",
    "2. Compare the results of different stemming algorithms on the same text excerpt.\n",
    "### Lemmatization\n",
    "1. Lemmatize a list of words from the book using NLTK's WordNet lemmatizer.\n",
    "2. Compare the output of lemmatization and stemming on the same set of words.\n",
    "### Part of Speech (POS) Tagging\n",
    "1. Return the POS tags of all words in a selected paragraph.\n",
    "2. Count the number of nouns, verbs, and adjectives in the selected paragraph. \n",
    "### Named Entity Recognition (NER)\n",
    "1. Extract all the names of characters mentioned in the book using NER.\n",
    "### Bag of Words (BoW)\n",
    "1. Create a Bag of Words representation for the first chapter.\n",
    "### TF-IDF\n",
    "1. Compute the TF-IDF scores for a collection of chapters.\n",
    "2. Write a function that returns the top 5 words with the highest TF-IDF scores in a specific chapter.\n",
    "### Word Embeddings\n",
    "1. Find the most similar words to \"Rabbit\".\n",
    "2. Write a function that computes the cosine similarity between two words, such as \"Alice\" and \"Wonderland\".\n",
    "### N-grams\n",
    "1. Generate and print all bigrams and trigrams from the Mad Hatter's tea party scene.\n",
    "2. Write a function that counts the frequency of each n-gram in the first chapter.\n",
    "### Text Length and Complexity\n",
    "1. Calculate the average word length and sentence length in the first chapter.\n",
    "2. Write a function that computes the Flesch Reading Ease score of the book's first chapter.\n",
    "### Collocation and Terminology Extraction\n",
    "1. Identify and print the most common collocations in the conversation between Alice and the Cheshire Cat.\n",
    "2. Write a function that extracts key terms from a selected chapter based on their frequency and context.\n",
    "3. Plot the frequency distribution of these key terms using matplotlib.\n",
    "4. Remove punctuations and stopwords and redo the plot"
   ]
  },
  {
   "cell_type": "markdown",
   "id": "a4af9cdb-c2d5-4b85-8950-32bff54b4338",
   "metadata": {},
   "source": [
    "# Answers"
   ]
  },
  {
   "cell_type": "markdown",
   "id": "833e8c5b-8fa1-480c-91db-e4e97425a295",
   "metadata": {},
   "source": [
    "### Built-in string manipulation functions\n",
    "1. Find and print the first and last occurrence of the word \"Alice\" in the book."
   ]
  },
  {
   "cell_type": "code",
   "execution_count": null,
   "id": "ea870f00-7b15-44bb-94b9-2999e31e4604",
   "metadata": {},
   "outputs": [],
   "source": []
  },
  {
   "cell_type": "markdown",
   "id": "049d973c-7b5c-4afb-b97b-b8d2ddc815b2",
   "metadata": {},
   "source": [
    "2. Split the chapter 1"
   ]
  },
  {
   "cell_type": "code",
   "execution_count": null,
   "id": "0c2d2460-b03a-4c52-b579-4bce3cc04062",
   "metadata": {},
   "outputs": [],
   "source": []
  },
  {
   "cell_type": "markdown",
   "id": "d40a234d-d33a-4745-b920-06c84fa61718",
   "metadata": {},
   "source": [
    "3. Replace name \"Alice\" to your own name"
   ]
  },
  {
   "cell_type": "code",
   "execution_count": null,
   "id": "5bd34a3a-8c68-4991-bcfd-ae3a67d450cb",
   "metadata": {
    "scrolled": true
   },
   "outputs": [],
   "source": []
  },
  {
   "cell_type": "markdown",
   "id": "b095f7b7-142c-42fb-ba4c-2a2786e5eba1",
   "metadata": {},
   "source": [
    "### Lowercasing\n",
    "1. Convert the entire text of the first chapter to lowercase."
   ]
  },
  {
   "cell_type": "code",
   "execution_count": null,
   "id": "66a3f91a-eb11-4f6b-bd2a-1b74064e212b",
   "metadata": {
    "scrolled": true
   },
   "outputs": [],
   "source": []
  },
  {
   "cell_type": "markdown",
   "id": "0222d1b3-c33a-4f64-b20b-66417f515af4",
   "metadata": {},
   "source": [
    "2. Compare two sentences from different parts of the book case-insensitively to check if they are the same."
   ]
  },
  {
   "cell_type": "code",
   "execution_count": null,
   "id": "11e06154-c8d4-4860-b852-0ef76c004e83",
   "metadata": {},
   "outputs": [],
   "source": []
  },
  {
   "cell_type": "markdown",
   "id": "5c663917-f4b4-4f41-8f4d-d390cb627f75",
   "metadata": {},
   "source": [
    "### Removing Punctuations, Numbers, and Special Characters\n",
    "1. Remove all punctuations from the first paragraph of the book."
   ]
  },
  {
   "cell_type": "code",
   "execution_count": null,
   "id": "74eadf40-99ee-4591-85e6-548badc1b804",
   "metadata": {},
   "outputs": [],
   "source": []
  },
  {
   "cell_type": "markdown",
   "id": "a3c2f2a8-27b3-4a49-8443-1e7fa9541f1f",
   "metadata": {},
   "source": [
    "2. Write a function to remove any numbers and special characters found in the text of the first chapter."
   ]
  },
  {
   "cell_type": "code",
   "execution_count": null,
   "id": "c5db83f5-cb2c-44ba-87de-88284aafce5f",
   "metadata": {},
   "outputs": [],
   "source": []
  },
  {
   "cell_type": "markdown",
   "id": "477fd487-9135-40d3-880b-87d9e5ecd035",
   "metadata": {},
   "source": [
    "### Handling Contractions\n",
    "1. Expand all contractions in the famous quote \"We're all mad here.\" from the book using the `contractions` library."
   ]
  },
  {
   "cell_type": "code",
   "execution_count": null,
   "id": "f1819790-dde4-4c99-bb9b-e5ce4b500701",
   "metadata": {},
   "outputs": [],
   "source": []
  },
  {
   "cell_type": "markdown",
   "id": "d9eedfa5-d7c0-49d5-84fc-e59f237df34b",
   "metadata": {},
   "source": [
    "### Spell Checking and Correction\n",
    "1. Identify and correct any intentionally misspelled words in a given excerpt from the book.\n",
    "The 13th paragraph has been purposely misspelled."
   ]
  },
  {
   "cell_type": "code",
   "execution_count": null,
   "id": "42ae315e-f8b6-4d2d-a78d-e69c7d7a9b28",
   "metadata": {},
   "outputs": [],
   "source": []
  },
  {
   "cell_type": "code",
   "execution_count": null,
   "id": "460cf02f-05c7-43c0-9525-56ee921353f7",
   "metadata": {},
   "outputs": [],
   "source": []
  },
  {
   "cell_type": "markdown",
   "id": "c15441d9-3aa0-42f7-a03f-cd9a7b98a1b8",
   "metadata": {},
   "source": [
    "### Tokenization\n",
    "1. Tokenize the first paragraph into sentences and words."
   ]
  },
  {
   "cell_type": "code",
   "execution_count": null,
   "id": "5e36c0aa-e0c6-4908-8c44-b353b7e5cffd",
   "metadata": {},
   "outputs": [],
   "source": []
  },
  {
   "cell_type": "markdown",
   "id": "554209aa-0a6d-44e6-a8c2-bc827af6333c",
   "metadata": {},
   "source": [
    "2. Write a function that tokenizes a sentence into words without using any library functions."
   ]
  },
  {
   "cell_type": "code",
   "execution_count": null,
   "id": "a2c15fc1-ffa5-4017-914d-f0c36117ab66",
   "metadata": {},
   "outputs": [],
   "source": []
  },
  {
   "cell_type": "markdown",
   "id": "11b2abb4-57a7-4840-856f-2260cd75d710",
   "metadata": {},
   "source": [
    "### Regular Expressions\n",
    "1. Extract all email addresses (if any) from the text using regular expressions. (You can add fake email addresses for fun.)"
   ]
  },
  {
   "cell_type": "code",
   "execution_count": null,
   "id": "aa53f342-823a-4147-bb88-bdcdc47be052",
   "metadata": {},
   "outputs": [],
   "source": []
  },
  {
   "cell_type": "markdown",
   "id": "1254958b-1edd-43f2-9115-74cc53e68f04",
   "metadata": {},
   "source": [
    "2. Find all uppercase words in the first chapter using regular expressions."
   ]
  },
  {
   "cell_type": "code",
   "execution_count": null,
   "id": "7bc69c4d-3a2e-4e19-8d95-a1f079452763",
   "metadata": {},
   "outputs": [],
   "source": []
  },
  {
   "cell_type": "markdown",
   "id": "4cb61671-c96c-424f-802a-67835c5acc76",
   "metadata": {},
   "source": [
    "### Normalization\n",
    "1. Normalize a given excerpt by converting it to lowercase and removing punctuations."
   ]
  },
  {
   "cell_type": "code",
   "execution_count": null,
   "id": "4e83a0a8-293a-4f52-99f1-a1c08c94c452",
   "metadata": {},
   "outputs": [],
   "source": []
  },
  {
   "cell_type": "markdown",
   "id": "424ce167-c145-4bb7-a332-c6c56e58741f",
   "metadata": {},
   "source": [
    "2. Write a function that normalizes white space in the text (e.g., convert multiple spaces to a single space). Use the same misspelled_text from above."
   ]
  },
  {
   "cell_type": "code",
   "execution_count": null,
   "id": "1c1c511d-2a3a-4184-9d34-fc69ac77d71f",
   "metadata": {},
   "outputs": [],
   "source": []
  },
  {
   "cell_type": "code",
   "execution_count": null,
   "id": "27423db9-13ed-41f8-afa1-802d5ad2ef35",
   "metadata": {},
   "outputs": [],
   "source": []
  },
  {
   "cell_type": "markdown",
   "id": "3b066b1b-658d-4414-8835-4000d3749ca0",
   "metadata": {},
   "source": [
    "### Stemming\n",
    "1. Apply stemming to a list of words from a random page in the book using the Porter Stemmer."
   ]
  },
  {
   "cell_type": "code",
   "execution_count": null,
   "id": "c01d8f30-7d45-413e-8e20-cba4414b20fe",
   "metadata": {},
   "outputs": [],
   "source": []
  },
  {
   "cell_type": "markdown",
   "id": "13eafd95-4e4d-489a-b594-bf33d4b60923",
   "metadata": {},
   "source": [
    "2. Compare the results of different stemming algorithms on the same text excerpt."
   ]
  },
  {
   "cell_type": "code",
   "execution_count": null,
   "id": "c68666f4-d0ed-40e8-b512-3abde5827117",
   "metadata": {},
   "outputs": [],
   "source": []
  },
  {
   "cell_type": "code",
   "execution_count": null,
   "id": "fcd3b04e-edd4-4ff6-aa49-6c2f3ba5b25e",
   "metadata": {},
   "outputs": [],
   "source": []
  },
  {
   "cell_type": "code",
   "execution_count": null,
   "id": "9e217b34-151a-4656-9771-d301a27fb4fc",
   "metadata": {},
   "outputs": [],
   "source": []
  },
  {
   "cell_type": "markdown",
   "id": "56991f61-26ca-4efd-92de-3cd38f2fc580",
   "metadata": {},
   "source": [
    "### Part of Speech (POS) Tagging\n",
    "1. Return the POS tags of all words in a selected paragraph."
   ]
  },
  {
   "cell_type": "code",
   "execution_count": null,
   "id": "399ebaa9-dfc1-4d02-9708-f2b7f077b4fe",
   "metadata": {},
   "outputs": [],
   "source": []
  },
  {
   "cell_type": "markdown",
   "id": "c78fb01b-fda3-40f0-9c76-49dc5234c706",
   "metadata": {},
   "source": [
    "2. Count the number of nouns, verbs, and adjectives in the selected paragraph. "
   ]
  },
  {
   "cell_type": "code",
   "execution_count": null,
   "id": "0f663650-306a-4927-9fe6-2a74d6bc85d4",
   "metadata": {},
   "outputs": [],
   "source": []
  },
  {
   "cell_type": "markdown",
   "id": "b237ac58-e594-4774-ac69-65f290dc4919",
   "metadata": {},
   "source": [
    "### Named Entity Recognition (NER)\n",
    "1. Identify and classify named entities in the first chapter using NLTK."
   ]
  },
  {
   "cell_type": "code",
   "execution_count": null,
   "id": "24f3614d-fc07-4ea6-907b-eddcfeaef2f5",
   "metadata": {},
   "outputs": [],
   "source": []
  },
  {
   "cell_type": "markdown",
   "id": "944162c2-8196-4c1d-ad63-bf5ce63dfd86",
   "metadata": {},
   "source": [
    "### Bag of Words (BoW)\n",
    "1. Create a Bag of Words representation for the first chapter."
   ]
  },
  {
   "cell_type": "code",
   "execution_count": null,
   "id": "9d0f5b15-ea56-4876-bf4d-d986e798166d",
   "metadata": {},
   "outputs": [],
   "source": []
  },
  {
   "cell_type": "markdown",
   "id": "1f260aa9-6a3e-4ea6-ac04-5cbed99feb9f",
   "metadata": {},
   "source": [
    "### TF-IDF (Term Frequency-Inverse Document Frequency)\n",
    "1. Compute the TF-IDF scores for a collection of chapters."
   ]
  },
  {
   "cell_type": "code",
   "execution_count": null,
   "id": "f8ec080f-9439-47e2-8104-b7e698e91b7d",
   "metadata": {},
   "outputs": [],
   "source": []
  },
  {
   "cell_type": "markdown",
   "id": "a0fe1d30-c029-4ff8-9b65-5a35d7b81d87",
   "metadata": {},
   "source": [
    "2. Write a function that returns the top 5 words with the highest TF-IDF scores in a specific chapter."
   ]
  },
  {
   "cell_type": "code",
   "execution_count": null,
   "id": "775de64a-212a-4c7b-bcd3-c273ec38c5e7",
   "metadata": {},
   "outputs": [],
   "source": []
  },
  {
   "cell_type": "markdown",
   "id": "a878c035-0e79-4a42-8b23-98bf9ce1641c",
   "metadata": {},
   "source": [
    "### Word Embeddings\n",
    "1. Find the most similar words to \"Rabbit\"."
   ]
  },
  {
   "cell_type": "code",
   "execution_count": null,
   "id": "19ae2893-77da-471e-9268-0288acd7cdfe",
   "metadata": {},
   "outputs": [],
   "source": []
  },
  {
   "cell_type": "markdown",
   "id": "a9471538-b7bc-458e-beac-1f4068ff364e",
   "metadata": {},
   "source": [
    "2. Write a function that computes the cosine similarity between two words, such as \"Alice\" and \"Wonderland\"."
   ]
  },
  {
   "cell_type": "code",
   "execution_count": null,
   "id": "1736af85-a09b-45fa-8d42-ad1dd16a3296",
   "metadata": {},
   "outputs": [],
   "source": []
  },
  {
   "cell_type": "markdown",
   "id": "f7342c3d-822a-43e7-833b-9ac8cf21331f",
   "metadata": {},
   "source": [
    "### N-grams\n",
    "1. Generate and print all bigrams and trigrams from the Mad Hatter's tea party scene."
   ]
  },
  {
   "cell_type": "code",
   "execution_count": null,
   "id": "d2d7ebc1-15d7-4930-8af8-7ad433adf278",
   "metadata": {},
   "outputs": [],
   "source": []
  },
  {
   "cell_type": "markdown",
   "id": "212eea46-3ec1-4034-9290-7b82aaffc048",
   "metadata": {},
   "source": [
    "2. Write a function that counts the frequency of each n-gram in the first chapter."
   ]
  },
  {
   "cell_type": "code",
   "execution_count": null,
   "id": "3046f31d-6d47-49dd-acba-27e67e015f9b",
   "metadata": {},
   "outputs": [],
   "source": []
  },
  {
   "cell_type": "markdown",
   "id": "a2b21b00-126e-4556-b271-4113c62318fc",
   "metadata": {},
   "source": [
    "### Text Length and Complexity\n",
    "1. Calculate the average word length and sentence length in the first chapter."
   ]
  },
  {
   "cell_type": "code",
   "execution_count": null,
   "id": "98878b1d-d439-4298-ac42-4d00bf32a978",
   "metadata": {},
   "outputs": [],
   "source": []
  },
  {
   "cell_type": "markdown",
   "id": "3a0c25e3-d5bb-4ba6-826c-43daa3efe2d3",
   "metadata": {},
   "source": [
    "2. Write a function that computes the Flesch Reading Ease score of the book's first chapter.\n",
    "   \n",
    "Note: Flesch–Kincaid readability tests are readability tests designed to indicate how difficult a passage in English is to understand. It gives a text a score between 1 and 100, with 100 being the highest readability score. The formula to calculate the Flesch Reading Ease Score is:\n",
    "\n",
    "flesch reading ease score=206.835−(1.015×ASL)−(84.6×ASW) \n",
    "\n",
    "Where:\n",
    "\n",
    "ASL = (Total number of words) / (Total number of sentences)\n",
    "\n",
    "ASW = (Total number of syllables) / (Total number of words)\n",
    "\n",
    "206.835: This is a base score from which deductions are made. It represents the starting point for the readability score before adjusting for sentence length and word complexity.\n",
    "\n",
    "1.015: This constant is multiplied by the average sentence length (ASL). It represents the weight or impact that sentence length has on readability. Longer sentences typically make the text harder to read, so higher ASL values reduce the overall score.\n",
    "\n",
    "84.6: This constant is multiplied by the average number of syllables per word (ASW). It signifies the weight of word complexity on readability. Words with more syllables are generally harder to read and understand, so a higher ASW decreases the readability score significantly."
   ]
  },
  {
   "cell_type": "code",
   "execution_count": null,
   "id": "207054fb-bf13-4844-b767-2b74444bf351",
   "metadata": {},
   "outputs": [],
   "source": []
  },
  {
   "cell_type": "markdown",
   "id": "8152fbe3-16ba-4bd8-9ff9-328e3e756721",
   "metadata": {},
   "source": [
    "### Collocation and Terminology Extraction\n",
    "1. Identify and print the most common collocations in the Chapter VII: A Mad Tea-Party."
   ]
  },
  {
   "cell_type": "code",
   "execution_count": null,
   "id": "b86ef975-4fea-4336-9b1a-50d71451905a",
   "metadata": {},
   "outputs": [],
   "source": []
  },
  {
   "cell_type": "markdown",
   "id": "b0a6a4e8-c647-46ed-a629-3ae9a6d17816",
   "metadata": {},
   "source": [
    "2. Write a function that extracts key terms from a selected chapter based on their frequency and context."
   ]
  },
  {
   "cell_type": "code",
   "execution_count": null,
   "id": "3684e0b4-4c8c-416a-a0f5-c27a3bc2dd3e",
   "metadata": {},
   "outputs": [],
   "source": []
  },
  {
   "cell_type": "markdown",
   "id": "523229c2-984a-4142-938c-d45ee636bbe8",
   "metadata": {},
   "source": [
    "3. Plot the frequency distribution of these key terms using matplotlib."
   ]
  },
  {
   "cell_type": "code",
   "execution_count": null,
   "id": "a6078d3d-623c-4073-9342-9314ac97efe5",
   "metadata": {},
   "outputs": [],
   "source": []
  },
  {
   "cell_type": "markdown",
   "id": "6763bd2d-99c6-4ee4-95a3-80af7a780a47",
   "metadata": {},
   "source": [
    "4. Remove punctuations and stopwords and redo the plot"
   ]
  },
  {
   "cell_type": "code",
   "execution_count": null,
   "id": "df7fe0d6-a1fc-4355-b720-65dea50b9165",
   "metadata": {},
   "outputs": [],
   "source": []
  },
  {
   "cell_type": "code",
   "execution_count": null,
   "id": "5f5f7dc1-4837-41e6-9d9f-8bc47a3a52c0",
   "metadata": {},
   "outputs": [],
   "source": []
  },
  {
   "cell_type": "code",
   "execution_count": null,
   "id": "09214610-5b71-4b19-9952-e8b558e37074",
   "metadata": {},
   "outputs": [],
   "source": []
  }
 ],
 "metadata": {
  "kernelspec": {
   "display_name": "Python 3 (ipykernel)",
   "language": "python",
   "name": "python3"
  },
  "language_info": {
   "codemirror_mode": {
    "name": "ipython",
    "version": 3
   },
   "file_extension": ".py",
   "mimetype": "text/x-python",
   "name": "python",
   "nbconvert_exporter": "python",
   "pygments_lexer": "ipython3",
   "version": "3.9.18"
  }
 },
 "nbformat": 4,
 "nbformat_minor": 5
}
