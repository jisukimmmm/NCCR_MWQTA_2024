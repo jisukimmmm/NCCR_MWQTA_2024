{
 "cells": [
  {
   "cell_type": "markdown",
   "id": "3ce0c241-457a-42ec-883c-d91a0b772a6e",
   "metadata": {},
   "source": [
    "<span>\n",
    "<b>Methods Workshop in Quantitative Text Analysis </b><br/>     \n",
    "<b>Author:</b> <a href=\"https://github.com/jisukimmmm\">Jisu Kim</a><br/>\n",
    "<b>Python version:</b>  >=3.6<br/>\n",
    "<b>Last update:</b> 21/05/2024\n",
    "</span>"
   ]
  },
  {
   "cell_type": "markdown",
   "id": "5a973201-9cfa-4c2e-8cd1-f156b3c635c7",
   "metadata": {},
   "source": [
    "<a id='top'></a>\n",
    "# *Advanced Text analysis in Python - Unsupervised ML - Exercises*\n",
    "\n",
    "In this exercise, we will explore various unsupervised learning techniques \n",
    "We use 20 Newsgroups dataset, focusing on three specific ategories: 'talk.politics.guns', 'comp.graphics', and 'sci.space'. These texts provide rich and varied content that is ideal for practicing unsupervised learning methods on text data. It may take some time to run them all. Feel free to use part of the data to carry out the exercises."
   ]
  },
  {
   "cell_type": "markdown",
   "id": "5839b951-7fc2-4058-8474-b73ee85ba72d",
   "metadata": {},
   "source": [
    "## PCA Exercise\n",
    "\n",
    "- Perform Principal Component Analysis (PCA) on the TF-IDF vectors of sentences on 'talk.politics.guns' and \"comp.graphics\". \n",
    "- Visualize the first two principal components and color-code the sentences.\n",
    "  \n",
    "## 2. Clusters\n",
    "### 2.1 K-means Exercise\n",
    "- Apply K-means clustering to the sentence embeddings on 'comp.graphics', and 'sci.space' categories.\n",
    "- Determine the optimal number of clusters using the elbow method and silhouette score.\n",
    "- Visualize the clusters and interpret the results.\n",
    "\n",
    "### 2.2 MClust\n",
    "- Implement Model-based clustering on the data using TF-IDF vectors. Use the 'talk.politics.guns' and 'sci.space' categories.\n",
    "- Identify the clusters and compare them with different categories to see how they group together.\n",
    "- Discuss if the clustering makes sense contextually.\n",
    "\n",
    "### 2.3 Hierarchical Clustering\n",
    "- Use hierarchical clustering on the sentence embeddings using the \"politics\" category.\n",
    "- Create a dendrogram and identify major clusters.\n",
    "\n",
    "## 3. Co-occurrence Matrix\n",
    "\n",
    "- Tokenize the text and build the co-occurrence matrix for \"politics\" and \"sci.space\" data.\n",
    "- Visualize the matrix as a heatmap.\n",
    "- Compare the co-occurrence patterns between the \"politics\" and \"sci.space\".\n",
    "- Discuss any interesting word relationships or differences.\n",
    "\n",
    "## 4. Word Embeddings\n",
    "\n",
    "### 4.1 Word2Vec Exercise\n",
    "- Train a Word2Vec model on the whole data.\n",
    "- Find and visualize the embeddings for the top 10 most frequent words from each category.\n",
    "- Explore word analogies and nearest neighbors for selected words.\n",
    "\n",
    "## 5. Similarity\n",
    "\n",
    "- Calculate the cosine similarity between the \"sci.space\" and \"comp.graphics\" using TF-IDF vectors.\n",
    "- Identify and discuss which articles are most similar between the two data.\n",
    "\n",
    "## 6. Pointwise Mutual Information (PMI)\n",
    "\n",
    "- Calculate the PMI for word pairs in 'comp.graphics'. Focus on the first 30 texts.\n",
    "- Identify the top 10 word pairs with the highest PMI in each category and analyze their significance in the context of the story.\n",
    "\n",
    "## 7. Topic Modelling\n",
    "\n",
    "### 7.1 Latent Semantic Analysis (LSA) Exercise\n",
    "- Apply LSA on the topic of \"politics\".\n",
    "- Identify and interpret the top 5 topics.\n",
    "\n",
    "### 7.2 Latent Dirichlet Allocation (LDA) Exercise\n",
    "- Perform LDA on the data, treating each category as a document.\n",
    "- Determine the optimal number of topics using coherence scores.\n",
    "- Display the top words for each topic.\n",
    "- Discuss how well the topics represent the content of the data.\n",
    "\n"
   ]
  },
  {
   "cell_type": "markdown",
   "id": "a0b23dfa-e1d4-42fa-a96c-c5f01508fe54",
   "metadata": {},
   "source": [
    "## Answers"
   ]
  },
  {
   "cell_type": "markdown",
   "id": "6ff896f8-4327-47b8-b4f2-81c7320faeb2",
   "metadata": {},
   "source": [
    "## Load libraries"
   ]
  },
  {
   "cell_type": "code",
   "execution_count": null,
   "id": "6de70b2f-5ab3-4f36-9371-e3c7ad17c0f0",
   "metadata": {},
   "outputs": [],
   "source": []
  },
  {
   "cell_type": "markdown",
   "id": "2983af60-7e12-417e-92e2-28377a6e1e49",
   "metadata": {},
   "source": [
    "### 1. PCA Exercise\n",
    "- Perform Principal Component Analysis (PCA) on the TF-IDF vectors of sentences. Use ['talk.politics.guns', 'comp.graphics'] categories\n",
    "- Visualize the first two principal components and color-code the sentences."
   ]
  },
  {
   "cell_type": "code",
   "execution_count": null,
   "id": "5dbe64cb-7b9d-4b0b-82c3-36c5d98d8e36",
   "metadata": {},
   "outputs": [],
   "source": []
  },
  {
   "cell_type": "code",
   "execution_count": null,
   "id": "8f163085-6be1-4e59-90d6-fea67a7e846f",
   "metadata": {},
   "outputs": [],
   "source": []
  },
  {
   "cell_type": "code",
   "execution_count": null,
   "id": "743e75e1-8ab5-4fa3-9026-6bc8a0e4a2db",
   "metadata": {},
   "outputs": [],
   "source": []
  },
  {
   "cell_type": "markdown",
   "id": "a4a121d7-25da-4ce1-a673-946bc9055730",
   "metadata": {},
   "source": [
    "\n",
    "### 1.1 K-means Exercise\n",
    "- Apply K-means clustering to the sentence embeddings on 'comp.graphics', and 'sci.space' categories.\n",
    "- Determine the optimal number of clusters using the elbow method and silhouette score.\n",
    "- Visualize the clusters and interpret the results.\n"
   ]
  },
  {
   "cell_type": "code",
   "execution_count": null,
   "id": "db4aca0c-941b-4983-a769-3da4f09df896",
   "metadata": {},
   "outputs": [],
   "source": []
  },
  {
   "cell_type": "code",
   "execution_count": null,
   "id": "8511134c-a9fd-4ae8-8928-6c055ffc33e5",
   "metadata": {},
   "outputs": [],
   "source": []
  },
  {
   "cell_type": "code",
   "execution_count": null,
   "id": "15965ea7-c6a2-4354-a9eb-dddf4cebd076",
   "metadata": {},
   "outputs": [],
   "source": []
  },
  {
   "cell_type": "markdown",
   "id": "3dfd4bf2-ec68-41b9-84af-b35955dac0a0",
   "metadata": {},
   "source": [
    "\n",
    "### 2.1 MCluster\n",
    "- Implement Model-based clustering on the data using TF-IDF vectors. Use the 'talk.politics.guns' and 'sci.space' categories.\n",
    "- Identify the clusters and compare them with different categories to see how they group together.\n",
    "- Discuss if the clustering makes sense contextually."
   ]
  },
  {
   "cell_type": "code",
   "execution_count": null,
   "id": "a446eb36-d3f0-42f7-8ef3-f0569bdede99",
   "metadata": {},
   "outputs": [],
   "source": []
  },
  {
   "cell_type": "code",
   "execution_count": null,
   "id": "a7ffb08a-4b02-4cec-bfa2-cc740bc585b1",
   "metadata": {},
   "outputs": [],
   "source": []
  },
  {
   "cell_type": "code",
   "execution_count": null,
   "id": "d8f3549e-93fd-467c-a404-6883350051cb",
   "metadata": {},
   "outputs": [],
   "source": []
  },
  {
   "cell_type": "markdown",
   "id": "5ff1205b-0ae0-42b7-8a09-737db91162e9",
   "metadata": {},
   "source": [
    "### 2.3 Hierarchical Clustering\n",
    "- Use hierarchical clustering on the sentence embeddings using the \"politics\" category.\n",
    "- Create a dendrogram and identify major clusters."
   ]
  },
  {
   "cell_type": "code",
   "execution_count": null,
   "id": "30eb2fe6-e957-4b3d-b562-73f6d6b105b8",
   "metadata": {},
   "outputs": [],
   "source": []
  },
  {
   "cell_type": "code",
   "execution_count": null,
   "id": "beb15d98-ad9c-4cc4-aad5-67ed9c90b9db",
   "metadata": {
    "scrolled": true
   },
   "outputs": [],
   "source": []
  },
  {
   "cell_type": "code",
   "execution_count": null,
   "id": "19a67720-8644-440f-ad83-ce3089eac07f",
   "metadata": {},
   "outputs": [],
   "source": []
  },
  {
   "cell_type": "markdown",
   "id": "208030c4-d2b7-47a6-9e34-5fdfde70f3d2",
   "metadata": {},
   "source": [
    "## 3. Co-occurrence Matrix\n",
    "\n",
    "- Tokenize the text and build the co-occurrence matrix for \"politics\" and \"sci.space\" data.\n",
    "- Visualize the matrix as a heatmap.\n",
    "- Compare the co-occurrence patterns between the \"politics\" and \"sci.space\".\n",
    "- Discuss any interesting word relationships or differences.\n"
   ]
  },
  {
   "cell_type": "code",
   "execution_count": null,
   "id": "407b1919-e8cb-48b4-b407-825a017afdee",
   "metadata": {
    "scrolled": true
   },
   "outputs": [],
   "source": []
  },
  {
   "cell_type": "code",
   "execution_count": null,
   "id": "1e76e307-1e73-42bc-a9f5-e11f208e9835",
   "metadata": {
    "scrolled": true
   },
   "outputs": [],
   "source": []
  },
  {
   "cell_type": "code",
   "execution_count": null,
   "id": "3b62e66a-c1dc-45a1-9fe1-afaa7cb12e42",
   "metadata": {},
   "outputs": [],
   "source": []
  },
  {
   "cell_type": "code",
   "execution_count": null,
   "id": "03f0b651-4b21-4c7f-a228-545eb429bac6",
   "metadata": {
    "scrolled": true
   },
   "outputs": [],
   "source": []
  },
  {
   "cell_type": "markdown",
   "id": "70868d9d-4bf9-40c0-a6ab-3d377bb3049d",
   "metadata": {},
   "source": [
    "## 4. Word Embeddings\n",
    "\n",
    "### 4.1 Word2Vec Exercise\n",
    "- Train a Word2Vec model on the data.\n",
    "- Find and visualize the embeddings for the top 10 most frequent words from each category.\n",
    "- Explore word analogies and nearest neighbors for selected words.\n"
   ]
  },
  {
   "cell_type": "code",
   "execution_count": null,
   "id": "12beaf12-fb0a-49e7-a6b1-42749767cae4",
   "metadata": {},
   "outputs": [],
   "source": []
  },
  {
   "cell_type": "code",
   "execution_count": null,
   "id": "475e48a0-8223-4401-88d5-a6c084364a25",
   "metadata": {},
   "outputs": [],
   "source": []
  },
  {
   "cell_type": "code",
   "execution_count": null,
   "id": "0d0f93a0-2614-40f3-853f-fb4e147f8c8f",
   "metadata": {},
   "outputs": [],
   "source": []
  },
  {
   "cell_type": "code",
   "execution_count": null,
   "id": "774992a0-5d79-4edf-8d26-5f2ee53e9d47",
   "metadata": {},
   "outputs": [],
   "source": []
  },
  {
   "cell_type": "markdown",
   "id": "fcdb73a1-f4f8-4738-bdb4-5a701a35e624",
   "metadata": {},
   "source": [
    "## 5. Similarity\n",
    "\n",
    "- Calculate the cosine similarity between the \"sci.space\" and \"comp.graphics\" using TF-IDF vectors.\n",
    "- Identify and discuss which articles are most similar between the two data."
   ]
  },
  {
   "cell_type": "code",
   "execution_count": null,
   "id": "2ae11cd8-9d39-41a8-88d6-430bad672f4e",
   "metadata": {},
   "outputs": [],
   "source": []
  },
  {
   "cell_type": "code",
   "execution_count": null,
   "id": "bc8ce868-c983-4720-a421-08c641419b9a",
   "metadata": {},
   "outputs": [],
   "source": []
  },
  {
   "cell_type": "code",
   "execution_count": null,
   "id": "4722eeef-593d-4872-804b-5c2529546de3",
   "metadata": {},
   "outputs": [],
   "source": []
  },
  {
   "cell_type": "code",
   "execution_count": null,
   "id": "03cab10c-92ca-4588-aa50-309efb131bf5",
   "metadata": {},
   "outputs": [],
   "source": []
  },
  {
   "cell_type": "markdown",
   "id": "8c609b7b-afce-4b6b-8804-38942529f690",
   "metadata": {},
   "source": [
    "## 6. Pointwise Mutual Information (PMI)\n",
    "\n",
    "- Calculate the PMI for word pairs in 'comp.graphics'.\n",
    "- Identify the top 10 word pairs with the highest PMI in each category and analyze their significance in the context of the story."
   ]
  },
  {
   "cell_type": "code",
   "execution_count": null,
   "id": "8933a3ca-848e-4a6b-95dc-e02b38f45498",
   "metadata": {},
   "outputs": [],
   "source": []
  },
  {
   "cell_type": "code",
   "execution_count": null,
   "id": "be805a24-78ee-40c7-a9e6-54001d5de31f",
   "metadata": {},
   "outputs": [],
   "source": []
  },
  {
   "cell_type": "code",
   "execution_count": null,
   "id": "4aa6b587-ec01-473e-9c08-36b047f61fd6",
   "metadata": {},
   "outputs": [],
   "source": []
  },
  {
   "cell_type": "code",
   "execution_count": null,
   "id": "fdd2239e-571a-45d1-b40b-d4cb4d5a368e",
   "metadata": {},
   "outputs": [],
   "source": []
  },
  {
   "cell_type": "markdown",
   "id": "44881cfb-a37a-4e3b-894b-e2f581eb62ec",
   "metadata": {},
   "source": [
    "## 7. Topic Modelling\n",
    "\n",
    "### 7.1 Latent Semantic Analysis (LSA) Exercise\n",
    "- Apply LSA on the topic of \"politics\".\n",
    "- Identify and interpret the top 5 topics."
   ]
  },
  {
   "cell_type": "code",
   "execution_count": null,
   "id": "487f97d3-968a-4386-abfa-7dd55a803ad1",
   "metadata": {},
   "outputs": [],
   "source": []
  },
  {
   "cell_type": "markdown",
   "id": "7137eb44-e800-4105-aab5-eb6e0fbe57dc",
   "metadata": {},
   "source": [
    "### 7.2 Latent Dirichlet Allocation (LDA) Exercise\n",
    "- Perform LDA on the data, treating each category as a document.\n",
    "- Determine the optimal number of topics using coherence scores.\n",
    "- Display the top words for each topic.\n",
    "- Discuss how well the topics represent the content of the data.\n",
    "\n",
    "Note. This may take some time"
   ]
  },
  {
   "cell_type": "code",
   "execution_count": null,
   "id": "a548b098-1888-4bb6-ab0e-1d74efb70afb",
   "metadata": {},
   "outputs": [],
   "source": []
  },
  {
   "cell_type": "code",
   "execution_count": null,
   "id": "c6181b44-3be5-44e0-8ba9-97d381234850",
   "metadata": {},
   "outputs": [],
   "source": []
  },
  {
   "cell_type": "code",
   "execution_count": null,
   "id": "50a7130b-2a72-41ea-b975-acbd1ccadc0a",
   "metadata": {},
   "outputs": [],
   "source": []
  },
  {
   "cell_type": "code",
   "execution_count": null,
   "id": "74b02129-a379-46e7-8433-042314ed564d",
   "metadata": {},
   "outputs": [],
   "source": []
  },
  {
   "cell_type": "code",
   "execution_count": null,
   "id": "cc46b768-1821-445b-87fd-ed026058ec20",
   "metadata": {},
   "outputs": [],
   "source": []
  }
 ],
 "metadata": {
  "kernelspec": {
   "display_name": "Python 3 (ipykernel)",
   "language": "python",
   "name": "python3"
  },
  "language_info": {
   "codemirror_mode": {
    "name": "ipython",
    "version": 3
   },
   "file_extension": ".py",
   "mimetype": "text/x-python",
   "name": "python",
   "nbconvert_exporter": "python",
   "pygments_lexer": "ipython3",
   "version": "3.9.18"
  }
 },
 "nbformat": 4,
 "nbformat_minor": 5
}
