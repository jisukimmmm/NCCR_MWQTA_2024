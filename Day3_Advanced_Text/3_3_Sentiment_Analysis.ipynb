{
 "cells": [
  {
   "cell_type": "markdown",
   "id": "7ea6511b-bda3-45ea-b6ca-74843758ecb7",
   "metadata": {},
   "source": [
    "<span>\n",
    "<b>Methods Workshop in Quantitative Text Analysis </b><br/>     \n",
    "<b>Author:</b> <a href=\"https://github.com/jisukimmmm\">Jisu Kim</a><br/>\n",
    "<b>Python version:</b>  >=3.6<br/>\n",
    "<b>Last update:</b> 21/05/2024\n",
    "</span>"
   ]
  },
  {
   "cell_type": "markdown",
   "id": "88cdf0bc-2870-444a-9058-0b424d904890",
   "metadata": {},
   "source": [
    "<a id='top'></a>\n",
    "# *Advanced Text analysis in Python - Lexicon-based Sentiment analysis*\n",
    "\n",
    "\n"
   ]
  },
  {
   "cell_type": "markdown",
   "id": "8bfee04f-05df-44bb-a07c-7d8a7b8559c8",
   "metadata": {},
   "source": [
    "## Table of Contents\n",
    "\n",
    "1. [Simple Dictionary-based model](#dict)\n",
    "2. [VADER](#vader)<br>\n",
    "3. [Textblob](#Textblob)<br>"
   ]
  },
  {
   "cell_type": "markdown",
   "id": "4ffab875-4110-4c6b-b612-d8c3913fc6ed",
   "metadata": {},
   "source": [
    "<a id='dict'></a>\n",
    "## 1. Simple Dictionary-based model([to top](#dict))\n",
    ">\n"
   ]
  },
  {
   "cell_type": "code",
   "execution_count": 55,
   "id": "47ee995f-9ea7-4da4-ba8c-e8f4de994dbe",
   "metadata": {},
   "outputs": [
    {
     "name": "stdout",
     "output_type": "stream",
     "text": [
      "Sentiment score for sentence 1: 0.0\n",
      "Sentiment score for sentence 2: 0.25\n"
     ]
    }
   ],
   "source": [
    "# Lexicon\n",
    "lexicon = {\"good\": 1, \"bad\": -1, \"neutral\": 0}\n",
    "\n",
    "# Sentences\n",
    "sentence1 = \"The movie was good but the ending was bad\"\n",
    "sentence2 = \"The movie was good\"\n",
    "\n",
    "# Function to calculate sentiment score for a sentence\n",
    "def calculate_sentiment_score(sentence):\n",
    "    words = sentence.lower().split()\n",
    "    positive_count = sum(1 for word in words if lexicon.get(word, 0) > 0)\n",
    "    negative_count = sum(1 for word in words if lexicon.get(word, 0) < 0)\n",
    "    total_words = len(words)\n",
    "    if total_words == 0:\n",
    "        return 0  # Return 0 if no words found\n",
    "    return (positive_count - negative_count) / total_words\n",
    "\n",
    "# Calculate sentiment scores for each sentence\n",
    "sentiment_score1 = calculate_sentiment_score(sentence1)\n",
    "sentiment_score2 = calculate_sentiment_score(sentence2)\n",
    "\n",
    "print(\"Sentiment score for sentence 1:\", sentiment_score1)\n",
    "print(\"Sentiment score for sentence 2:\", sentiment_score2)\n"
   ]
  },
  {
   "cell_type": "markdown",
   "id": "9a0a2e67-cbb1-4103-be14-3c99e1eb3ae2",
   "metadata": {},
   "source": [
    "<a id='vader'></a>\n",
    "## 2. VADER ([to top](#vader))\n",
    ">\n"
   ]
  },
  {
   "cell_type": "code",
   "execution_count": 58,
   "id": "41260be2-5ddb-4262-95d9-83c2037c98af",
   "metadata": {},
   "outputs": [],
   "source": [
    "# %pip install vaderSentiment"
   ]
  },
  {
   "cell_type": "code",
   "execution_count": 66,
   "id": "569fc410-b1a5-4879-ba67-aeec864a709c",
   "metadata": {},
   "outputs": [
    {
     "name": "stdout",
     "output_type": "stream",
     "text": [
      "Text Data and VADER Sentiment Scores:\n",
      "1. I love this product! It's amazing. - Sentiment Score: 0.85\n",
      "2. The service was terrible. I'm never coming back. - Sentiment Score: -0.48\n",
      "3. The weather today is so-so. - Sentiment Score: 0.00\n",
      "4. I'm feeling great today. - Sentiment Score: 0.68\n",
      "5. This movie is okay, but not great. - Sentiment Score: -0.61\n",
      "6. The food at that restaurant is fantastic! - Sentiment Score: 0.60\n",
      "7. I'm really disappointed with the quality of this product. - Sentiment Score: -0.53\n",
      "8. The customer support team was very helpful. - Sentiment Score: 0.70\n"
     ]
    }
   ],
   "source": [
    "import matplotlib.pyplot as plt\n",
    "from vaderSentiment.vaderSentiment import SentimentIntensityAnalyzer\n",
    "\n",
    "# Mock text data\n",
    "text_data = [\n",
    "    \"I love this product! It's amazing.\",\n",
    "    \"The service was terrible. I'm never coming back.\",\n",
    "    \"The weather today is so-so.\",\n",
    "    \"I'm feeling great today.\",\n",
    "    \"This movie is okay, but not great.\",\n",
    "    \"The food at that restaurant is fantastic!\",\n",
    "    \"I'm really disappointed with the quality of this product.\",\n",
    "    \"The customer support team was very helpful.\",\n",
    "]\n",
    "\n",
    "# VADER Sentiment Analysis\n",
    "analyzer = SentimentIntensityAnalyzer()\n",
    "vader_scores = [analyzer.polarity_scores(text)[\"compound\"] for text in text_data]\n",
    "\n",
    "# Print results\n",
    "print(\"Text Data and VADER Sentiment Scores:\")\n",
    "for i, (text, score) in enumerate(zip(text_data, vader_scores), 1):\n",
    "    print(f\"{i}. {text} - Sentiment Score: {score:.2f}\")"
   ]
  },
  {
   "cell_type": "code",
   "execution_count": 67,
   "id": "1f49eb18-631c-4407-a44d-fd20e22c5237",
   "metadata": {},
   "outputs": [
    {
     "data": {
      "image/png": "[encoded data removed]",
      "text/plain": [
       "<Figure size 600x400 with 1 Axes>"
      ]
     },
     "metadata": {},
     "output_type": "display_data"
    }
   ],
   "source": [
    "# Distribution plot\n",
    "plt.figure(figsize=(6, 4))\n",
    "plt.hist(vader_scores, bins=10, color='skyblue', edgecolor='black')\n",
    "plt.xlabel('Sentiment Score')\n",
    "plt.ylabel('Frequency')\n",
    "plt.title('Distribution of Sentiment Scores')\n",
    "plt.grid(True)\n",
    "plt.show()"
   ]
  },
  {
   "cell_type": "code",
   "execution_count": 73,
   "id": "d7054ff6-9afc-411e-8ba2-640c356c54e7",
   "metadata": {},
   "outputs": [
    {
     "name": "stdout",
     "output_type": "stream",
     "text": [
      "F1 Score: 0.87\n"
     ]
    }
   ],
   "source": [
    "from sklearn.metrics import f1_score\n",
    "\n",
    "# Mock labels for the text data (positive, negative, neutral)\n",
    "true_labels = ['positive', 'negative', 'neutral', 'positive', 'neutral', 'positive', 'negative', 'positive']\n",
    "\n",
    "# Convert VADER scores to labels based on threshold\n",
    "vader_labels = ['positive' if score > 0.05 else 'negative' if score < -0.05 else 'neutral' for score in vader_scores]\n",
    "\n",
    "# Compute F1 score\n",
    "f1 = f1_score(true_labels, vader_labels, average='weighted')\n",
    "\n",
    "print(f\"F1 Score: {f1:.2f}\")\n"
   ]
  },
  {
   "cell_type": "markdown",
   "id": "00f88da0-42d7-497e-84d8-6b431b4a58f5",
   "metadata": {},
   "source": [
    "<a id='Textblob'></a>\n",
    "## 3. Textblob([to top](#Textblob))\n",
    ">\n"
   ]
  },
  {
   "cell_type": "code",
   "execution_count": 75,
   "id": "82f41895-96d5-407f-b9c5-58ddc01a0814",
   "metadata": {},
   "outputs": [
    {
     "name": "stdout",
     "output_type": "stream",
     "text": [
      "Text Data and TextBlob Sentiment Scores:\n",
      "1. I love this product! It's amazing. - Sentiment Score: 0.61\n",
      "2. The service was terrible. I'm never coming back. - Sentiment Score: -0.50\n",
      "3. The weather today is so-so. - Sentiment Score: 0.00\n",
      "4. I'm feeling great today. - Sentiment Score: 0.80\n",
      "5. This movie is okay, but not great. - Sentiment Score: 0.05\n",
      "6. The food at that restaurant is fantastic! - Sentiment Score: 0.50\n",
      "7. I'm really disappointed with the quality of this product. - Sentiment Score: -0.75\n",
      "8. The customer support team was very helpful. - Sentiment Score: 0.20\n"
     ]
    }
   ],
   "source": [
    "from textblob import TextBlob\n",
    "\n",
    "# TextBlob Sentiment Analysis\n",
    "blob_scores = [TextBlob(text).sentiment.polarity for text in text_data]\n",
    "\n",
    "# Print results\n",
    "print(\"Text Data and TextBlob Sentiment Scores:\")\n",
    "for i, (text, score) in enumerate(zip(text_data, blob_scores), 1):\n",
    "    print(f\"{i}. {text} - Sentiment Score: {score:.2f}\")\n"
   ]
  },
  {
   "cell_type": "code",
   "execution_count": 71,
   "id": "071a9ca2-fd42-444a-83ce-acb7bc66deb5",
   "metadata": {},
   "outputs": [
    {
     "data": {
      "image/png": "[encoded data removed]",
      "text/plain": [
       "<Figure size 600x400 with 1 Axes>"
      ]
     },
     "metadata": {},
     "output_type": "display_data"
    }
   ],
   "source": [
    "# Distribution plot\n",
    "plt.figure(figsize=(6, 4))\n",
    "plt.hist(blob_scores, bins=10, color='skyblue', edgecolor='black')\n",
    "plt.xlabel('Sentiment Score')\n",
    "plt.ylabel('Frequency')\n",
    "plt.title('Distribution of Sentiment Scores')\n",
    "plt.grid(True)\n",
    "plt.show()"
   ]
  },
  {
   "cell_type": "code",
   "execution_count": 74,
   "id": "5ed0ab3d-4af5-4048-8e36-17343a0bdb62",
   "metadata": {},
   "outputs": [
    {
     "name": "stdout",
     "output_type": "stream",
     "text": [
      "F1 Score: 1.00\n"
     ]
    }
   ],
   "source": [
    "# Convert VADER scores to labels based on threshold\n",
    "textblob_labels = ['positive' if score > 0.05 else 'negative' if score < -0.05 else 'neutral' for score in blob_scores]\n",
    "\n",
    "# Compute F1 score\n",
    "f1 = f1_score(true_labels, textblob_labels, average='weighted')\n",
    "\n",
    "print(f\"F1 Score: {f1:.2f}\")\n"
   ]
  },
  {
   "cell_type": "code",
   "execution_count": null,
   "id": "4a70f8b0-9c11-4395-98a6-3f9cc5755ca0",
   "metadata": {},
   "outputs": [],
   "source": []
  }
 ],
 "metadata": {
  "kernelspec": {
   "display_name": "Python 3 (ipykernel)",
   "language": "python",
   "name": "python3"
  },
  "language_info": {
   "codemirror_mode": {
    "name": "ipython",
    "version": 3
   },
   "file_extension": ".py",
   "mimetype": "text/x-python",
   "name": "python",
   "nbconvert_exporter": "python",
   "pygments_lexer": "ipython3",
   "version": "3.9.18"
  }
 },
 "nbformat": 4,
 "nbformat_minor": 5
}
