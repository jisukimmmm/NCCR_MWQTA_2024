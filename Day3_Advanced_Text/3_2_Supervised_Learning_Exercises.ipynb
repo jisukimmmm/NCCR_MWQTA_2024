{
 "cells": [
  {
   "cell_type": "markdown",
   "id": "3ce0c241-457a-42ec-883c-d91a0b772a6e",
   "metadata": {},
   "source": [
    "<span>\n",
    "<b>Methods Workshop in Quantitative Text Analysis </b><br/>     \n",
    "<b>Author:</b> <a href=\"https://github.com/jisukimmmm\">Jisu Kim</a><br/>\n",
    "<b>Python version:</b>  >=3.6<br/>\n",
    "<b>Last update:</b> 21/05/2024\n",
    "</span>"
   ]
  },
  {
   "cell_type": "markdown",
   "id": "5a973201-9cfa-4c2e-8cd1-f156b3c635c7",
   "metadata": {},
   "source": [
    "<a id='top'></a>\n",
    "# *Advanced Text analysis in Python - Supervised ML - Exercises*\n",
    "\n",
    "\n",
    "In this series of exercises, we delve into the fascinating realm of Natural Language Processing (NLP) using two classic literary works: \"Alice's Adventures in Wonderland\" by Lewis Carroll and \"Frankenstein\" by Mary Shelley. These exercises focus on various NLP tasks, including Named Entity Recognition (NER), text classification, and feature importance analysis using machine learning algorithms.\n",
    "\n",
    "We start by preprocessing the text data, extracting relevant features, and labeling entities such as names of characters, locations, and organizations in the first chapters of both books. Next, we explore different machine learning models, including Support Vector Machines (SVMs), Decision Trees (DTs), and Random Forests (RFs), to perform text classification tasks."
   ]
  },
  {
   "cell_type": "markdown",
   "id": "fae49f99-279a-4c10-b152-8901da6c0c7e",
   "metadata": {},
   "source": [
    "# Exercises\n",
    "\n",
    "1. [Naive Bayes](#naive)<br>\n",
    "Document Sorting with Limited Labels: Mix text from \"Alice in Wonderland\" and \"Frankenstein\" without labels. Start with a small labeled set. Train Naive Bayes on this set. Then, classify the rest of the text using this model. Keep improving the model by adding confidently classified text to the training set. Check how well the model sorts all the text into \"Alice in Wonderland\" and \"Frankenstein\" categories.\n",
    "\n",
    "For simplicity, let's assume we have manually labeled the books.\n",
    "\n",
    "2. [Support Vector Machine](#svm)\n",
    "From here on, let's just look at the first chapters.\n",
    "\n",
    "Named Entity Recognition (NER): Train a Support Vector Machine model to perform NER on the text data, identifying and classifying entities such as names of characters, locations, and organizations in both books. Evaluate the performance of the SVM on correctly identifying named entities.\n",
    "\n",
    "4. [KNN](#knn)\n",
    "Text Clustering: Use KNN to cluster similar paragraphs from both books together based on their textual features. Experiment with different distance metrics and values of k to see how they affect the clustering results.\n",
    "\n",
    "5. [Decision treees](#dt)\n",
    "Feature Importance Analysis: Train a decision tree classifier to distinguish between \"Alice in Wonderland\" and \"Frankenstein\" chapters. After training, analyze the most important features (e.g., words or word combinations) used by the decision tree to make classification decisions.\n",
    "\n",
    "6. [Random Forest](#rf)\n",
    "Authorship Attribution: Instead of classifying by book, train a random forest classifier to predict the authorship of individual chapters or chunks of text. Use additional texts by the same authors or other similar authors to train the model, and then test it on \"Alice in Wonderland\" and \"Frankenstein\" chapters.\n"
   ]
  },
  {
   "cell_type": "markdown",
   "id": "bc581ae3-1d05-436b-bd93-66904c337488",
   "metadata": {},
   "source": [
    "## Answers\n"
   ]
  },
  {
   "cell_type": "markdown",
   "id": "ad99352e-f395-40f2-9c49-ed2460f57067",
   "metadata": {},
   "source": [
    "### Load libraries and data"
   ]
  },
  {
   "cell_type": "code",
   "execution_count": null,
   "id": "52e8dc3b-a815-4a44-bb07-6860a0688884",
   "metadata": {},
   "outputs": [],
   "source": []
  },
  {
   "cell_type": "code",
   "execution_count": null,
   "id": "ec14163d-2578-47d5-9db0-1a12263101b4",
   "metadata": {},
   "outputs": [],
   "source": []
  },
  {
   "cell_type": "markdown",
   "id": "1056bb49-f0cf-4e75-b39c-1c9d14f17659",
   "metadata": {},
   "source": [
    "### Preprocess data"
   ]
  },
  {
   "cell_type": "code",
   "execution_count": null,
   "id": "d62fc10a-fbb6-43f1-bf87-9aa6dc317759",
   "metadata": {},
   "outputs": [],
   "source": []
  },
  {
   "cell_type": "markdown",
   "id": "e8ac5bc4-3931-4c32-b7a0-8017cd8293d0",
   "metadata": {},
   "source": [
    "# 1. [Naive Bayes](#naive)<br>\n",
    "Document Sorting with Limited Labels: Mix sentences from \"Alice in Wonderland\" and \"Frankenstein\" without labels. Start with a small labeled set. Train Naive Bayes on this set. Then, classify the rest of the text using this model. Keep improving the model by adding confidently classified text to the training set. Check how well the model sorts all the text into \"Alice in Wonderland\" and \"Frankenstein\" categories."
   ]
  },
  {
   "cell_type": "code",
   "execution_count": null,
   "id": "253079c4-4577-47f1-81c7-a4e5aeba0139",
   "metadata": {},
   "outputs": [],
   "source": []
  },
  {
   "cell_type": "code",
   "execution_count": null,
   "id": "045d58b0-938d-4274-bf5a-21be3fc701c5",
   "metadata": {
    "scrolled": true
   },
   "outputs": [],
   "source": []
  },
  {
   "cell_type": "code",
   "execution_count": null,
   "id": "77b6b25c-6849-4756-93d4-a4c434b5e958",
   "metadata": {},
   "outputs": [],
   "source": []
  },
  {
   "cell_type": "markdown",
   "id": "9e826940-d80c-4c87-ba4f-8d89d114cb97",
   "metadata": {},
   "source": [
    "# 2. [Support Vector Machine](#svm)\n",
    "Named Entity Recognition (NER): Train a Support Vector Machine model to perform NER on the text data, identifying and classifying entities such as names of characters, locations, and organizations in both books. Evaluate the performance of the SVM on correctly identifying named entities."
   ]
  },
  {
   "cell_type": "code",
   "execution_count": 1,
   "id": "229c2a79-06e8-4d85-b430-f1049d41b431",
   "metadata": {},
   "outputs": [],
   "source": [
    "# python -m spacy download en_core_web_sm"
   ]
  },
  {
   "cell_type": "code",
   "execution_count": null,
   "id": "a62c0fb2-9f23-47d4-a254-2b493a16bdf5",
   "metadata": {},
   "outputs": [],
   "source": []
  },
  {
   "cell_type": "code",
   "execution_count": null,
   "id": "7f2c6433-ead5-4580-87b2-a1f7aea00f35",
   "metadata": {},
   "outputs": [],
   "source": []
  },
  {
   "cell_type": "markdown",
   "id": "7eccbb43-7d49-4893-9a8c-8d579bc1f4e2",
   "metadata": {},
   "source": [
    "# 3. [KNN](#knn)\n",
    "Text Clustering: Use KNN to cluster similar paragraphs from both books together based on their textual features. Experiment with different distance metrics and values of k to see how they affect the clustering results."
   ]
  },
  {
   "cell_type": "code",
   "execution_count": null,
   "id": "bf0bf2a8-72c1-463e-973e-865be68b25e4",
   "metadata": {},
   "outputs": [],
   "source": []
  },
  {
   "cell_type": "code",
   "execution_count": null,
   "id": "7b9ff560-81f8-47a5-86c5-4d12bd0ff325",
   "metadata": {},
   "outputs": [],
   "source": []
  },
  {
   "cell_type": "markdown",
   "id": "4d9fac33-5b06-4405-a107-59623525176c",
   "metadata": {},
   "source": [
    "# 4. [Decision treees](#dt)\n",
    "Feature Importance Analysis: Train a decision tree classifier to distinguish between \"Alice in Wonderland\" and \"Frankenstein\" chapters. After training, analyze the most important features (e.g., words or word combinations) used by the decision tree to make classification decisions.\n",
    "\n"
   ]
  },
  {
   "cell_type": "code",
   "execution_count": null,
   "id": "3cd42a4c-8b22-4176-acd9-cb4cf7652665",
   "metadata": {},
   "outputs": [],
   "source": []
  },
  {
   "cell_type": "code",
   "execution_count": null,
   "id": "2165cb9a-4581-49eb-8698-3a3a45cbf8ec",
   "metadata": {},
   "outputs": [],
   "source": []
  },
  {
   "cell_type": "code",
   "execution_count": null,
   "id": "7c026eb2-8f3f-45a4-9bf5-5f69a688cc3f",
   "metadata": {},
   "outputs": [],
   "source": []
  },
  {
   "cell_type": "code",
   "execution_count": null,
   "id": "a83c460b-ce46-4ee3-a51a-ac6a0d737468",
   "metadata": {},
   "outputs": [],
   "source": []
  },
  {
   "cell_type": "markdown",
   "id": "7e31ef5e-f6d7-42cb-8621-a2e8163e2099",
   "metadata": {},
   "source": [
    "# 5. [Random Forest](#rf)\n",
    "Authorship Attribution: Instead of classifying by book, train a random forest classifier to predict the authorship of individual chapters or chunks of text. Use additional texts by the same authors or other similar authors to train the model, and then test it on \"Alice in Wonderland\" and \"Frankenstein\" chapters.\n"
   ]
  },
  {
   "cell_type": "code",
   "execution_count": null,
   "id": "554ae994-5af8-4dcb-a747-04f1169fef7b",
   "metadata": {},
   "outputs": [],
   "source": []
  },
  {
   "cell_type": "code",
   "execution_count": null,
   "id": "fc8ba049-fb70-4ecc-b78b-34661352ffc8",
   "metadata": {},
   "outputs": [],
   "source": []
  },
  {
   "cell_type": "code",
   "execution_count": null,
   "id": "a247652a-3002-4ae4-baab-4d1d82575c9d",
   "metadata": {},
   "outputs": [],
   "source": []
  }
 ],
 "metadata": {
  "kernelspec": {
   "display_name": "Python 3 (ipykernel)",
   "language": "python",
   "name": "python3"
  },
  "language_info": {
   "codemirror_mode": {
    "name": "ipython",
    "version": 3
   },
   "file_extension": ".py",
   "mimetype": "text/x-python",
   "name": "python",
   "nbconvert_exporter": "python",
   "pygments_lexer": "ipython3",
   "version": "3.9.18"
  }
 },
 "nbformat": 4,
 "nbformat_minor": 5
}
