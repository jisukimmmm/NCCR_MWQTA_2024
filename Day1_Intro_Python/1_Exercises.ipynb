{
 "cells": [
  {
   "cell_type": "markdown",
   "id": "acfe1abd-5a8f-4ac2-b90e-cd880dd473f0",
   "metadata": {},
   "source": [
    "<span>\n",
    "<b>Methods Workshop in Quantitative Text Analysis </b><br/>     \n",
    "<b>Author:</b> <a href=\"https://github.com/jisukimmmm\">Jisu Kim</a><br/>\n",
    "<b>Python version:</b>  >=3.6<br/>\n",
    "<b>Last update:</b> 21/03/2024\n",
    "</span>"
   ]
  },
  {
   "cell_type": "markdown",
   "id": "eacaf613-2a2b-47f5-9231-cbc78a74eabc",
   "metadata": {},
   "source": [
    "<a id='top'></a>\n",
    "# *Introduction to Python language - Exercises*"
   ]
  },
  {
   "cell_type": "markdown",
   "id": "8256c4ad-cab7-4e8e-9352-bbb77efe75da",
   "metadata": {},
   "source": [
    "### Basic Syntax and Operations:\n",
    "1. Write a program to calculate the area of a triangle given its base and height.\n",
    "2. Create a program that converts kilometers per hour to meters per second.\n",
    "3. Write a Python script that takes a string as input and prints its reverse.\n",
    "\n",
    "### Conditional Statements and Loops:\n",
    "1. Create a program that checks whether a given year is a leap year or not.\n",
    "2. Write a Python script to find the sum of all numbers between 1 and 1000 that are divisible by both 3 and 5.\n",
    "3. Implement a program to print the first 10 terms of the geometric progression series: 2, 6, 18, 54, ...\n",
    "\n",
    "### Lists and List Operations:\n",
    "1. Create a program to find the largest and smallest elements in a list.\n",
    "2. Write a Python script to find the intersection of two lists.\n",
    "3. Implement a program to shuffle a deck of cards represented as a list.\n",
    "\n",
    "### Strings and String Operations:\n",
    "1. Write a Python script to capitalize the first letter of each word in a sentence.\n",
    "2. Create a program to find the most frequent character in a given string.\n",
    "3. Implement a program to check if a given string contains only digits.\n",
    "\n",
    "### Functions:\n",
    "1. Create a function to check whether a given number is a perfect square or not.\n",
    "2. Implement a function to reverse the elements of a list in place.\n",
    "3. Create a function to calculate the mean (average) of a list of numbers.\n",
    "\n",
    "### File Handling:\n",
    "1. Create a program to read a CSV file containing student scores and calculate their average (Use Pandas package).\n",
    "2. Write a Python script to find and print all lines containing a specific word in a text file.\n",
    "3. Implement a program to count the number of words in a text file.\n",
    "\n",
    "### Plotting:\n",
    "1. Histogram of Student Scores: Create a histogram showing the distribution of student scores.\n",
    "2. Boxplot of Student Scores: Generate a boxplot to visualize the spread and central tendency of student scores.\n",
    "3. Scatter Plot of Student Scores: Create a scatter plot to explore the relationship between student scores and student IDs.\n",
    "\n"
   ]
  },
  {
   "cell_type": "markdown",
   "id": "a5731e91-cd23-4aa1-a946-e6536aaa3c8f",
   "metadata": {},
   "source": [
    "# Answers"
   ]
  },
  {
   "cell_type": "markdown",
   "id": "fda70196-5cc0-4b50-b503-c60df3bbfdc6",
   "metadata": {},
   "source": [
    "### Basic Syntax and Operations:\n",
    "1. Calculate the area of a triangle:"
   ]
  },
  {
   "cell_type": "code",
   "execution_count": null,
   "id": "c076cc1e-4ee6-4390-925e-d3bfb57c1afd",
   "metadata": {},
   "outputs": [],
   "source": []
  },
  {
   "cell_type": "markdown",
   "id": "b987a93b-f490-48e7-beed-a0b6d67acf4a",
   "metadata": {},
   "source": [
    "2. Program to convert kilometers per hour to meters per second:"
   ]
  },
  {
   "cell_type": "code",
   "execution_count": null,
   "id": "97ae195d-6ebd-455b-8469-dba60fb8dd26",
   "metadata": {},
   "outputs": [],
   "source": []
  },
  {
   "cell_type": "markdown",
   "id": "00c7c6f1-af3d-4ff6-b7f3-d58937abc99b",
   "metadata": {},
   "source": [
    "3. Python script to reverse a string:"
   ]
  },
  {
   "cell_type": "code",
   "execution_count": null,
   "id": "b8723237-9326-4dcf-b3bc-c5af1ec123d2",
   "metadata": {},
   "outputs": [],
   "source": []
  },
  {
   "cell_type": "markdown",
   "id": "6b4e828b-4641-460b-bf03-912ca118512f",
   "metadata": {},
   "source": [
    "### Conditional Statements and Loops:\n",
    "1. Check if a year is a leap year:"
   ]
  },
  {
   "cell_type": "code",
   "execution_count": null,
   "id": "ee7df0e0-96ca-4c88-a55c-958636afb404",
   "metadata": {},
   "outputs": [],
   "source": []
  },
  {
   "cell_type": "markdown",
   "id": "7a19a457-e649-4f35-94df-4c28b11ea4e1",
   "metadata": {},
   "source": [
    "2. Python script to find the sum of all numbers between 1 and 1000 that are divisible by both 3 and 5:"
   ]
  },
  {
   "cell_type": "code",
   "execution_count": null,
   "id": "adc68134-1f39-4483-bc15-acdd127f0f56",
   "metadata": {},
   "outputs": [],
   "source": []
  },
  {
   "cell_type": "markdown",
   "id": "8c3c08a8-da2a-47a5-8f84-a8ef2f549bfe",
   "metadata": {},
   "source": [
    "3. Program to print the first 10 terms of the geometric progression series: 2, 6, 18, 54, ..."
   ]
  },
  {
   "cell_type": "code",
   "execution_count": null,
   "id": "9d2419dd-f37f-4c30-9d2e-590214ec7078",
   "metadata": {},
   "outputs": [],
   "source": []
  },
  {
   "cell_type": "markdown",
   "id": "01a3a280-c474-46b7-b830-ec7e0cfcdfd7",
   "metadata": {},
   "source": [
    "### Lists and List Operations:\n",
    "3. Find the largest and smallest elements in a list:"
   ]
  },
  {
   "cell_type": "code",
   "execution_count": null,
   "id": "4f3454af-e6f3-4e49-97cf-8d4e35bda2c2",
   "metadata": {},
   "outputs": [],
   "source": []
  },
  {
   "cell_type": "markdown",
   "id": "605f2a4b-524c-47e9-b670-ad6c59edbe9a",
   "metadata": {},
   "source": [
    "2. Python script to find the intersection of two lists:"
   ]
  },
  {
   "cell_type": "code",
   "execution_count": null,
   "id": "3cdd155b-78e1-473b-a574-bf3c2cb60690",
   "metadata": {},
   "outputs": [],
   "source": []
  },
  {
   "cell_type": "markdown",
   "id": "a2b0ecc3-32cc-47ed-b7f1-189632c134ce",
   "metadata": {},
   "source": [
    "3. Program to shuffle a deck of cards represented as a list:"
   ]
  },
  {
   "cell_type": "code",
   "execution_count": null,
   "id": "52e97b60-9206-4927-8fc9-abe1961919d4",
   "metadata": {
    "scrolled": true
   },
   "outputs": [],
   "source": []
  },
  {
   "cell_type": "markdown",
   "id": "27404164-f768-437e-b8cf-b3fe75bf95e6",
   "metadata": {},
   "source": [
    "### Strings and String Operations:\n",
    "4. Capitalize the first letter of each word in a sentence:"
   ]
  },
  {
   "cell_type": "code",
   "execution_count": null,
   "id": "4553952c-b19b-4f95-a1e7-934f157bf3a0",
   "metadata": {},
   "outputs": [],
   "source": []
  },
  {
   "cell_type": "markdown",
   "id": "f2ec1f07-0049-47c1-b50c-02f4ffe1d060",
   "metadata": {},
   "source": [
    "2. Program to find the most frequent character in a given string:"
   ]
  },
  {
   "cell_type": "code",
   "execution_count": null,
   "id": "66abd848-61d2-4602-951b-adf968864d55",
   "metadata": {},
   "outputs": [],
   "source": []
  },
  {
   "cell_type": "markdown",
   "id": "c841fc06-d05c-4d5c-ae77-174f9f9cf6e1",
   "metadata": {},
   "source": [
    "3. Program to check if a given string contains only digits:"
   ]
  },
  {
   "cell_type": "code",
   "execution_count": null,
   "id": "4f9afdcf-4137-406a-afdb-c684a1964285",
   "metadata": {},
   "outputs": [],
   "source": []
  },
  {
   "cell_type": "markdown",
   "id": "6c96ea0e-994d-4f28-b6dc-38f08ae11b6a",
   "metadata": {},
   "source": [
    "### Functions:\n",
    "5. Check if a number is a perfect square:"
   ]
  },
  {
   "cell_type": "code",
   "execution_count": null,
   "id": "3568ca94-377b-4ba2-ad09-34d8f7cfb391",
   "metadata": {},
   "outputs": [],
   "source": []
  },
  {
   "cell_type": "markdown",
   "id": "bbea180e-03aa-4fe6-88ae-0d726c7b7c34",
   "metadata": {},
   "source": [
    "2. Implement a function to reverse the elements of a list in place."
   ]
  },
  {
   "cell_type": "code",
   "execution_count": null,
   "id": "c9dd4b4a-09d9-4ac6-9e9e-aaaf4f3dbe19",
   "metadata": {},
   "outputs": [],
   "source": []
  },
  {
   "cell_type": "markdown",
   "id": "0420638d-f0ea-4f5d-b92c-d71319e2fabf",
   "metadata": {},
   "source": [
    "3. Create a function to calculate the mean (average) of a list of numbers."
   ]
  },
  {
   "cell_type": "code",
   "execution_count": null,
   "id": "bfb82979-4e7b-44a0-ba20-ea20f1f3b1ce",
   "metadata": {},
   "outputs": [],
   "source": []
  },
  {
   "cell_type": "markdown",
   "id": "90d96ae6-a744-4072-a06e-314e6c5710f9",
   "metadata": {},
   "source": [
    "### File Handling:\n",
    "6. Read a CSV file containing student scores and calculate their average (Use Pandas package):"
   ]
  },
  {
   "cell_type": "code",
   "execution_count": null,
   "id": "ec998926-6363-4b77-879c-3877d1bbc382",
   "metadata": {},
   "outputs": [],
   "source": []
  },
  {
   "cell_type": "markdown",
   "id": "1861ce1b-2fea-4995-980b-905832c96699",
   "metadata": {},
   "source": [
    "2. Write a Python script to find and print all lines containing a specific word in a text file."
   ]
  },
  {
   "cell_type": "code",
   "execution_count": null,
   "id": "0112f81f-f7af-4a77-8229-fc2c97382d83",
   "metadata": {},
   "outputs": [],
   "source": []
  },
  {
   "cell_type": "markdown",
   "id": "16050e54-2d2c-47be-9eb2-bdfa894ac244",
   "metadata": {},
   "source": [
    "3. Implement a program to count the number of words in a text file."
   ]
  },
  {
   "cell_type": "code",
   "execution_count": null,
   "id": "13f8ceac-78d6-4283-9d91-0a4b38f7fa40",
   "metadata": {},
   "outputs": [],
   "source": []
  },
  {
   "cell_type": "markdown",
   "id": "4c26f05d-4710-458c-8912-26e115be78a3",
   "metadata": {},
   "source": [
    "### Histogram of Student Scores:"
   ]
  },
  {
   "cell_type": "code",
   "execution_count": null,
   "id": "e3b92577-7a59-4d70-9315-3e0507767221",
   "metadata": {},
   "outputs": [],
   "source": []
  },
  {
   "cell_type": "markdown",
   "id": "f8789868-f0d2-470d-ab2e-99574e8b1834",
   "metadata": {},
   "source": [
    "### Boxplot of Student Scores:"
   ]
  },
  {
   "cell_type": "code",
   "execution_count": null,
   "id": "52fa9fb5-e44b-469f-9f74-31a33fdba469",
   "metadata": {},
   "outputs": [],
   "source": []
  },
  {
   "cell_type": "markdown",
   "id": "f38d92b9-b0fd-4d02-9ea5-ac177cea0312",
   "metadata": {
    "scrolled": true
   },
   "source": [
    "### Scatter Plot of Student Scores:"
   ]
  },
  {
   "cell_type": "code",
   "execution_count": null,
   "id": "41e4097e-fa86-4476-abdb-003a95472fba",
   "metadata": {},
   "outputs": [],
   "source": []
  },
  {
   "cell_type": "code",
   "execution_count": null,
   "id": "ad760d91-9557-48c9-a130-31cf9b4083c3",
   "metadata": {},
   "outputs": [],
   "source": []
  }
 ],
 "metadata": {
  "kernelspec": {
   "display_name": "Python 3 (ipykernel)",
   "language": "python",
   "name": "python3"
  },
  "language_info": {
   "codemirror_mode": {
    "name": "ipython",
    "version": 3
   },
   "file_extension": ".py",
   "mimetype": "text/x-python",
   "name": "python",
   "nbconvert_exporter": "python",
   "pygments_lexer": "ipython3",
   "version": "3.9.18"
  }
 },
 "nbformat": 4,
 "nbformat_minor": 5
}
